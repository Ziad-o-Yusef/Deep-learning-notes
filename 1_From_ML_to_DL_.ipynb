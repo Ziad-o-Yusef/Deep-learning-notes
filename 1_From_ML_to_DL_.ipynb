{
  "cells": [
    {
      "cell_type": "markdown",
      "metadata": {
        "id": "view-in-github",
        "colab_type": "text"
      },
      "source": [
        "<a href=\"https://colab.research.google.com/github/Ziad-o-Yusef/Deep-learning-notes/blob/main/1_From_ML_to_DL_.ipynb\" target=\"_parent\"><img src=\"https://colab.research.google.com/assets/colab-badge.svg\" alt=\"Open In Colab\"/></a>"
      ]
    },
    {
      "cell_type": "code",
      "execution_count": 110,
      "metadata": {
        "id": "cLhayPYgcE4x"
      },
      "outputs": [],
      "source": [
        "import os\n",
        "from sklearn.linear_model import LogisticRegression \n",
        "from sklearn import svm\n",
        "from sklearn.neighbors import KNeighborsClassifier \n",
        "from sklearn.naive_bayes import GaussianNB \n",
        "from sklearn.tree import DecisionTreeClassifier \n",
        "from sklearn.discriminant_analysis import LinearDiscriminantAnalysis\n",
        "from sklearn.linear_model import Perceptron\n",
        "from xgboost import XGBClassifier\n",
        "from sklearn.ensemble import AdaBoostClassifier ,GradientBoostingClassifier , RandomForestClassifier"
      ]
    },
    {
      "cell_type": "code",
      "execution_count": 2,
      "metadata": {
        "colab": {
          "base_uri": "https://localhost:8080/"
        },
        "id": "SFDDsfHtf2bC",
        "outputId": "e5bfa88e-8dbc-4908-8881-ce4c35de14ed"
      },
      "outputs": [
        {
          "output_type": "stream",
          "name": "stdout",
          "text": [
            "Drive already mounted at /content/drive; to attempt to forcibly remount, call drive.mount(\"/content/drive\", force_remount=True).\n"
          ]
        }
      ],
      "source": [
        "from google.colab import drive\n",
        "drive.mount('/content/drive')"
      ]
    },
    {
      "cell_type": "code",
      "execution_count": 3,
      "metadata": {
        "id": "Q3hcoOKQdm8e"
      },
      "outputs": [],
      "source": [
        "os.environ['KAGGLE_CONFIG_DIR'] = \"/content/drive/MyDrive/Kaggle_MyAPI\""
      ]
    },
    {
      "cell_type": "code",
      "execution_count": 3,
      "metadata": {
        "id": "-CFiZpAyd2Do"
      },
      "outputs": [],
      "source": []
    },
    {
      "cell_type": "code",
      "execution_count": 4,
      "metadata": {
        "colab": {
          "base_uri": "https://localhost:8080/"
        },
        "id": "kpwBK-nAd99s",
        "outputId": "40670a01-9d17-4764-be4e-d8b775503a85"
      },
      "outputs": [
        {
          "output_type": "stream",
          "name": "stdout",
          "text": [
            "Downloading tabular-playground-series-sep-2021.zip to /content\n",
            " 98% 584M/597M [00:03<00:00, 127MB/s]\n",
            "100% 597M/597M [00:03<00:00, 160MB/s]\n"
          ]
        }
      ],
      "source": [
        "! kaggle competitions download -c tabular-playground-series-sep-2021 "
      ]
    },
    {
      "cell_type": "code",
      "execution_count": 5,
      "metadata": {
        "colab": {
          "base_uri": "https://localhost:8080/"
        },
        "id": "XnpTrkm7eugD",
        "outputId": "ccdead5b-419f-4cce-b179-cd8b78b07809"
      },
      "outputs": [
        {
          "output_type": "stream",
          "name": "stdout",
          "text": [
            "Archive:  /content/tabular-playground-series-sep-2021.zip\n",
            "  inflating: sample_solution.csv     \n",
            "  inflating: test.csv                \n",
            "  inflating: train.csv               \n"
          ]
        }
      ],
      "source": [
        "! unzip /content/tabular-playground-series-sep-2021.zip"
      ]
    },
    {
      "cell_type": "code",
      "execution_count": 6,
      "metadata": {
        "id": "GqFNjjiEfA8P"
      },
      "outputs": [],
      "source": [
        "import pandas as pd\n"
      ]
    },
    {
      "cell_type": "code",
      "execution_count": 76,
      "metadata": {
        "id": "mq14jKJ3hwbz"
      },
      "outputs": [],
      "source": [
        "train_df = pd.read_csv(\"/content/train.csv\")\n"
      ]
    },
    {
      "cell_type": "code",
      "execution_count": 8,
      "metadata": {
        "id": "3uq0v-6Ih98D",
        "colab": {
          "base_uri": "https://localhost:8080/",
          "height": 299
        },
        "outputId": "07ce7152-4cea-45a4-ea1e-d448cc753229"
      },
      "outputs": [
        {
          "output_type": "execute_result",
          "data": {
            "text/plain": [
              "   id       f1        f2         f3        f4       f5        f6       f7  \\\n",
              "0   0  0.10859  0.004314    -37.566  0.017364  0.28915 -10.25100   135.12   \n",
              "1   1  0.10090  0.299610  11822.000  0.276500  0.45970  -0.83733  1721.90   \n",
              "2   2  0.17803 -0.006980    907.270  0.272140  0.45948   0.17327  2298.00   \n",
              "3   3  0.15236  0.007259    780.100  0.025179  0.51947   7.49140   112.51   \n",
              "4   4  0.11623  0.502900   -109.150  0.297910  0.34490  -0.40932  2538.90   \n",
              "\n",
              "         f8            f9  ...     f110    f111     f112      f113      f114  \\\n",
              "0  168900.0  3.992400e+14  ... -12.2280  1.7482  1.90960  -7.11570   4378.80   \n",
              "1  119810.0  3.874100e+15  ... -56.7580  4.1684  0.34808   4.14200    913.23   \n",
              "2  360650.0  1.224500e+13  ...  -5.7688  1.2042  0.26290   8.13120  45119.00   \n",
              "3  259490.0  7.781400e+13  ... -34.8580  2.0694  0.79631 -16.33600   4952.40   \n",
              "4   65332.0  1.907200e+15  ... -13.6410  1.5298  1.14640  -0.43124   3856.50   \n",
              "\n",
              "     f115          f116    f117     f118  claim  \n",
              "0  1.2096  8.613400e+14   140.1  1.01770      1  \n",
              "1  1.2464  7.575100e+15  1861.0  0.28359      0  \n",
              "2  1.1764  3.218100e+14  3838.2  0.40690      1  \n",
              "3  1.1784  4.533000e+12  4889.1  0.51486      1  \n",
              "4  1.4830 -8.991300e+12     NaN  0.23049      1  \n",
              "\n",
              "[5 rows x 120 columns]"
            ],
            "text/html": [
              "\n",
              "  <div id=\"df-6ee42b33-1e25-4d92-9508-05675bcf7d8f\">\n",
              "    <div class=\"colab-df-container\">\n",
              "      <div>\n",
              "<style scoped>\n",
              "    .dataframe tbody tr th:only-of-type {\n",
              "        vertical-align: middle;\n",
              "    }\n",
              "\n",
              "    .dataframe tbody tr th {\n",
              "        vertical-align: top;\n",
              "    }\n",
              "\n",
              "    .dataframe thead th {\n",
              "        text-align: right;\n",
              "    }\n",
              "</style>\n",
              "<table border=\"1\" class=\"dataframe\">\n",
              "  <thead>\n",
              "    <tr style=\"text-align: right;\">\n",
              "      <th></th>\n",
              "      <th>id</th>\n",
              "      <th>f1</th>\n",
              "      <th>f2</th>\n",
              "      <th>f3</th>\n",
              "      <th>f4</th>\n",
              "      <th>f5</th>\n",
              "      <th>f6</th>\n",
              "      <th>f7</th>\n",
              "      <th>f8</th>\n",
              "      <th>f9</th>\n",
              "      <th>...</th>\n",
              "      <th>f110</th>\n",
              "      <th>f111</th>\n",
              "      <th>f112</th>\n",
              "      <th>f113</th>\n",
              "      <th>f114</th>\n",
              "      <th>f115</th>\n",
              "      <th>f116</th>\n",
              "      <th>f117</th>\n",
              "      <th>f118</th>\n",
              "      <th>claim</th>\n",
              "    </tr>\n",
              "  </thead>\n",
              "  <tbody>\n",
              "    <tr>\n",
              "      <th>0</th>\n",
              "      <td>0</td>\n",
              "      <td>0.10859</td>\n",
              "      <td>0.004314</td>\n",
              "      <td>-37.566</td>\n",
              "      <td>0.017364</td>\n",
              "      <td>0.28915</td>\n",
              "      <td>-10.25100</td>\n",
              "      <td>135.12</td>\n",
              "      <td>168900.0</td>\n",
              "      <td>3.992400e+14</td>\n",
              "      <td>...</td>\n",
              "      <td>-12.2280</td>\n",
              "      <td>1.7482</td>\n",
              "      <td>1.90960</td>\n",
              "      <td>-7.11570</td>\n",
              "      <td>4378.80</td>\n",
              "      <td>1.2096</td>\n",
              "      <td>8.613400e+14</td>\n",
              "      <td>140.1</td>\n",
              "      <td>1.01770</td>\n",
              "      <td>1</td>\n",
              "    </tr>\n",
              "    <tr>\n",
              "      <th>1</th>\n",
              "      <td>1</td>\n",
              "      <td>0.10090</td>\n",
              "      <td>0.299610</td>\n",
              "      <td>11822.000</td>\n",
              "      <td>0.276500</td>\n",
              "      <td>0.45970</td>\n",
              "      <td>-0.83733</td>\n",
              "      <td>1721.90</td>\n",
              "      <td>119810.0</td>\n",
              "      <td>3.874100e+15</td>\n",
              "      <td>...</td>\n",
              "      <td>-56.7580</td>\n",
              "      <td>4.1684</td>\n",
              "      <td>0.34808</td>\n",
              "      <td>4.14200</td>\n",
              "      <td>913.23</td>\n",
              "      <td>1.2464</td>\n",
              "      <td>7.575100e+15</td>\n",
              "      <td>1861.0</td>\n",
              "      <td>0.28359</td>\n",
              "      <td>0</td>\n",
              "    </tr>\n",
              "    <tr>\n",
              "      <th>2</th>\n",
              "      <td>2</td>\n",
              "      <td>0.17803</td>\n",
              "      <td>-0.006980</td>\n",
              "      <td>907.270</td>\n",
              "      <td>0.272140</td>\n",
              "      <td>0.45948</td>\n",
              "      <td>0.17327</td>\n",
              "      <td>2298.00</td>\n",
              "      <td>360650.0</td>\n",
              "      <td>1.224500e+13</td>\n",
              "      <td>...</td>\n",
              "      <td>-5.7688</td>\n",
              "      <td>1.2042</td>\n",
              "      <td>0.26290</td>\n",
              "      <td>8.13120</td>\n",
              "      <td>45119.00</td>\n",
              "      <td>1.1764</td>\n",
              "      <td>3.218100e+14</td>\n",
              "      <td>3838.2</td>\n",
              "      <td>0.40690</td>\n",
              "      <td>1</td>\n",
              "    </tr>\n",
              "    <tr>\n",
              "      <th>3</th>\n",
              "      <td>3</td>\n",
              "      <td>0.15236</td>\n",
              "      <td>0.007259</td>\n",
              "      <td>780.100</td>\n",
              "      <td>0.025179</td>\n",
              "      <td>0.51947</td>\n",
              "      <td>7.49140</td>\n",
              "      <td>112.51</td>\n",
              "      <td>259490.0</td>\n",
              "      <td>7.781400e+13</td>\n",
              "      <td>...</td>\n",
              "      <td>-34.8580</td>\n",
              "      <td>2.0694</td>\n",
              "      <td>0.79631</td>\n",
              "      <td>-16.33600</td>\n",
              "      <td>4952.40</td>\n",
              "      <td>1.1784</td>\n",
              "      <td>4.533000e+12</td>\n",
              "      <td>4889.1</td>\n",
              "      <td>0.51486</td>\n",
              "      <td>1</td>\n",
              "    </tr>\n",
              "    <tr>\n",
              "      <th>4</th>\n",
              "      <td>4</td>\n",
              "      <td>0.11623</td>\n",
              "      <td>0.502900</td>\n",
              "      <td>-109.150</td>\n",
              "      <td>0.297910</td>\n",
              "      <td>0.34490</td>\n",
              "      <td>-0.40932</td>\n",
              "      <td>2538.90</td>\n",
              "      <td>65332.0</td>\n",
              "      <td>1.907200e+15</td>\n",
              "      <td>...</td>\n",
              "      <td>-13.6410</td>\n",
              "      <td>1.5298</td>\n",
              "      <td>1.14640</td>\n",
              "      <td>-0.43124</td>\n",
              "      <td>3856.50</td>\n",
              "      <td>1.4830</td>\n",
              "      <td>-8.991300e+12</td>\n",
              "      <td>NaN</td>\n",
              "      <td>0.23049</td>\n",
              "      <td>1</td>\n",
              "    </tr>\n",
              "  </tbody>\n",
              "</table>\n",
              "<p>5 rows × 120 columns</p>\n",
              "</div>\n",
              "      <button class=\"colab-df-convert\" onclick=\"convertToInteractive('df-6ee42b33-1e25-4d92-9508-05675bcf7d8f')\"\n",
              "              title=\"Convert this dataframe to an interactive table.\"\n",
              "              style=\"display:none;\">\n",
              "        \n",
              "  <svg xmlns=\"http://www.w3.org/2000/svg\" height=\"24px\"viewBox=\"0 0 24 24\"\n",
              "       width=\"24px\">\n",
              "    <path d=\"M0 0h24v24H0V0z\" fill=\"none\"/>\n",
              "    <path d=\"M18.56 5.44l.94 2.06.94-2.06 2.06-.94-2.06-.94-.94-2.06-.94 2.06-2.06.94zm-11 1L8.5 8.5l.94-2.06 2.06-.94-2.06-.94L8.5 2.5l-.94 2.06-2.06.94zm10 10l.94 2.06.94-2.06 2.06-.94-2.06-.94-.94-2.06-.94 2.06-2.06.94z\"/><path d=\"M17.41 7.96l-1.37-1.37c-.4-.4-.92-.59-1.43-.59-.52 0-1.04.2-1.43.59L10.3 9.45l-7.72 7.72c-.78.78-.78 2.05 0 2.83L4 21.41c.39.39.9.59 1.41.59.51 0 1.02-.2 1.41-.59l7.78-7.78 2.81-2.81c.8-.78.8-2.07 0-2.86zM5.41 20L4 18.59l7.72-7.72 1.47 1.35L5.41 20z\"/>\n",
              "  </svg>\n",
              "      </button>\n",
              "      \n",
              "  <style>\n",
              "    .colab-df-container {\n",
              "      display:flex;\n",
              "      flex-wrap:wrap;\n",
              "      gap: 12px;\n",
              "    }\n",
              "\n",
              "    .colab-df-convert {\n",
              "      background-color: #E8F0FE;\n",
              "      border: none;\n",
              "      border-radius: 50%;\n",
              "      cursor: pointer;\n",
              "      display: none;\n",
              "      fill: #1967D2;\n",
              "      height: 32px;\n",
              "      padding: 0 0 0 0;\n",
              "      width: 32px;\n",
              "    }\n",
              "\n",
              "    .colab-df-convert:hover {\n",
              "      background-color: #E2EBFA;\n",
              "      box-shadow: 0px 1px 2px rgba(60, 64, 67, 0.3), 0px 1px 3px 1px rgba(60, 64, 67, 0.15);\n",
              "      fill: #174EA6;\n",
              "    }\n",
              "\n",
              "    [theme=dark] .colab-df-convert {\n",
              "      background-color: #3B4455;\n",
              "      fill: #D2E3FC;\n",
              "    }\n",
              "\n",
              "    [theme=dark] .colab-df-convert:hover {\n",
              "      background-color: #434B5C;\n",
              "      box-shadow: 0px 1px 3px 1px rgba(0, 0, 0, 0.15);\n",
              "      filter: drop-shadow(0px 1px 2px rgba(0, 0, 0, 0.3));\n",
              "      fill: #FFFFFF;\n",
              "    }\n",
              "  </style>\n",
              "\n",
              "      <script>\n",
              "        const buttonEl =\n",
              "          document.querySelector('#df-6ee42b33-1e25-4d92-9508-05675bcf7d8f button.colab-df-convert');\n",
              "        buttonEl.style.display =\n",
              "          google.colab.kernel.accessAllowed ? 'block' : 'none';\n",
              "\n",
              "        async function convertToInteractive(key) {\n",
              "          const element = document.querySelector('#df-6ee42b33-1e25-4d92-9508-05675bcf7d8f');\n",
              "          const dataTable =\n",
              "            await google.colab.kernel.invokeFunction('convertToInteractive',\n",
              "                                                     [key], {});\n",
              "          if (!dataTable) return;\n",
              "\n",
              "          const docLinkHtml = 'Like what you see? Visit the ' +\n",
              "            '<a target=\"_blank\" href=https://colab.research.google.com/notebooks/data_table.ipynb>data table notebook</a>'\n",
              "            + ' to learn more about interactive tables.';\n",
              "          element.innerHTML = '';\n",
              "          dataTable['output_type'] = 'display_data';\n",
              "          await google.colab.output.renderOutput(dataTable, element);\n",
              "          const docLink = document.createElement('div');\n",
              "          docLink.innerHTML = docLinkHtml;\n",
              "          element.appendChild(docLink);\n",
              "        }\n",
              "      </script>\n",
              "    </div>\n",
              "  </div>\n",
              "  "
            ]
          },
          "metadata": {},
          "execution_count": 8
        }
      ],
      "source": [
        "train_df.head()"
      ]
    },
    {
      "cell_type": "markdown",
      "source": [
        "# ML MODEL"
      ],
      "metadata": {
        "id": "TAD8wME_rsGD"
      }
    },
    {
      "cell_type": "code",
      "execution_count": 77,
      "metadata": {
        "id": "71Nv7WfniLZk",
        "colab": {
          "base_uri": "https://localhost:8080/"
        },
        "outputId": "b9a6929f-16a7-4a5b-80e1-86d502556cb7"
      },
      "outputs": [
        {
          "output_type": "execute_result",
          "data": {
            "text/plain": [
              "(957919, 120)"
            ]
          },
          "metadata": {},
          "execution_count": 77
        }
      ],
      "source": [
        "train_df.shape"
      ]
    },
    {
      "cell_type": "code",
      "execution_count": 78,
      "metadata": {
        "id": "K5XqE7j9iPDq",
        "colab": {
          "base_uri": "https://localhost:8080/"
        },
        "outputId": "8bbc9b26-5f39-4773-ccdf-6b11d51bf71f"
      },
      "outputs": [
        {
          "output_type": "execute_result",
          "data": {
            "text/plain": [
              "1820782"
            ]
          },
          "metadata": {},
          "execution_count": 78
        }
      ],
      "source": [
        "train_df.isnull().values.sum()"
      ]
    },
    {
      "cell_type": "code",
      "execution_count": 79,
      "metadata": {
        "id": "s8-TGdz6i-tN",
        "colab": {
          "base_uri": "https://localhost:8080/"
        },
        "outputId": "40d706ca-d252-4fd6-a5fa-73e714d23d28"
      },
      "outputs": [
        {
          "output_type": "stream",
          "name": "stdout",
          "text": [
            "col num : 1 /  f1 / 15247 nulls /1.59 %\n",
            "col num : 2 /  f2 / 15190 nulls /1.59 %\n",
            "col num : 3 /  f3 / 15491 nulls /1.62 %\n",
            "col num : 4 /  f4 / 15560 nulls /1.62 %\n",
            "col num : 5 /  f5 / 15405 nulls /1.61 %\n",
            "col num : 6 /  f6 / 15521 nulls /1.62 %\n",
            "col num : 7 /  f7 / 15504 nulls /1.62 %\n",
            "col num : 8 /  f8 / 15373 nulls /1.6 %\n",
            "col num : 9 /  f9 / 15249 nulls /1.59 %\n",
            "col num : 10 /  f10 / 15223 nulls /1.59 %\n",
            "col num : 11 /  f11 / 15425 nulls /1.61 %\n",
            "col num : 12 /  f12 / 15593 nulls /1.63 %\n",
            "col num : 13 /  f13 / 15464 nulls /1.61 %\n",
            "col num : 14 /  f14 / 15222 nulls /1.59 %\n",
            "col num : 15 /  f15 / 15509 nulls /1.62 %\n",
            "col num : 16 /  f16 / 15444 nulls /1.61 %\n",
            "col num : 17 /  f17 / 15427 nulls /1.61 %\n",
            "col num : 18 /  f18 / 15325 nulls /1.6 %\n",
            "col num : 19 /  f19 / 15474 nulls /1.62 %\n",
            "col num : 20 /  f20 / 15455 nulls /1.61 %\n",
            "col num : 21 /  f21 / 15454 nulls /1.61 %\n",
            "col num : 22 /  f22 / 15278 nulls /1.59 %\n",
            "col num : 23 /  f23 / 15356 nulls /1.6 %\n",
            "col num : 24 /  f24 / 15630 nulls /1.63 %\n",
            "col num : 25 /  f25 / 15506 nulls /1.62 %\n",
            "col num : 26 /  f26 / 15358 nulls /1.6 %\n",
            "col num : 27 /  f27 / 15444 nulls /1.61 %\n",
            "col num : 28 /  f28 / 15265 nulls /1.59 %\n",
            "col num : 29 /  f29 / 15415 nulls /1.61 %\n",
            "col num : 30 /  f30 / 15392 nulls /1.61 %\n",
            "col num : 31 /  f31 / 15678 nulls /1.64 %\n",
            "col num : 32 /  f32 / 15529 nulls /1.62 %\n",
            "col num : 33 /  f33 / 15492 nulls /1.62 %\n",
            "col num : 34 /  f34 / 15248 nulls /1.59 %\n",
            "col num : 35 /  f35 / 15334 nulls /1.6 %\n",
            "col num : 36 /  f36 / 15363 nulls /1.6 %\n",
            "col num : 37 /  f37 / 15312 nulls /1.6 %\n",
            "col num : 38 /  f38 / 15434 nulls /1.61 %\n",
            "col num : 39 /  f39 / 15559 nulls /1.62 %\n",
            "col num : 40 /  f40 / 15368 nulls /1.6 %\n",
            "col num : 41 /  f41 / 15396 nulls /1.61 %\n",
            "col num : 42 /  f42 / 15416 nulls /1.61 %\n",
            "col num : 43 /  f43 / 15455 nulls /1.61 %\n",
            "col num : 44 /  f44 / 15463 nulls /1.61 %\n",
            "col num : 45 /  f45 / 15483 nulls /1.62 %\n",
            "col num : 46 /  f46 / 15633 nulls /1.63 %\n",
            "col num : 47 /  f47 / 15523 nulls /1.62 %\n",
            "col num : 48 /  f48 / 15446 nulls /1.61 %\n",
            "col num : 49 /  f49 / 15380 nulls /1.61 %\n",
            "col num : 50 /  f50 / 15562 nulls /1.62 %\n",
            "col num : 51 /  f51 / 15432 nulls /1.61 %\n",
            "col num : 52 /  f52 / 15315 nulls /1.6 %\n",
            "col num : 53 /  f53 / 15462 nulls /1.61 %\n",
            "col num : 54 /  f54 / 15425 nulls /1.61 %\n",
            "col num : 55 /  f55 / 15422 nulls /1.61 %\n",
            "col num : 56 /  f56 / 15467 nulls /1.61 %\n",
            "col num : 57 /  f57 / 15573 nulls /1.63 %\n",
            "col num : 58 /  f58 / 15455 nulls /1.61 %\n",
            "col num : 59 /  f59 / 15400 nulls /1.61 %\n",
            "col num : 60 /  f60 / 15560 nulls /1.62 %\n",
            "col num : 61 /  f61 / 15431 nulls /1.61 %\n",
            "col num : 62 /  f62 / 15518 nulls /1.62 %\n",
            "col num : 63 /  f63 / 15410 nulls /1.61 %\n",
            "col num : 64 /  f64 / 15578 nulls /1.63 %\n",
            "col num : 65 /  f65 / 15414 nulls /1.61 %\n",
            "col num : 66 /  f66 / 15414 nulls /1.61 %\n",
            "col num : 67 /  f67 / 15486 nulls /1.62 %\n",
            "col num : 68 /  f68 / 15619 nulls /1.63 %\n",
            "col num : 69 /  f69 / 15552 nulls /1.62 %\n",
            "col num : 70 /  f70 / 15262 nulls /1.59 %\n",
            "col num : 71 /  f71 / 15482 nulls /1.62 %\n",
            "col num : 72 /  f72 / 15219 nulls /1.59 %\n",
            "col num : 73 /  f73 / 15537 nulls /1.62 %\n",
            "col num : 74 /  f74 / 15570 nulls /1.63 %\n",
            "col num : 75 /  f75 / 15456 nulls /1.61 %\n",
            "col num : 76 /  f76 / 15569 nulls /1.63 %\n",
            "col num : 77 /  f77 / 15251 nulls /1.59 %\n",
            "col num : 78 /  f78 / 15449 nulls /1.61 %\n",
            "col num : 79 /  f79 / 15378 nulls /1.61 %\n",
            "col num : 80 /  f80 / 15320 nulls /1.6 %\n",
            "col num : 81 /  f81 / 15346 nulls /1.6 %\n",
            "col num : 82 /  f82 / 15485 nulls /1.62 %\n",
            "col num : 83 /  f83 / 15627 nulls /1.63 %\n",
            "col num : 84 /  f84 / 15385 nulls /1.61 %\n",
            "col num : 85 /  f85 / 15449 nulls /1.61 %\n",
            "col num : 86 /  f86 / 15523 nulls /1.62 %\n",
            "col num : 87 /  f87 / 15316 nulls /1.6 %\n",
            "col num : 88 /  f88 / 15548 nulls /1.62 %\n",
            "col num : 89 /  f89 / 15445 nulls /1.61 %\n",
            "col num : 90 /  f90 / 15482 nulls /1.62 %\n",
            "col num : 91 /  f91 / 15507 nulls /1.62 %\n",
            "col num : 92 /  f92 / 15492 nulls /1.62 %\n",
            "col num : 93 /  f93 / 15457 nulls /1.61 %\n",
            "col num : 94 /  f94 / 15414 nulls /1.61 %\n",
            "col num : 95 /  f95 / 15599 nulls /1.63 %\n",
            "col num : 96 /  f96 / 15285 nulls /1.6 %\n",
            "col num : 97 /  f97 / 15265 nulls /1.59 %\n",
            "col num : 98 /  f98 / 15288 nulls /1.6 %\n",
            "col num : 99 /  f99 / 15434 nulls /1.61 %\n",
            "col num : 100 /  f100 / 15526 nulls /1.62 %\n",
            "col num : 101 /  f101 / 15349 nulls /1.6 %\n",
            "col num : 102 /  f102 / 15168 nulls /1.58 %\n",
            "col num : 103 /  f103 / 15600 nulls /1.63 %\n",
            "col num : 104 /  f104 / 15198 nulls /1.59 %\n",
            "col num : 105 /  f105 / 15386 nulls /1.61 %\n",
            "col num : 106 /  f106 / 15544 nulls /1.62 %\n",
            "col num : 107 /  f107 / 15384 nulls /1.61 %\n",
            "col num : 108 /  f108 / 15340 nulls /1.6 %\n",
            "col num : 109 /  f109 / 15529 nulls /1.62 %\n",
            "col num : 110 /  f110 / 15365 nulls /1.6 %\n",
            "col num : 111 /  f111 / 15499 nulls /1.62 %\n",
            "col num : 112 /  f112 / 15410 nulls /1.61 %\n",
            "col num : 113 /  f113 / 15233 nulls /1.59 %\n",
            "col num : 114 /  f114 / 15438 nulls /1.61 %\n",
            "col num : 115 /  f115 / 15559 nulls /1.62 %\n",
            "col num : 116 /  f116 / 15589 nulls /1.63 %\n",
            "col num : 117 /  f117 / 15407 nulls /1.61 %\n",
            "col num : 118 /  f118 / 15212 nulls /1.59 %\n"
          ]
        }
      ],
      "source": [
        "def null_values() :  \n",
        "    lst = train_df.isnull().sum()\n",
        "    for i in range(len(lst)) :\n",
        "        if lst[i] != 0 :\n",
        "            x= lst[i]\n",
        "            col = train_df.columns[i]\n",
        "            y= (x/train_df.shape[0])*100\n",
        "            print(\"col num : \" +str(i) + \" /  \" + col + \" / \" + str(x) + \" nulls /\"+ str(round(y,2)) +\" %\")\n",
        "null_values()         "
      ]
    },
    {
      "cell_type": "code",
      "execution_count": 80,
      "metadata": {
        "id": "c8YzUHKbjpc3"
      },
      "outputs": [],
      "source": [
        "for i in train_df.columns:\n",
        "  train_df[i].fillna(train_df[i].mean(),inplace = True)\n"
      ]
    },
    {
      "cell_type": "code",
      "source": [
        "train_df.drop(columns=[\"id\"],inplace = True)\n"
      ],
      "metadata": {
        "id": "T06lEIF-A5_w"
      },
      "execution_count": 81,
      "outputs": []
    },
    {
      "cell_type": "code",
      "source": [
        "train_df.shape"
      ],
      "metadata": {
        "colab": {
          "base_uri": "https://localhost:8080/"
        },
        "id": "y3y7V1agCTvm",
        "outputId": "f9ef1406-87ad-4049-dad8-f3724d890bfa"
      },
      "execution_count": 82,
      "outputs": [
        {
          "output_type": "execute_result",
          "data": {
            "text/plain": [
              "(957919, 119)"
            ]
          },
          "metadata": {},
          "execution_count": 82
        }
      ]
    },
    {
      "cell_type": "code",
      "source": [
        "train_df.isna().values.sum()"
      ],
      "metadata": {
        "colab": {
          "base_uri": "https://localhost:8080/"
        },
        "id": "qj5L4oh4CZqp",
        "outputId": "0df88c21-84e6-4c42-909f-f613f7646350"
      },
      "execution_count": 15,
      "outputs": [
        {
          "output_type": "execute_result",
          "data": {
            "text/plain": [
              "0"
            ]
          },
          "metadata": {},
          "execution_count": 15
        }
      ]
    },
    {
      "cell_type": "code",
      "execution_count": 16,
      "metadata": {
        "id": "Y1LqCbpXj9yn",
        "colab": {
          "base_uri": "https://localhost:8080/",
          "height": 406
        },
        "outputId": "6e6abf52-9a5a-4e1b-f8d2-88caa83063cf"
      },
      "outputs": [
        {
          "output_type": "execute_result",
          "data": {
            "text/plain": [
              "Empty DataFrame\n",
              "Columns: []\n",
              "Index: [0, 1, 2, 3, 4, 5, 6, 7, 8, 9, 10, 11, 12, 13, 14, 15, 16, 17, 18, 19, 20, 21, 22, 23, 24, 25, 26, 27, 28, 29, 30, 31, 32, 33, 34, 35, 36, 37, 38, 39, 40, 41, 42, 43, 44, 45, 46, 47, 48, 49, 50, 51, 52, 53, 54, 55, 56, 57, 58, 59, 60, 61, 62, 63, 64, 65, 66, 67, 68, 69, 70, 71, 72, 73, 74, 75, 76, 77, 78, 79, 80, 81, 82, 83, 84, 85, 86, 87, 88, 89, 90, 91, 92, 93, 94, 95, 96, 97, 98, 99, ...]\n",
              "\n",
              "[957919 rows x 0 columns]"
            ],
            "text/html": [
              "\n",
              "  <div id=\"df-88b98373-42da-454b-90b5-dc3775d7cdcb\">\n",
              "    <div class=\"colab-df-container\">\n",
              "      <div>\n",
              "<style scoped>\n",
              "    .dataframe tbody tr th:only-of-type {\n",
              "        vertical-align: middle;\n",
              "    }\n",
              "\n",
              "    .dataframe tbody tr th {\n",
              "        vertical-align: top;\n",
              "    }\n",
              "\n",
              "    .dataframe thead th {\n",
              "        text-align: right;\n",
              "    }\n",
              "</style>\n",
              "<table border=\"1\" class=\"dataframe\">\n",
              "  <thead>\n",
              "    <tr style=\"text-align: right;\">\n",
              "      <th></th>\n",
              "    </tr>\n",
              "  </thead>\n",
              "  <tbody>\n",
              "    <tr>\n",
              "      <th>0</th>\n",
              "    </tr>\n",
              "    <tr>\n",
              "      <th>1</th>\n",
              "    </tr>\n",
              "    <tr>\n",
              "      <th>2</th>\n",
              "    </tr>\n",
              "    <tr>\n",
              "      <th>3</th>\n",
              "    </tr>\n",
              "    <tr>\n",
              "      <th>4</th>\n",
              "    </tr>\n",
              "    <tr>\n",
              "      <th>...</th>\n",
              "    </tr>\n",
              "    <tr>\n",
              "      <th>957914</th>\n",
              "    </tr>\n",
              "    <tr>\n",
              "      <th>957915</th>\n",
              "    </tr>\n",
              "    <tr>\n",
              "      <th>957916</th>\n",
              "    </tr>\n",
              "    <tr>\n",
              "      <th>957917</th>\n",
              "    </tr>\n",
              "    <tr>\n",
              "      <th>957918</th>\n",
              "    </tr>\n",
              "  </tbody>\n",
              "</table>\n",
              "<p>957919 rows × 0 columns</p>\n",
              "</div>\n",
              "      <button class=\"colab-df-convert\" onclick=\"convertToInteractive('df-88b98373-42da-454b-90b5-dc3775d7cdcb')\"\n",
              "              title=\"Convert this dataframe to an interactive table.\"\n",
              "              style=\"display:none;\">\n",
              "        \n",
              "  <svg xmlns=\"http://www.w3.org/2000/svg\" height=\"24px\"viewBox=\"0 0 24 24\"\n",
              "       width=\"24px\">\n",
              "    <path d=\"M0 0h24v24H0V0z\" fill=\"none\"/>\n",
              "    <path d=\"M18.56 5.44l.94 2.06.94-2.06 2.06-.94-2.06-.94-.94-2.06-.94 2.06-2.06.94zm-11 1L8.5 8.5l.94-2.06 2.06-.94-2.06-.94L8.5 2.5l-.94 2.06-2.06.94zm10 10l.94 2.06.94-2.06 2.06-.94-2.06-.94-.94-2.06-.94 2.06-2.06.94z\"/><path d=\"M17.41 7.96l-1.37-1.37c-.4-.4-.92-.59-1.43-.59-.52 0-1.04.2-1.43.59L10.3 9.45l-7.72 7.72c-.78.78-.78 2.05 0 2.83L4 21.41c.39.39.9.59 1.41.59.51 0 1.02-.2 1.41-.59l7.78-7.78 2.81-2.81c.8-.78.8-2.07 0-2.86zM5.41 20L4 18.59l7.72-7.72 1.47 1.35L5.41 20z\"/>\n",
              "  </svg>\n",
              "      </button>\n",
              "      \n",
              "  <style>\n",
              "    .colab-df-container {\n",
              "      display:flex;\n",
              "      flex-wrap:wrap;\n",
              "      gap: 12px;\n",
              "    }\n",
              "\n",
              "    .colab-df-convert {\n",
              "      background-color: #E8F0FE;\n",
              "      border: none;\n",
              "      border-radius: 50%;\n",
              "      cursor: pointer;\n",
              "      display: none;\n",
              "      fill: #1967D2;\n",
              "      height: 32px;\n",
              "      padding: 0 0 0 0;\n",
              "      width: 32px;\n",
              "    }\n",
              "\n",
              "    .colab-df-convert:hover {\n",
              "      background-color: #E2EBFA;\n",
              "      box-shadow: 0px 1px 2px rgba(60, 64, 67, 0.3), 0px 1px 3px 1px rgba(60, 64, 67, 0.15);\n",
              "      fill: #174EA6;\n",
              "    }\n",
              "\n",
              "    [theme=dark] .colab-df-convert {\n",
              "      background-color: #3B4455;\n",
              "      fill: #D2E3FC;\n",
              "    }\n",
              "\n",
              "    [theme=dark] .colab-df-convert:hover {\n",
              "      background-color: #434B5C;\n",
              "      box-shadow: 0px 1px 3px 1px rgba(0, 0, 0, 0.15);\n",
              "      filter: drop-shadow(0px 1px 2px rgba(0, 0, 0, 0.3));\n",
              "      fill: #FFFFFF;\n",
              "    }\n",
              "  </style>\n",
              "\n",
              "      <script>\n",
              "        const buttonEl =\n",
              "          document.querySelector('#df-88b98373-42da-454b-90b5-dc3775d7cdcb button.colab-df-convert');\n",
              "        buttonEl.style.display =\n",
              "          google.colab.kernel.accessAllowed ? 'block' : 'none';\n",
              "\n",
              "        async function convertToInteractive(key) {\n",
              "          const element = document.querySelector('#df-88b98373-42da-454b-90b5-dc3775d7cdcb');\n",
              "          const dataTable =\n",
              "            await google.colab.kernel.invokeFunction('convertToInteractive',\n",
              "                                                     [key], {});\n",
              "          if (!dataTable) return;\n",
              "\n",
              "          const docLinkHtml = 'Like what you see? Visit the ' +\n",
              "            '<a target=\"_blank\" href=https://colab.research.google.com/notebooks/data_table.ipynb>data table notebook</a>'\n",
              "            + ' to learn more about interactive tables.';\n",
              "          element.innerHTML = '';\n",
              "          dataTable['output_type'] = 'display_data';\n",
              "          await google.colab.output.renderOutput(dataTable, element);\n",
              "          const docLink = document.createElement('div');\n",
              "          docLink.innerHTML = docLinkHtml;\n",
              "          element.appendChild(docLink);\n",
              "        }\n",
              "      </script>\n",
              "    </div>\n",
              "  </div>\n",
              "  "
            ]
          },
          "metadata": {},
          "execution_count": 16
        }
      ],
      "source": [
        "train_df.select_dtypes(include=[\"object\"])"
      ]
    },
    {
      "cell_type": "code",
      "execution_count": 83,
      "metadata": {
        "id": "o6sQlVB8mMR0"
      },
      "outputs": [],
      "source": [
        "from sklearn.model_selection import train_test_split\n",
        "x = train_df.drop(columns=[\"claim\"])\n",
        "y = train_df['claim']"
      ]
    },
    {
      "cell_type": "code",
      "execution_count": 84,
      "metadata": {
        "id": "ctrnlZkAm2uf"
      },
      "outputs": [],
      "source": [
        "x_train , x_test , y_train , y_test = train_test_split(x,y,test_size=.2)"
      ]
    },
    {
      "cell_type": "code",
      "execution_count": 85,
      "metadata": {
        "id": "S5S0wVCFnRqI"
      },
      "outputs": [],
      "source": [
        "from sklearn.preprocessing import StandardScaler\n",
        "\n",
        "sc = StandardScaler()\n",
        "x_train = sc.fit_transform(x_train)\n",
        "x_test =  sc.fit_transform(x_test)"
      ]
    },
    {
      "cell_type": "code",
      "source": [
        "from sklearn.metrics import accuracy_score"
      ],
      "metadata": {
        "id": "9y3nhm9-fsxt"
      },
      "execution_count": 86,
      "outputs": []
    },
    {
      "cell_type": "code",
      "execution_count": 87,
      "metadata": {
        "id": "ez-VWypgnuY8",
        "colab": {
          "base_uri": "https://localhost:8080/"
        },
        "outputId": "651cd6ee-5bee-4ccd-a892-5fe63d068718"
      },
      "outputs": [
        {
          "output_type": "stream",
          "name": "stdout",
          "text": [
            "0.5242504593285452\n"
          ]
        }
      ],
      "source": [
        "Lr = LogisticRegression()\n",
        "Lr.fit(x_train,y_train)\n",
        "y_pred = Lr.predict(x_test)\n",
        "acc = accuracy_score(y_pred,y_test)\n",
        "print(acc)"
      ]
    },
    {
      "cell_type": "code",
      "execution_count": 93,
      "metadata": {
        "id": "puRilmHBn2Pr",
        "colab": {
          "base_uri": "https://localhost:8080/"
        },
        "outputId": "d6d8a6de-ba9f-4224-a5d2-aa341571a3d2"
      },
      "outputs": [
        {
          "output_type": "execute_result",
          "data": {
            "text/plain": [
              "(359464, 119)"
            ]
          },
          "metadata": {},
          "execution_count": 93
        }
      ],
      "source": [
        "train_df = pd.read_csv(\"/content/train.csv\")\n",
        "train_df.drop(columns=[\"id\"],inplace = True)\n",
        "train_df.dropna(inplace=True)\n",
        "train_df.shape"
      ]
    },
    {
      "cell_type": "code",
      "execution_count": 94,
      "metadata": {
        "id": "Ekaj0UyopB_b",
        "colab": {
          "base_uri": "https://localhost:8080/"
        },
        "outputId": "1188403c-024f-45ea-bbe8-3ab9efa3da5c"
      },
      "outputs": [
        {
          "output_type": "execute_result",
          "data": {
            "text/plain": [
              "0    310909\n",
              "1     48555\n",
              "Name: claim, dtype: int64"
            ]
          },
          "metadata": {},
          "execution_count": 94
        }
      ],
      "source": [
        "train_df['claim'].value_counts()"
      ]
    },
    {
      "cell_type": "code",
      "source": [
        "from sklearn.model_selection import train_test_split\n",
        "from sklearn.preprocessing import StandardScaler\n",
        "from sklearn.decomposition import PCA\n",
        "x = train_df.drop(columns=[\"claim\"])\n",
        "y = train_df['claim']\n",
        "\n",
        "x_train , x_test , y_train , y_test = train_test_split(x,y,test_size=.2)\n",
        "pca = PCA()\n",
        "x_train = pca.fit_transform(x_train)\n",
        "x_test =  pca.transform(x_test)\n",
        "sc = StandardScaler()\n",
        "x_train = sc.fit_transform(x_train)\n",
        "x_test =  sc.fit_transform(x_test)\n",
        "\n"
      ],
      "metadata": {
        "id": "uTqCDGZ4E2JR"
      },
      "execution_count": 95,
      "outputs": []
    },
    {
      "cell_type": "code",
      "execution_count": 111,
      "metadata": {
        "id": "NVx9vS1MpPqB"
      },
      "outputs": [],
      "source": [
        "ppn = Perceptron(eta0=1, random_state=1)\n",
        "Lr  = LogisticRegression()\n",
        "rf = RandomForestClassifier()\n",
        "knn = KNeighborsClassifier(n_neighbors= 5)\n",
        "nb = GaussianNB()\n",
        "dt = DecisionTreeClassifier()\n",
        "lda = LinearDiscriminantAnalysis()\n",
        "ada = AdaBoostClassifier()\n",
        "Gb = GradientBoostingClassifier()"
      ]
    },
    {
      "cell_type": "code",
      "execution_count": 98,
      "metadata": {
        "id": "BICGYje5KMmv"
      },
      "outputs": [],
      "source": [
        "acc_dic = {}\n",
        "tr_acc =[]"
      ]
    },
    {
      "cell_type": "code",
      "execution_count": 99,
      "metadata": {
        "id": "soWBF63RKDol"
      },
      "outputs": [],
      "source": [
        "lda.fit(x_train,y_train)\n",
        "rt_acc = round(accuracy_score(lda.predict(x_train),y_train)*100,3)\n",
        "y_pred = lda.predict(x_test)\n",
        "acc = round(accuracy_score(y_pred,y_test)*100,3)\n",
        "acc_dic['Linear Discriminant Analysis'] = acc\n",
        "tr_acc.append(rt_acc)\n"
      ]
    },
    {
      "cell_type": "code",
      "execution_count": 100,
      "metadata": {
        "id": "0qZhc9ldJ64k"
      },
      "outputs": [],
      "source": [
        "dt.fit(x_train,y_train)\n",
        "rt_acc = round(accuracy_score(dt.predict(x_train),y_train)*100,3)\n",
        "y_pred = dt.predict(x_test)\n",
        "acc = round(accuracy_score(y_pred,y_test)*100,3)\n",
        "acc_dic['Decision Tree Classifier'] = acc\n",
        "tr_acc.append(rt_acc)\n"
      ]
    },
    {
      "cell_type": "code",
      "execution_count": 101,
      "metadata": {
        "id": "jX0GgBgFJ3tq"
      },
      "outputs": [],
      "source": [
        "nb.fit(x_train,y_train)\n",
        "rt_acc = round(accuracy_score(nb.predict(x_train),y_train)*100,3)\n",
        "y_pred = nb.predict(x_test)\n",
        "acc = round(accuracy_score(y_pred,y_test)*100,3)\n",
        "acc_dic['Gaussian Nieve Bayes'] = acc\n",
        "tr_acc.append(rt_acc)\n"
      ]
    },
    {
      "cell_type": "code",
      "execution_count": 102,
      "metadata": {
        "id": "S6J5k9BIq0ud"
      },
      "outputs": [],
      "source": [
        "ppn.fit(x_train,y_train)\n",
        "rt_acc = round(accuracy_score(ppn.predict(x_train),y_train)*100,3)\n",
        "y_pred = ppn.predict(x_test)\n",
        "acc = round(accuracy_score(y_pred,y_test)*100,3)\n",
        "acc_dic['Perceptron'] = acc\n",
        "tr_acc.append(rt_acc)\n"
      ]
    },
    {
      "cell_type": "code",
      "execution_count": 104,
      "metadata": {
        "id": "AMw8mqfrugpi"
      },
      "outputs": [],
      "source": [
        "Lr.fit(x_train,y_train)\n",
        "rt_acc = round(accuracy_score(Lr.predict(x_train),y_train)*100,3)\n",
        "y_pred = Lr.predict(x_test)\n",
        "acc = round(accuracy_score(y_pred,y_test)*100,3)\n",
        "acc_dic['Logistic Regression'] = acc\n",
        "tr_acc.append(rt_acc)\n"
      ]
    },
    {
      "cell_type": "code",
      "execution_count": 105,
      "metadata": {
        "id": "T2D09FTIyTME"
      },
      "outputs": [],
      "source": [
        "knn.fit(x_train,y_train)\n",
        "rt_acc = round(accuracy_score(knn.predict(x_train),y_train)*100,3)\n",
        "y_pred = knn.predict(x_test)\n",
        "acc = round(accuracy_score(y_pred,y_test)*100,3)\n",
        "acc_dic['K Neighbors Classifier'] = acc\n",
        "tr_acc.append(rt_acc)\n"
      ]
    },
    {
      "cell_type": "code",
      "source": [
        "ada.fit(x_train,y_train)\n",
        "rt_acc = round(accuracy_score(ada.predict(x_train),y_train)*100,3)\n",
        "y_pred = ada.predict(x_test)\n",
        "acc = round(accuracy_score(y_pred,y_test)*100,3)\n",
        "acc_dic['AdaBoost Classifier'] = acc\n",
        "tr_acc.append(rt_acc)"
      ],
      "metadata": {
        "id": "r-tSZqIlAxGa"
      },
      "execution_count": 112,
      "outputs": []
    },
    {
      "cell_type": "code",
      "source": [
        "Gb.fit(x_train,y_train)\n",
        "rt_acc = round(accuracy_score(Gb.predict(x_train),y_train)*100,3)\n",
        "y_pred = Gb.predict(x_test)\n",
        "acc = round(accuracy_score(y_pred,y_test)*100,3)\n",
        "acc_dic['Gradient Boosting Classifier'] = acc\n",
        "tr_acc.append(rt_acc)"
      ],
      "metadata": {
        "id": "vBqYHEsiAw32"
      },
      "execution_count": 113,
      "outputs": []
    },
    {
      "cell_type": "code",
      "source": [
        "acc_df = pd.DataFrame()\n",
        "acc_df[\"Algurithm\"] = acc_dic.keys()\n",
        "acc_df[\"Validation accuracy\"] = acc_dic.values()\n",
        "acc_df['Trainig accuracy'] = tr_acc"
      ],
      "metadata": {
        "id": "B9wFB-Id_t4q"
      },
      "execution_count": 114,
      "outputs": []
    },
    {
      "cell_type": "code",
      "source": [
        "acc_df"
      ],
      "metadata": {
        "colab": {
          "base_uri": "https://localhost:8080/",
          "height": 300
        },
        "id": "ORUIXsLaoMKB",
        "outputId": "ead00016-6910-4003-983e-3408f7dc3c86"
      },
      "execution_count": 115,
      "outputs": [
        {
          "output_type": "execute_result",
          "data": {
            "text/plain": [
              "                      Algurithm  Validation accuracy  Trainig accuracy\n",
              "0  Linear Discriminant Analysis               86.465            86.499\n",
              "1      Decision Tree Classifier               70.591           100.000\n",
              "2          Gaussian Nieve Bayes               86.465            86.499\n",
              "3                    Perceptron               80.913            78.566\n",
              "4           Logistic Regression               86.465            86.499\n",
              "5        K Neighbors Classifier               85.056            86.942\n",
              "6           AdaBoos tClassifier               86.465            86.499\n",
              "7  Gradient Boosting Classifier               86.039            86.500"
            ],
            "text/html": [
              "\n",
              "  <div id=\"df-0702e491-714f-49ba-962c-37df7fbde2ca\">\n",
              "    <div class=\"colab-df-container\">\n",
              "      <div>\n",
              "<style scoped>\n",
              "    .dataframe tbody tr th:only-of-type {\n",
              "        vertical-align: middle;\n",
              "    }\n",
              "\n",
              "    .dataframe tbody tr th {\n",
              "        vertical-align: top;\n",
              "    }\n",
              "\n",
              "    .dataframe thead th {\n",
              "        text-align: right;\n",
              "    }\n",
              "</style>\n",
              "<table border=\"1\" class=\"dataframe\">\n",
              "  <thead>\n",
              "    <tr style=\"text-align: right;\">\n",
              "      <th></th>\n",
              "      <th>Algurithm</th>\n",
              "      <th>Validation accuracy</th>\n",
              "      <th>Trainig accuracy</th>\n",
              "    </tr>\n",
              "  </thead>\n",
              "  <tbody>\n",
              "    <tr>\n",
              "      <th>0</th>\n",
              "      <td>Linear Discriminant Analysis</td>\n",
              "      <td>86.465</td>\n",
              "      <td>86.499</td>\n",
              "    </tr>\n",
              "    <tr>\n",
              "      <th>1</th>\n",
              "      <td>Decision Tree Classifier</td>\n",
              "      <td>70.591</td>\n",
              "      <td>100.000</td>\n",
              "    </tr>\n",
              "    <tr>\n",
              "      <th>2</th>\n",
              "      <td>Gaussian Nieve Bayes</td>\n",
              "      <td>86.465</td>\n",
              "      <td>86.499</td>\n",
              "    </tr>\n",
              "    <tr>\n",
              "      <th>3</th>\n",
              "      <td>Perceptron</td>\n",
              "      <td>80.913</td>\n",
              "      <td>78.566</td>\n",
              "    </tr>\n",
              "    <tr>\n",
              "      <th>4</th>\n",
              "      <td>Logistic Regression</td>\n",
              "      <td>86.465</td>\n",
              "      <td>86.499</td>\n",
              "    </tr>\n",
              "    <tr>\n",
              "      <th>5</th>\n",
              "      <td>K Neighbors Classifier</td>\n",
              "      <td>85.056</td>\n",
              "      <td>86.942</td>\n",
              "    </tr>\n",
              "    <tr>\n",
              "      <th>6</th>\n",
              "      <td>AdaBoos tClassifier</td>\n",
              "      <td>86.465</td>\n",
              "      <td>86.499</td>\n",
              "    </tr>\n",
              "    <tr>\n",
              "      <th>7</th>\n",
              "      <td>Gradient Boosting Classifier</td>\n",
              "      <td>86.039</td>\n",
              "      <td>86.500</td>\n",
              "    </tr>\n",
              "  </tbody>\n",
              "</table>\n",
              "</div>\n",
              "      <button class=\"colab-df-convert\" onclick=\"convertToInteractive('df-0702e491-714f-49ba-962c-37df7fbde2ca')\"\n",
              "              title=\"Convert this dataframe to an interactive table.\"\n",
              "              style=\"display:none;\">\n",
              "        \n",
              "  <svg xmlns=\"http://www.w3.org/2000/svg\" height=\"24px\"viewBox=\"0 0 24 24\"\n",
              "       width=\"24px\">\n",
              "    <path d=\"M0 0h24v24H0V0z\" fill=\"none\"/>\n",
              "    <path d=\"M18.56 5.44l.94 2.06.94-2.06 2.06-.94-2.06-.94-.94-2.06-.94 2.06-2.06.94zm-11 1L8.5 8.5l.94-2.06 2.06-.94-2.06-.94L8.5 2.5l-.94 2.06-2.06.94zm10 10l.94 2.06.94-2.06 2.06-.94-2.06-.94-.94-2.06-.94 2.06-2.06.94z\"/><path d=\"M17.41 7.96l-1.37-1.37c-.4-.4-.92-.59-1.43-.59-.52 0-1.04.2-1.43.59L10.3 9.45l-7.72 7.72c-.78.78-.78 2.05 0 2.83L4 21.41c.39.39.9.59 1.41.59.51 0 1.02-.2 1.41-.59l7.78-7.78 2.81-2.81c.8-.78.8-2.07 0-2.86zM5.41 20L4 18.59l7.72-7.72 1.47 1.35L5.41 20z\"/>\n",
              "  </svg>\n",
              "      </button>\n",
              "      \n",
              "  <style>\n",
              "    .colab-df-container {\n",
              "      display:flex;\n",
              "      flex-wrap:wrap;\n",
              "      gap: 12px;\n",
              "    }\n",
              "\n",
              "    .colab-df-convert {\n",
              "      background-color: #E8F0FE;\n",
              "      border: none;\n",
              "      border-radius: 50%;\n",
              "      cursor: pointer;\n",
              "      display: none;\n",
              "      fill: #1967D2;\n",
              "      height: 32px;\n",
              "      padding: 0 0 0 0;\n",
              "      width: 32px;\n",
              "    }\n",
              "\n",
              "    .colab-df-convert:hover {\n",
              "      background-color: #E2EBFA;\n",
              "      box-shadow: 0px 1px 2px rgba(60, 64, 67, 0.3), 0px 1px 3px 1px rgba(60, 64, 67, 0.15);\n",
              "      fill: #174EA6;\n",
              "    }\n",
              "\n",
              "    [theme=dark] .colab-df-convert {\n",
              "      background-color: #3B4455;\n",
              "      fill: #D2E3FC;\n",
              "    }\n",
              "\n",
              "    [theme=dark] .colab-df-convert:hover {\n",
              "      background-color: #434B5C;\n",
              "      box-shadow: 0px 1px 3px 1px rgba(0, 0, 0, 0.15);\n",
              "      filter: drop-shadow(0px 1px 2px rgba(0, 0, 0, 0.3));\n",
              "      fill: #FFFFFF;\n",
              "    }\n",
              "  </style>\n",
              "\n",
              "      <script>\n",
              "        const buttonEl =\n",
              "          document.querySelector('#df-0702e491-714f-49ba-962c-37df7fbde2ca button.colab-df-convert');\n",
              "        buttonEl.style.display =\n",
              "          google.colab.kernel.accessAllowed ? 'block' : 'none';\n",
              "\n",
              "        async function convertToInteractive(key) {\n",
              "          const element = document.querySelector('#df-0702e491-714f-49ba-962c-37df7fbde2ca');\n",
              "          const dataTable =\n",
              "            await google.colab.kernel.invokeFunction('convertToInteractive',\n",
              "                                                     [key], {});\n",
              "          if (!dataTable) return;\n",
              "\n",
              "          const docLinkHtml = 'Like what you see? Visit the ' +\n",
              "            '<a target=\"_blank\" href=https://colab.research.google.com/notebooks/data_table.ipynb>data table notebook</a>'\n",
              "            + ' to learn more about interactive tables.';\n",
              "          element.innerHTML = '';\n",
              "          dataTable['output_type'] = 'display_data';\n",
              "          await google.colab.output.renderOutput(dataTable, element);\n",
              "          const docLink = document.createElement('div');\n",
              "          docLink.innerHTML = docLinkHtml;\n",
              "          element.appendChild(docLink);\n",
              "        }\n",
              "      </script>\n",
              "    </div>\n",
              "  </div>\n",
              "  "
            ]
          },
          "metadata": {},
          "execution_count": 115
        }
      ]
    },
    {
      "cell_type": "code",
      "source": [
        "import numpy as np\n"
      ],
      "metadata": {
        "id": "BzlDEofLioYT"
      },
      "execution_count": 35,
      "outputs": []
    },
    {
      "cell_type": "code",
      "source": [
        "train_df['claim'].value_counts()"
      ],
      "metadata": {
        "colab": {
          "base_uri": "https://localhost:8080/"
        },
        "id": "NUgPDr56lOMU",
        "outputId": "5aa8d96d-20d9-4dc6-9c11-1cf8c81fee1a"
      },
      "execution_count": 36,
      "outputs": [
        {
          "output_type": "execute_result",
          "data": {
            "text/plain": [
              "0    310909\n",
              "1     48555\n",
              "Name: claim, dtype: int64"
            ]
          },
          "metadata": {},
          "execution_count": 36
        }
      ]
    },
    {
      "cell_type": "code",
      "source": [
        "df_0= train_df[train_df['claim'] == 0].sample(150000, random_state=101)\n",
        "df_1= train_df[train_df['claim'] == 1].sample(48555, random_state=101)\n",
        "p_data =pd.DataFrame(train_df)\n",
        "p_data = pd.concat([df_0, df_1], axis=0).reset_index(drop=True)\n",
        "p_data['claim'].value_counts()"
      ],
      "metadata": {
        "colab": {
          "base_uri": "https://localhost:8080/"
        },
        "id": "vkrYS8YFiFGp",
        "outputId": "ae288e5b-99ac-4ac5-8795-c22b496f5c1e"
      },
      "execution_count": 88,
      "outputs": [
        {
          "output_type": "execute_result",
          "data": {
            "text/plain": [
              "0    150000\n",
              "1     48555\n",
              "Name: claim, dtype: int64"
            ]
          },
          "metadata": {},
          "execution_count": 88
        }
      ]
    },
    {
      "cell_type": "code",
      "source": [
        "p_data.isna().values.sum()"
      ],
      "metadata": {
        "colab": {
          "base_uri": "https://localhost:8080/"
        },
        "id": "QokZ2PZPY94n",
        "outputId": "e1a2bd7b-2b93-4f80-f7ed-a7b8c2ac591a"
      },
      "execution_count": 89,
      "outputs": [
        {
          "output_type": "execute_result",
          "data": {
            "text/plain": [
              "0"
            ]
          },
          "metadata": {},
          "execution_count": 89
        }
      ]
    },
    {
      "cell_type": "code",
      "source": [
        "px = p_data.drop(columns=['claim'])\n",
        "py = p_data['claim']\n",
        "px_train,px_test,py_train,py_test = train_test_split(px,py,test_size=0.2)\n",
        "pca = PCA()\n",
        "px_train = pca.fit_transform(px_train)\n",
        "px_test =  pca.transform(px_test)\n",
        "px_train =sc.fit_transform(px_train)\n",
        "px_test =sc.fit_transform(px_test)"
      ],
      "metadata": {
        "id": "6S1HI-BrnT7U"
      },
      "execution_count": 90,
      "outputs": []
    },
    {
      "cell_type": "code",
      "source": [
        "lda.fit(px_train,py_train)\n",
        "y_pred = lda.predict(px_test)\n",
        "acc = accuracy_score(y_pred,py_test)\n",
        "print( acc )"
      ],
      "metadata": {
        "colab": {
          "base_uri": "https://localhost:8080/"
        },
        "id": "TRds3-pHFYwQ",
        "outputId": "c44389bd-0920-4a65-cbe0-0abe26937f7e"
      },
      "execution_count": 91,
      "outputs": [
        {
          "output_type": "stream",
          "name": "stdout",
          "text": [
            "0.7562388255143411\n"
          ]
        }
      ]
    },
    {
      "cell_type": "markdown",
      "source": [
        "# DL MODEL \n"
      ],
      "metadata": {
        "id": "t-Gp75bRriAZ"
      }
    },
    {
      "cell_type": "code",
      "source": [
        "print(len(y_train.unique()))\n",
        "print(len(train_df.columns)-1)\n"
      ],
      "metadata": {
        "id": "35XFKgX5UKRN",
        "colab": {
          "base_uri": "https://localhost:8080/"
        },
        "outputId": "c68eb2e7-6ebd-449a-ddd0-de1aa949e3e7"
      },
      "execution_count": 34,
      "outputs": [
        {
          "output_type": "stream",
          "name": "stdout",
          "text": [
            "2\n",
            "118\n"
          ]
        }
      ]
    },
    {
      "cell_type": "code",
      "source": [
        "import tensorflow as tf"
      ],
      "metadata": {
        "id": "fHQuFwvQU1GX"
      },
      "execution_count": 35,
      "outputs": []
    },
    {
      "cell_type": "code",
      "source": [
        "dl_model_1 = tf.keras.models.Sequential([\n",
        "    tf.keras.layers.InputLayer(input_shape =(len(train_df.columns)-1)),\n",
        "    tf.keras.layers.Dense(units=90,activation='relu'),\n",
        "    tf.keras.layers.Dense(units=70,activation='relu'),\n",
        "    tf.keras.layers.Dense(units=50,activation='relu'),\n",
        "    tf.keras.layers.Dense(units=30,activation='relu'),\n",
        "    tf.keras.layers.Dense(units=10,activation='relu'),\n",
        "    tf.keras.layers.Dense(units=5,activation='relu'),\n",
        "    tf.keras.layers.Dense(units=len(y_train.unique()),activation='sigmoid')                                    \n",
        "                                       ])"
      ],
      "metadata": {
        "id": "6oPgUye7Kf34"
      },
      "execution_count": 36,
      "outputs": []
    },
    {
      "cell_type": "code",
      "source": [
        "from keras.utils.vis_utils import plot_model\n",
        "plot_model(dl_model_1,show_shapes=True, show_layer_names=True)"
      ],
      "metadata": {
        "colab": {
          "base_uri": "https://localhost:8080/",
          "height": 865
        },
        "id": "gIfIP_PPLWn_",
        "outputId": "90725e4d-165b-49ca-8b5f-df88f13baa18"
      },
      "execution_count": 37,
      "outputs": [
        {
          "output_type": "execute_result",
          "data": {
            "image/png": "[encoded data removed]",
            "text/plain": [
              "<IPython.core.display.Image object>"
            ]
          },
          "metadata": {},
          "execution_count": 37
        }
      ]
    },
    {
      "cell_type": "code",
      "source": [
        "dl_model_1.summary()"
      ],
      "metadata": {
        "colab": {
          "base_uri": "https://localhost:8080/"
        },
        "id": "xOcYZR88LWaN",
        "outputId": "8104e427-ac06-409a-f56d-bcad62dcecc7"
      },
      "execution_count": 38,
      "outputs": [
        {
          "output_type": "stream",
          "name": "stdout",
          "text": [
            "Model: \"sequential\"\n",
            "_________________________________________________________________\n",
            " Layer (type)                Output Shape              Param #   \n",
            "=================================================================\n",
            " dense (Dense)               (None, 90)                10710     \n",
            "                                                                 \n",
            " dense_1 (Dense)             (None, 70)                6370      \n",
            "                                                                 \n",
            " dense_2 (Dense)             (None, 50)                3550      \n",
            "                                                                 \n",
            " dense_3 (Dense)             (None, 30)                1530      \n",
            "                                                                 \n",
            " dense_4 (Dense)             (None, 10)                310       \n",
            "                                                                 \n",
            " dense_5 (Dense)             (None, 5)                 55        \n",
            "                                                                 \n",
            " dense_6 (Dense)             (None, 2)                 12        \n",
            "                                                                 \n",
            "=================================================================\n",
            "Total params: 22,537\n",
            "Trainable params: 22,537\n",
            "Non-trainable params: 0\n",
            "_________________________________________________________________\n"
          ]
        }
      ]
    },
    {
      "cell_type": "code",
      "source": [
        "from tensorflow.python import metrics\n",
        "dl_model_1.compile(\n",
        "    optimizer = tf.keras.optimizers.Adam(),\n",
        "    loss = tf.keras.losses.SparseCategoricalCrossentropy(),\n",
        "    metrics = ['accuracy']\n",
        ")"
      ],
      "metadata": {
        "id": "-fL0VMnJLWW3"
      },
      "execution_count": 39,
      "outputs": []
    },
    {
      "cell_type": "code",
      "source": [
        "hist = dl_model_1.fit(\n",
        "    x = x_train,\n",
        "    y= y_train,\n",
        "    validation_data = (x_test,y_test),\n",
        "    epochs = 10\n",
        ")"
      ],
      "metadata": {
        "colab": {
          "base_uri": "https://localhost:8080/"
        },
        "id": "Q0eztn5zLUSO",
        "outputId": "d0211685-5038-4651-fcbf-0e82a11a808b"
      },
      "execution_count": 92,
      "outputs": [
        {
          "output_type": "stream",
          "name": "stdout",
          "text": [
            "Epoch 1/10\n",
            "4964/4964 [==============================] - 16s 3ms/step - loss: 0.5570 - accuracy: 0.7553 - val_loss: 0.5551 - val_accuracy: 0.7562\n",
            "Epoch 2/10\n",
            "4964/4964 [==============================] - 14s 3ms/step - loss: 0.5549 - accuracy: 0.7553 - val_loss: 0.5557 - val_accuracy: 0.7562\n",
            "Epoch 3/10\n",
            "4964/4964 [==============================] - 13s 3ms/step - loss: 0.5516 - accuracy: 0.7553 - val_loss: 0.5575 - val_accuracy: 0.7562\n",
            "Epoch 4/10\n",
            "4964/4964 [==============================] - 14s 3ms/step - loss: 0.5461 - accuracy: 0.7553 - val_loss: 0.5634 - val_accuracy: 0.7561\n",
            "Epoch 5/10\n",
            "4964/4964 [==============================] - 14s 3ms/step - loss: 0.5393 - accuracy: 0.7552 - val_loss: 0.5708 - val_accuracy: 0.7561\n",
            "Epoch 6/10\n",
            "4964/4964 [==============================] - 14s 3ms/step - loss: 0.5331 - accuracy: 0.7568 - val_loss: 0.5756 - val_accuracy: 0.7500\n",
            "Epoch 7/10\n",
            "4964/4964 [==============================] - 13s 3ms/step - loss: 0.5275 - accuracy: 0.7594 - val_loss: 0.5793 - val_accuracy: 0.7407\n",
            "Epoch 8/10\n",
            "4964/4964 [==============================] - 14s 3ms/step - loss: 0.5221 - accuracy: 0.7627 - val_loss: 0.5939 - val_accuracy: 0.7304\n",
            "Epoch 9/10\n",
            "4964/4964 [==============================] - 15s 3ms/step - loss: 0.5174 - accuracy: 0.7648 - val_loss: 0.6011 - val_accuracy: 0.7301\n",
            "Epoch 10/10\n",
            "4964/4964 [==============================] - 14s 3ms/step - loss: 0.5130 - accuracy: 0.7683 - val_loss: 0.6016 - val_accuracy: 0.7155\n"
          ]
        }
      ]
    },
    {
      "cell_type": "code",
      "source": [
        "dl_model_1.evaluate(x_test,y_test)"
      ],
      "metadata": {
        "colab": {
          "base_uri": "https://localhost:8080/"
        },
        "id": "JHeHTPRyLV6i",
        "outputId": "63e854d2-fed7-4935-ac75-f54e272cb7de"
      },
      "execution_count": 47,
      "outputs": [
        {
          "output_type": "stream",
          "name": "stdout",
          "text": [
            "2247/2247 [==============================] - 5s 2ms/step - loss: 0.4083 - accuracy: 0.8642\n"
          ]
        },
        {
          "output_type": "execute_result",
          "data": {
            "text/plain": [
              "[0.40829887986183167, 0.864173173904419]"
            ]
          },
          "metadata": {},
          "execution_count": 47
        }
      ]
    },
    {
      "cell_type": "code",
      "source": [
        "y_perd_dl = dl_model_1.predict(x_test)\n"
      ],
      "metadata": {
        "id": "Jzd-FGClVpbu"
      },
      "execution_count": 48,
      "outputs": []
    },
    {
      "cell_type": "code",
      "source": [
        "y_perd_dl = dl_model_1.predict(x_test)\n",
        "y_perd_dl_class = []\n",
        "for i in y_perd_dl:\n",
        "    y_perd_dl_class.append(i.argmax())\n",
        "\n",
        "\n",
        "from sklearn.metrics import classification_report\n",
        "\n",
        "print(classification_report(y_perd_dl_class,y_test))"
      ],
      "metadata": {
        "colab": {
          "base_uri": "https://localhost:8080/"
        },
        "id": "-FE8pFTzWIYR",
        "outputId": "3f907855-24f6-41e5-efbb-e4bcd90e62d9"
      },
      "execution_count": 50,
      "outputs": [
        {
          "output_type": "stream",
          "name": "stdout",
          "text": [
            "              precision    recall  f1-score   support\n",
            "\n",
            "           0       1.00      0.86      0.93     71893\n",
            "           1       0.00      0.00      0.00         0\n",
            "\n",
            "    accuracy                           0.86     71893\n",
            "   macro avg       0.50      0.43      0.46     71893\n",
            "weighted avg       1.00      0.86      0.93     71893\n",
            "\n"
          ]
        },
        {
          "output_type": "stream",
          "name": "stderr",
          "text": [
            "/usr/local/lib/python3.7/dist-packages/sklearn/metrics/_classification.py:1318: UndefinedMetricWarning: Recall and F-score are ill-defined and being set to 0.0 in labels with no true samples. Use `zero_division` parameter to control this behavior.\n",
            "  _warn_prf(average, modifier, msg_start, len(result))\n",
            "/usr/local/lib/python3.7/dist-packages/sklearn/metrics/_classification.py:1318: UndefinedMetricWarning: Recall and F-score are ill-defined and being set to 0.0 in labels with no true samples. Use `zero_division` parameter to control this behavior.\n",
            "  _warn_prf(average, modifier, msg_start, len(result))\n",
            "/usr/local/lib/python3.7/dist-packages/sklearn/metrics/_classification.py:1318: UndefinedMetricWarning: Recall and F-score are ill-defined and being set to 0.0 in labels with no true samples. Use `zero_division` parameter to control this behavior.\n",
            "  _warn_prf(average, modifier, msg_start, len(result))\n"
          ]
        }
      ]
    },
    {
      "cell_type": "code",
      "source": [
        "dl_model_2 = tf.keras.models.Sequential([\n",
        "    tf.keras.layers.InputLayer(input_shape =(len(train_df.columns)-1)),\n",
        "    tf.keras.layers.Dense(units=59,activation='relu'),\n",
        "    tf.keras.layers.Dense(units=29,activation='relu'),\n",
        "    tf.keras.layers.Dense(units=14,activation='relu'),\n",
        "    tf.keras.layers.Dense(units=7,activation='relu'),\n",
        "    tf.keras.layers.Dense(units=3,activation='relu'),\n",
        "    tf.keras.layers.Dense(units=len(y_train.unique()),activation='sigmoid')  \n",
        "\n",
        "\n",
        "\n",
        "\n",
        "                                       ])"
      ],
      "metadata": {
        "id": "yeL30Is_Wf-a"
      },
      "execution_count": 68,
      "outputs": []
    },
    {
      "cell_type": "code",
      "source": [
        "from keras.utils.vis_utils import plot_model\n",
        "plot_model(dl_model_2,show_shapes=True, show_layer_names=True)"
      ],
      "metadata": {
        "colab": {
          "base_uri": "https://localhost:8080/",
          "height": 754
        },
        "id": "gh8GTBh2Xbkj",
        "outputId": "65780258-e23a-482f-d5b1-622f378b5e64"
      },
      "execution_count": 69,
      "outputs": [
        {
          "output_type": "execute_result",
          "data": {
            "image/png": "[encoded data removed]",
            "text/plain": [
              "<IPython.core.display.Image object>"
            ]
          },
          "metadata": {},
          "execution_count": 69
        }
      ]
    },
    {
      "cell_type": "code",
      "source": [
        "\n",
        "dl_model_2.summary()"
      ],
      "metadata": {
        "colab": {
          "base_uri": "https://localhost:8080/"
        },
        "id": "C8beK4f3V45W",
        "outputId": "a6cc0142-4905-4064-d299-097ad4114b6c"
      },
      "execution_count": 70,
      "outputs": [
        {
          "output_type": "stream",
          "name": "stdout",
          "text": [
            "Model: \"sequential_2\"\n",
            "_________________________________________________________________\n",
            " Layer (type)                Output Shape              Param #   \n",
            "=================================================================\n",
            " dense_13 (Dense)            (None, 59)                7021      \n",
            "                                                                 \n",
            " dense_14 (Dense)            (None, 29)                1740      \n",
            "                                                                 \n",
            " dense_15 (Dense)            (None, 14)                420       \n",
            "                                                                 \n",
            " dense_16 (Dense)            (None, 7)                 105       \n",
            "                                                                 \n",
            " dense_17 (Dense)            (None, 3)                 24        \n",
            "                                                                 \n",
            " dense_18 (Dense)            (None, 2)                 8         \n",
            "                                                                 \n",
            "=================================================================\n",
            "Total params: 9,318\n",
            "Trainable params: 9,318\n",
            "Non-trainable params: 0\n",
            "_________________________________________________________________\n"
          ]
        }
      ]
    },
    {
      "cell_type": "code",
      "source": [
        "from tensorflow.python import metrics\n",
        "from keras.utils.vis_utils import plot_model\n",
        "\n",
        "dl_model_2.compile(\n",
        "    optimizer='adadelta',loss = tf.keras.losses.SparseCategoricalCrossentropy(), metrics=tf.keras.metrics.BinaryAccuracy(\n",
        "    name='binary_accuracy', dtype=None, threshold=0.5\n",
        ")\n",
        ")"
      ],
      "metadata": {
        "id": "LGk-dUNPYWKx"
      },
      "execution_count": 73,
      "outputs": []
    },
    {
      "cell_type": "code",
      "source": [
        "hist = dl_model_2.fit(\n",
        "    x = x_train,\n",
        "    y= y_train,\n",
        "    validation_data = (x_test,y_test),\n",
        "    epochs = 15\n",
        ")"
      ],
      "metadata": {
        "colab": {
          "base_uri": "https://localhost:8080/"
        },
        "id": "uY7fsDJzgI0n",
        "outputId": "43890c1f-6cb2-4058-f4f9-5342d2cb75ff"
      },
      "execution_count": 74,
      "outputs": [
        {
          "output_type": "stream",
          "name": "stdout",
          "text": [
            "Epoch 1/15\n",
            "8987/8987 [==============================] - 28s 3ms/step - loss: 0.4023 - binary_accuracy: 0.8651 - val_loss: 0.4036 - val_binary_accuracy: 0.8642\n",
            "Epoch 2/15\n",
            "8987/8987 [==============================] - 27s 3ms/step - loss: 0.4020 - binary_accuracy: 0.8651 - val_loss: 0.4034 - val_binary_accuracy: 0.8642\n",
            "Epoch 3/15\n",
            "8987/8987 [==============================] - 27s 3ms/step - loss: 0.4017 - binary_accuracy: 0.8651 - val_loss: 0.4031 - val_binary_accuracy: 0.8642\n",
            "Epoch 4/15\n",
            "8987/8987 [==============================] - 27s 3ms/step - loss: 0.4014 - binary_accuracy: 0.8651 - val_loss: 0.4028 - val_binary_accuracy: 0.8642\n",
            "Epoch 5/15\n",
            "8987/8987 [==============================] - 27s 3ms/step - loss: 0.4012 - binary_accuracy: 0.8651 - val_loss: 0.4026 - val_binary_accuracy: 0.8642\n",
            "Epoch 6/15\n",
            "8987/8987 [==============================] - 35s 4ms/step - loss: 0.4009 - binary_accuracy: 0.8651 - val_loss: 0.4024 - val_binary_accuracy: 0.8642\n",
            "Epoch 7/15\n",
            "8987/8987 [==============================] - 32s 4ms/step - loss: 0.4007 - binary_accuracy: 0.8651 - val_loss: 0.4022 - val_binary_accuracy: 0.8642\n",
            "Epoch 8/15\n",
            "8987/8987 [==============================] - 27s 3ms/step - loss: 0.4005 - binary_accuracy: 0.8651 - val_loss: 0.4020 - val_binary_accuracy: 0.8642\n",
            "Epoch 9/15\n",
            "8987/8987 [==============================] - 27s 3ms/step - loss: 0.4003 - binary_accuracy: 0.8651 - val_loss: 0.4019 - val_binary_accuracy: 0.8642\n",
            "Epoch 10/15\n",
            "8987/8987 [==============================] - 28s 3ms/step - loss: 0.4001 - binary_accuracy: 0.8651 - val_loss: 0.4017 - val_binary_accuracy: 0.8642\n",
            "Epoch 11/15\n",
            "8987/8987 [==============================] - 28s 3ms/step - loss: 0.3999 - binary_accuracy: 0.8651 - val_loss: 0.4016 - val_binary_accuracy: 0.8642\n",
            "Epoch 12/15\n",
            "8987/8987 [==============================] - 28s 3ms/step - loss: 0.3998 - binary_accuracy: 0.8651 - val_loss: 0.4014 - val_binary_accuracy: 0.8642\n",
            "Epoch 13/15\n",
            "8987/8987 [==============================] - 27s 3ms/step - loss: 0.3996 - binary_accuracy: 0.8651 - val_loss: 0.4013 - val_binary_accuracy: 0.8642\n",
            "Epoch 14/15\n",
            "8987/8987 [==============================] - 27s 3ms/step - loss: 0.3995 - binary_accuracy: 0.8651 - val_loss: 0.4012 - val_binary_accuracy: 0.8642\n",
            "Epoch 15/15\n",
            "8987/8987 [==============================] - 43s 5ms/step - loss: 0.3993 - binary_accuracy: 0.8651 - val_loss: 0.4011 - val_binary_accuracy: 0.8642\n"
          ]
        }
      ]
    },
    {
      "cell_type": "code",
      "source": [
        "dl_model_2.evaluate(x_test,y_test)"
      ],
      "metadata": {
        "colab": {
          "base_uri": "https://localhost:8080/"
        },
        "id": "f17SjULUhMEh",
        "outputId": "1323439f-1280-47c0-e2b7-82e318689fb0"
      },
      "execution_count": 75,
      "outputs": [
        {
          "output_type": "stream",
          "name": "stdout",
          "text": [
            "2247/2247 [==============================] - 5s 2ms/step - loss: 0.4011 - binary_accuracy: 0.8642\n"
          ]
        },
        {
          "output_type": "execute_result",
          "data": {
            "text/plain": [
              "[0.40105852484703064, 0.864173173904419]"
            ]
          },
          "metadata": {},
          "execution_count": 75
        }
      ]
    },
    {
      "cell_type": "code",
      "source": [
        "y_perd_d2 = dl_model_2.predict(x_test)\n",
        "y_perd_d2_class = []\n",
        "for i in y_perd_d2:\n",
        "    y_perd_d2_class.append(i.argmax())\n",
        "\n",
        "\n",
        "from sklearn.metrics import classification_report\n",
        "\n",
        "print(classification_report(y_perd_d2_class,y_test))"
      ],
      "metadata": {
        "colab": {
          "base_uri": "https://localhost:8080/"
        },
        "id": "IbzqqKTonFD3",
        "outputId": "9a3fb5ba-f4bf-4640-8bb9-dcfec3f34a81"
      },
      "execution_count": 76,
      "outputs": [
        {
          "output_type": "stream",
          "name": "stdout",
          "text": [
            "              precision    recall  f1-score   support\n",
            "\n",
            "           0       1.00      0.86      0.93     71893\n",
            "           1       0.00      0.00      0.00         0\n",
            "\n",
            "    accuracy                           0.86     71893\n",
            "   macro avg       0.50      0.43      0.46     71893\n",
            "weighted avg       1.00      0.86      0.93     71893\n",
            "\n"
          ]
        },
        {
          "output_type": "stream",
          "name": "stderr",
          "text": [
            "/usr/local/lib/python3.7/dist-packages/sklearn/metrics/_classification.py:1318: UndefinedMetricWarning: Recall and F-score are ill-defined and being set to 0.0 in labels with no true samples. Use `zero_division` parameter to control this behavior.\n",
            "  _warn_prf(average, modifier, msg_start, len(result))\n",
            "/usr/local/lib/python3.7/dist-packages/sklearn/metrics/_classification.py:1318: UndefinedMetricWarning: Recall and F-score are ill-defined and being set to 0.0 in labels with no true samples. Use `zero_division` parameter to control this behavior.\n",
            "  _warn_prf(average, modifier, msg_start, len(result))\n",
            "/usr/local/lib/python3.7/dist-packages/sklearn/metrics/_classification.py:1318: UndefinedMetricWarning: Recall and F-score are ill-defined and being set to 0.0 in labels with no true samples. Use `zero_division` parameter to control this behavior.\n",
            "  _warn_prf(average, modifier, msg_start, len(result))\n"
          ]
        }
      ]
    },
    {
      "cell_type": "code",
      "source": [
        "dl_model_3 = tf.keras.models.Sequential([\n",
        "    tf.keras.layers.InputLayer(input_shape =(len(train_df.columns)-1)),\n",
        "    tf.keras.layers.Dense(units=90,activation='relu'),\n",
        "    tf.keras.layers.Dense(units=50,activation='relu'),\n",
        "    tf.keras.layers.Dense(units=10,activation='relu'),\n",
        "    tf.keras.layers.Dense(units=5,activation='relu'),\n",
        "    tf.keras.layers.Dense(units=len(y_train.unique()),activation='sigmoid')  \n",
        "\n",
        "                                       ])"
      ],
      "metadata": {
        "id": "P_RsE-4TtuEW"
      },
      "execution_count": 160,
      "outputs": []
    },
    {
      "cell_type": "code",
      "source": [
        "dl_model_3.summary()"
      ],
      "metadata": {
        "colab": {
          "base_uri": "https://localhost:8080/"
        },
        "id": "L-03TLWWvLdt",
        "outputId": "f575fb43-9ca3-4c1a-afee-7582a4362d68"
      },
      "execution_count": 161,
      "outputs": [
        {
          "output_type": "stream",
          "name": "stdout",
          "text": [
            "Model: \"sequential_2\"\n",
            "_________________________________________________________________\n",
            " Layer (type)                Output Shape              Param #   \n",
            "=================================================================\n",
            " dense_19 (Dense)            (None, 90)                10710     \n",
            "                                                                 \n",
            " dense_20 (Dense)            (None, 50)                4550      \n",
            "                                                                 \n",
            " dense_21 (Dense)            (None, 10)                510       \n",
            "                                                                 \n",
            " dense_22 (Dense)            (None, 5)                 55        \n",
            "                                                                 \n",
            " dense_23 (Dense)            (None, 2)                 12        \n",
            "                                                                 \n",
            "=================================================================\n",
            "Total params: 15,837\n",
            "Trainable params: 15,837\n",
            "Non-trainable params: 0\n",
            "_________________________________________________________________\n"
          ]
        }
      ]
    },
    {
      "cell_type": "code",
      "source": [
        "dl_model_3.compile(\n",
        "    optimizer='adam',loss = tf.keras.losses.SparseCategoricalCrossentropy(), metrics=tf.keras.metrics.BinaryAccuracy()\n",
        ")"
      ],
      "metadata": {
        "id": "43spKTFfvMoe"
      },
      "execution_count": 162,
      "outputs": []
    },
    {
      "cell_type": "code",
      "source": [
        "hist = dl_model_3.fit(\n",
        "    x = x_train,\n",
        "    y= y_train,\n",
        "    validation_data = (x_test,y_test),\n",
        "    epochs = 10\n",
        ")"
      ],
      "metadata": {
        "colab": {
          "base_uri": "https://localhost:8080/"
        },
        "id": "N-cnycNivbmB",
        "outputId": "56cd169c-7da9-4d30-8da9-d0df9a45b02c"
      },
      "execution_count": 163,
      "outputs": [
        {
          "output_type": "stream",
          "name": "stdout",
          "text": [
            "Epoch 1/10\n",
            "8987/8987 [==============================] - 24s 3ms/step - loss: 0.3981 - binary_accuracy: 0.8648 - val_loss: 0.3992 - val_binary_accuracy: 0.8646\n",
            "Epoch 2/10\n",
            "8987/8987 [==============================] - 26s 3ms/step - loss: 0.3945 - binary_accuracy: 0.8650 - val_loss: 0.3967 - val_binary_accuracy: 0.8646\n",
            "Epoch 3/10\n",
            "8987/8987 [==============================] - 25s 3ms/step - loss: 0.3936 - binary_accuracy: 0.8650 - val_loss: 0.3970 - val_binary_accuracy: 0.8646\n",
            "Epoch 4/10\n",
            "8987/8987 [==============================] - 25s 3ms/step - loss: 0.3927 - binary_accuracy: 0.8650 - val_loss: 0.3988 - val_binary_accuracy: 0.8646\n",
            "Epoch 5/10\n",
            "8987/8987 [==============================] - 23s 3ms/step - loss: 0.3912 - binary_accuracy: 0.8648 - val_loss: 0.4012 - val_binary_accuracy: 0.8642\n",
            "Epoch 6/10\n",
            "8987/8987 [==============================] - 26s 3ms/step - loss: 0.3890 - binary_accuracy: 0.8647 - val_loss: 0.4007 - val_binary_accuracy: 0.8637\n",
            "Epoch 7/10\n",
            "8987/8987 [==============================] - 25s 3ms/step - loss: 0.3865 - binary_accuracy: 0.8644 - val_loss: 0.4048 - val_binary_accuracy: 0.8626\n",
            "Epoch 8/10\n",
            "8987/8987 [==============================] - 28s 3ms/step - loss: 0.3837 - binary_accuracy: 0.8639 - val_loss: 0.4068 - val_binary_accuracy: 0.8617\n",
            "Epoch 9/10\n",
            "8987/8987 [==============================] - 27s 3ms/step - loss: 0.3812 - binary_accuracy: 0.8645 - val_loss: 0.4125 - val_binary_accuracy: 0.8602\n",
            "Epoch 10/10\n",
            "8987/8987 [==============================] - 30s 3ms/step - loss: 0.3791 - binary_accuracy: 0.8642 - val_loss: 0.4110 - val_binary_accuracy: 0.8601\n"
          ]
        }
      ]
    },
    {
      "cell_type": "code",
      "source": [
        "dl_model_3.evaluate(x_test,y_test)"
      ],
      "metadata": {
        "colab": {
          "base_uri": "https://localhost:8080/"
        },
        "id": "N8iGgfrNvmRm",
        "outputId": "4fd1eee6-2c29-4279-de28-89210584d197"
      },
      "execution_count": 164,
      "outputs": [
        {
          "output_type": "stream",
          "name": "stdout",
          "text": [
            "2247/2247 [==============================] - 5s 2ms/step - loss: 0.4110 - binary_accuracy: 0.8601\n"
          ]
        },
        {
          "output_type": "execute_result",
          "data": {
            "text/plain": [
              "[0.41096219420433044, 0.8600906729698181]"
            ]
          },
          "metadata": {},
          "execution_count": 164
        }
      ]
    },
    {
      "cell_type": "code",
      "source": [],
      "metadata": {
        "id": "vwJGJ4SxpLS9"
      },
      "execution_count": null,
      "outputs": []
    }
  ],
  "metadata": {
    "accelerator": "GPU",
    "colab": {
      "collapsed_sections": [],
      "name": "1- From ML to DL .ipynb",
      "provenance": [],
      "mount_file_id": "1a59QLhMFb8G5jNu93J6OvarkQ3xroN_t",
      "authorship_tag": "ABX9TyPG+psv3vfA2j7fkXR5903Q",
      "include_colab_link": true
    },
    "gpuClass": "standard",
    "kernelspec": {
      "display_name": "Python 3",
      "name": "python3"
    },
    "language_info": {
      "name": "python"
    }
  },
  "nbformat": 4,
  "nbformat_minor": 0
}