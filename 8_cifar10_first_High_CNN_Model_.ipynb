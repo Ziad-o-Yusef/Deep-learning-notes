{
  "nbformat": 4,
  "nbformat_minor": 0,
  "metadata": {
    "colab": {
      "provenance": [],
      "collapsed_sections": [],
      "authorship_tag": "ABX9TyOrIgwbJVH0onmniAQjlAd9",
      "include_colab_link": true
    },
    "kernelspec": {
      "name": "python3",
      "display_name": "Python 3"
    },
    "language_info": {
      "name": "python"
    },
    "accelerator": "GPU"
  },
  "cells": [
    {
      "cell_type": "markdown",
      "metadata": {
        "id": "view-in-github",
        "colab_type": "text"
      },
      "source": [
        "<a href=\"https://colab.research.google.com/github/Ziad-o-Yusef/Deep-learning-notes/blob/main/8_cifar10_first_High_CNN_Model_.ipynb\" target=\"_parent\"><img src=\"https://colab.research.google.com/assets/colab-badge.svg\" alt=\"Open In Colab\"/></a>"
      ]
    },
    {
      "cell_type": "code",
      "execution_count": null,
      "metadata": {
        "id": "_xHgWKYsVRvl"
      },
      "outputs": [],
      "source": [
        "import pandas as pd\n",
        "import numpy as np\n",
        "import tensorflow as tf\n"
      ]
    },
    {
      "cell_type": "code",
      "source": [
        "(X_train,Y_train),(X_test,Y_test) = tf.keras.datasets.cifar10.load_data()"
      ],
      "metadata": {
        "colab": {
          "base_uri": "https://localhost:8080/"
        },
        "id": "Q5WQChKPVg0k",
        "outputId": "c9fba503-9444-4538-c2a1-00188bff2a0b"
      },
      "execution_count": null,
      "outputs": [
        {
          "output_type": "stream",
          "name": "stdout",
          "text": [
            "Downloading data from https://www.cs.toronto.edu/~kriz/cifar-10-python.tar.gz\n",
            "170500096/170498071 [==============================] - 2s 0us/step\n",
            "170508288/170498071 [==============================] - 2s 0us/step\n"
          ]
        }
      ]
    },
    {
      "cell_type": "code",
      "source": [
        "import matplotlib.pyplot as plt\n",
        "%matplotlib inline"
      ],
      "metadata": {
        "id": "QxLq-y9EV547"
      },
      "execution_count": null,
      "outputs": []
    },
    {
      "cell_type": "code",
      "source": [
        "X_train[5]"
      ],
      "metadata": {
        "colab": {
          "base_uri": "https://localhost:8080/"
        },
        "id": "CyPYKFNOV-Z4",
        "outputId": "92261800-398a-429f-e2c9-8d3408224760"
      },
      "execution_count": null,
      "outputs": [
        {
          "output_type": "execute_result",
          "data": {
            "text/plain": [
              "array([[[159, 102, 101],\n",
              "        [150,  91,  95],\n",
              "        [153,  95,  97],\n",
              "        ...,\n",
              "        [ 91,  71,  56],\n",
              "        [ 74,  63,  55],\n",
              "        [ 76,  58,  55]],\n",
              "\n",
              "       [[142,  75,  68],\n",
              "        [146,  72,  66],\n",
              "        [155,  76,  65],\n",
              "        ...,\n",
              "        [127, 105,  71],\n",
              "        [122, 111,  93],\n",
              "        [ 86,  69,  61]],\n",
              "\n",
              "       [[109,  67,  75],\n",
              "        [ 99,  58,  60],\n",
              "        [105,  59,  52],\n",
              "        ...,\n",
              "        [137, 112,  80],\n",
              "        [163, 132, 105],\n",
              "        [ 93,  72,  71]],\n",
              "\n",
              "       ...,\n",
              "\n",
              "       [[244, 129,  70],\n",
              "        [240, 123,  65],\n",
              "        [241, 122,  65],\n",
              "        ...,\n",
              "        [156,  42,  15],\n",
              "        [179,  59,  26],\n",
              "        [200,  73,  36]],\n",
              "\n",
              "       [[246, 133,  74],\n",
              "        [243, 128,  72],\n",
              "        [243, 127,  70],\n",
              "        ...,\n",
              "        [162,  44,  14],\n",
              "        [178,  56,  22],\n",
              "        [192,  65,  27]],\n",
              "\n",
              "       [[246, 139,  82],\n",
              "        [243, 133,  78],\n",
              "        [244, 132,  77],\n",
              "        ...,\n",
              "        [166,  47,  14],\n",
              "        [173,  51,  17],\n",
              "        [182,  57,  19]]], dtype=uint8)"
            ]
          },
          "metadata": {},
          "execution_count": 5
        }
      ]
    },
    {
      "cell_type": "code",
      "source": [
        "X_train.shape"
      ],
      "metadata": {
        "colab": {
          "base_uri": "https://localhost:8080/"
        },
        "id": "5Oq_-gTnWnbV",
        "outputId": "8615f93c-3458-43e1-91ab-658849e5eaf0"
      },
      "execution_count": null,
      "outputs": [
        {
          "output_type": "execute_result",
          "data": {
            "text/plain": [
              "(50000, 32, 32, 3)"
            ]
          },
          "metadata": {},
          "execution_count": 6
        }
      ]
    },
    {
      "cell_type": "code",
      "source": [
        "X_train = X_train/255\n",
        "X_test = X_test/255"
      ],
      "metadata": {
        "id": "ptDuogD-W12B"
      },
      "execution_count": null,
      "outputs": []
    },
    {
      "cell_type": "code",
      "source": [
        "Y_test = tf.keras.utils.to_categorical(Y_test,10)\n",
        "Y_train = tf.keras.utils.to_categorical(Y_train,10)"
      ],
      "metadata": {
        "id": "i2oJjtGJW802"
      },
      "execution_count": null,
      "outputs": []
    },
    {
      "cell_type": "code",
      "source": [
        "Y_test[5]"
      ],
      "metadata": {
        "colab": {
          "base_uri": "https://localhost:8080/"
        },
        "id": "tMz69wqkXT6r",
        "outputId": "acb344ef-b05a-425a-a599-da11d8704f47"
      },
      "execution_count": null,
      "outputs": [
        {
          "output_type": "execute_result",
          "data": {
            "text/plain": [
              "array([0., 0., 0., 0., 0., 0., 1., 0., 0., 0.], dtype=float32)"
            ]
          },
          "metadata": {},
          "execution_count": 10
        }
      ]
    },
    {
      "cell_type": "code",
      "source": [
        "from tensorflow.keras.models import Sequential\n"
      ],
      "metadata": {
        "id": "7K6FX41QXbH1"
      },
      "execution_count": null,
      "outputs": []
    },
    {
      "cell_type": "code",
      "source": [
        "model = Sequential([\n",
        "    tf.keras.layers.Conv2D(filters=32,kernel_size=(2,2),input_shape=(32, 32, 3), activation='relu',),\n",
        "    tf.keras.layers.MaxPool2D(pool_size=(2,2)),\n",
        "    tf.keras.layers.Conv2D(filters=32,kernel_size=(2,2),input_shape=(32, 32, 3), activation='relu',),\n",
        "        tf.keras.layers.MaxPool2D(pool_size=(2,2)),\n",
        "        tf.keras.layers.Flatten(),\n",
        "        tf.keras.layers.Dense(200, activation='relu'),\n",
        "        tf.keras.layers.Dense(100, activation='relu'),\n",
        "        tf.keras.layers.Dense(50, activation='relu'),\n",
        "        tf.keras.layers.Dense(10, activation='softmax'),\n",
        "\n",
        "])"
      ],
      "metadata": {
        "id": "nOSk_2ZAXrGo"
      },
      "execution_count": null,
      "outputs": []
    },
    {
      "cell_type": "code",
      "source": [
        "model.compile(loss='categorical_crossentropy',\n",
        "              optimizer='adam',\n",
        "              metrics=['accuracy'])"
      ],
      "metadata": {
        "id": "iQv2BWHVY3rM"
      },
      "execution_count": null,
      "outputs": []
    },
    {
      "cell_type": "code",
      "source": [
        "model.summary()"
      ],
      "metadata": {
        "colab": {
          "base_uri": "https://localhost:8080/"
        },
        "id": "o6OXdF1PZDxJ",
        "outputId": "2495d1bd-f05a-4cd1-8b4f-469dd874bbb9"
      },
      "execution_count": null,
      "outputs": [
        {
          "output_type": "stream",
          "name": "stdout",
          "text": [
            "Model: \"sequential\"\n",
            "_________________________________________________________________\n",
            " Layer (type)                Output Shape              Param #   \n",
            "=================================================================\n",
            " conv2d (Conv2D)             (None, 31, 31, 32)        416       \n",
            "                                                                 \n",
            " max_pooling2d (MaxPooling2D  (None, 15, 15, 32)       0         \n",
            " )                                                               \n",
            "                                                                 \n",
            " conv2d_1 (Conv2D)           (None, 14, 14, 32)        4128      \n",
            "                                                                 \n",
            " max_pooling2d_1 (MaxPooling  (None, 7, 7, 32)         0         \n",
            " 2D)                                                             \n",
            "                                                                 \n",
            " flatten (Flatten)           (None, 1568)              0         \n",
            "                                                                 \n",
            " dense (Dense)               (None, 200)               313800    \n",
            "                                                                 \n",
            " dense_1 (Dense)             (None, 100)               20100     \n",
            "                                                                 \n",
            " dense_2 (Dense)             (None, 50)                5050      \n",
            "                                                                 \n",
            " dense_3 (Dense)             (None, 10)                510       \n",
            "                                                                 \n",
            "=================================================================\n",
            "Total params: 344,004\n",
            "Trainable params: 344,004\n",
            "Non-trainable params: 0\n",
            "_________________________________________________________________\n"
          ]
        }
      ]
    },
    {
      "cell_type": "code",
      "source": [
        "early_stop = tf.keras.callbacks.EarlyStopping(monitor='val_loss',patience=3)"
      ],
      "metadata": {
        "id": "AKg45fYiZj6v"
      },
      "execution_count": null,
      "outputs": []
    },
    {
      "cell_type": "code",
      "source": [
        "model.fit(X_train,Y_train,epochs=15,validation_data=(X_test,Y_test),callbacks=[early_stop])"
      ],
      "metadata": {
        "colab": {
          "base_uri": "https://localhost:8080/"
        },
        "id": "JmjQSbECZGaB",
        "outputId": "823010c2-6cbd-4032-9ac2-14f54b36a018"
      },
      "execution_count": null,
      "outputs": [
        {
          "output_type": "stream",
          "name": "stdout",
          "text": [
            "Epoch 1/15\n",
            "1563/1563 [==============================] - 19s 5ms/step - loss: 1.4875 - accuracy: 0.4571 - val_loss: 1.1967 - val_accuracy: 0.5730\n",
            "Epoch 2/15\n",
            "1563/1563 [==============================] - 7s 4ms/step - loss: 1.0988 - accuracy: 0.6077 - val_loss: 1.0257 - val_accuracy: 0.6399\n",
            "Epoch 3/15\n",
            "1563/1563 [==============================] - 7s 5ms/step - loss: 0.9425 - accuracy: 0.6642 - val_loss: 0.9769 - val_accuracy: 0.6586\n",
            "Epoch 4/15\n",
            "1563/1563 [==============================] - 7s 4ms/step - loss: 0.8437 - accuracy: 0.7049 - val_loss: 0.9578 - val_accuracy: 0.6698\n",
            "Epoch 5/15\n",
            "1563/1563 [==============================] - 7s 4ms/step - loss: 0.7585 - accuracy: 0.7335 - val_loss: 0.9186 - val_accuracy: 0.6813\n",
            "Epoch 6/15\n",
            "1563/1563 [==============================] - 7s 5ms/step - loss: 0.6818 - accuracy: 0.7580 - val_loss: 0.8974 - val_accuracy: 0.6926\n",
            "Epoch 7/15\n",
            "1563/1563 [==============================] - 7s 4ms/step - loss: 0.6127 - accuracy: 0.7825 - val_loss: 0.9208 - val_accuracy: 0.6921\n",
            "Epoch 8/15\n",
            "1563/1563 [==============================] - 7s 4ms/step - loss: 0.5440 - accuracy: 0.8073 - val_loss: 1.0215 - val_accuracy: 0.6743\n",
            "Epoch 9/15\n",
            "1563/1563 [==============================] - 7s 5ms/step - loss: 0.4856 - accuracy: 0.8287 - val_loss: 0.9895 - val_accuracy: 0.6925\n"
          ]
        },
        {
          "output_type": "execute_result",
          "data": {
            "text/plain": [
              "<keras.callbacks.History at 0x7f4952635e50>"
            ]
          },
          "metadata": {},
          "execution_count": 20
        }
      ]
    },
    {
      "cell_type": "code",
      "source": [
        "model2 = Sequential([\n",
        "    tf.keras.layers.Conv2D(filters=32,kernel_size=(2,2),input_shape=(32, 32, 3), activation='relu',),\n",
        "    tf.keras.layers.MaxPool2D(pool_size=(2,2)),\n",
        "    tf.keras.layers.Conv2D(filters=32,kernel_size=(2,2),input_shape=(32, 32, 3), activation='relu',),\n",
        "        tf.keras.layers.MaxPool2D(pool_size=(2,2)),\n",
        "        tf.keras.layers.Conv2D(filters=32,kernel_size=(2,2),input_shape=(32, 32, 3), activation='relu',),\n",
        "        tf.keras.layers.MaxPool2D(pool_size=(2,2)),\n",
        "        tf.keras.layers.Conv2D(filters=32,kernel_size=(2,2),input_shape=(32, 32, 3), activation='relu',),\n",
        "        tf.keras.layers.MaxPool2D(pool_size=(2,2)),\n",
        "        tf.keras.layers.Flatten(),\n",
        "        tf.keras.layers.Dense(200, activation='relu'),\n",
        "        tf.keras.layers.Dense(10, activation='softmax'),\n",
        "\n",
        "])"
      ],
      "metadata": {
        "id": "yMWMP9evZ_lx"
      },
      "execution_count": null,
      "outputs": []
    },
    {
      "cell_type": "code",
      "source": [
        "model2.compile(loss='categorical_crossentropy',\n",
        "              optimizer='adam',\n",
        "              metrics=['accuracy'])"
      ],
      "metadata": {
        "id": "-Kd3zXu2dB4z"
      },
      "execution_count": null,
      "outputs": []
    },
    {
      "cell_type": "code",
      "source": [
        "model2.fit(X_train,Y_train,epochs=15,validation_data=(X_test,Y_test),callbacks=[early_stop])"
      ],
      "metadata": {
        "colab": {
          "base_uri": "https://localhost:8080/"
        },
        "id": "0gutFy7OdHyB",
        "outputId": "bd22cf21-6ac3-408e-bada-db8670ebfd03"
      },
      "execution_count": null,
      "outputs": [
        {
          "output_type": "stream",
          "name": "stdout",
          "text": [
            "Epoch 1/15\n",
            "1563/1563 [==============================] - 9s 5ms/step - loss: 1.7190 - accuracy: 0.3577 - val_loss: 1.4817 - val_accuracy: 0.4582\n",
            "Epoch 2/15\n",
            "1563/1563 [==============================] - 7s 5ms/step - loss: 1.3954 - accuracy: 0.4896 - val_loss: 1.2934 - val_accuracy: 0.5299\n",
            "Epoch 3/15\n",
            "1563/1563 [==============================] - 7s 5ms/step - loss: 1.2705 - accuracy: 0.5412 - val_loss: 1.2784 - val_accuracy: 0.5426\n",
            "Epoch 4/15\n",
            "1563/1563 [==============================] - 8s 5ms/step - loss: 1.1828 - accuracy: 0.5742 - val_loss: 1.1822 - val_accuracy: 0.5732\n",
            "Epoch 5/15\n",
            "1563/1563 [==============================] - 7s 5ms/step - loss: 1.1234 - accuracy: 0.5947 - val_loss: 1.1152 - val_accuracy: 0.6017\n",
            "Epoch 6/15\n",
            "1563/1563 [==============================] - 7s 5ms/step - loss: 1.0709 - accuracy: 0.6158 - val_loss: 1.1089 - val_accuracy: 0.6059\n",
            "Epoch 7/15\n",
            "1563/1563 [==============================] - 7s 5ms/step - loss: 1.0209 - accuracy: 0.6334 - val_loss: 1.0708 - val_accuracy: 0.6174\n",
            "Epoch 8/15\n",
            "1563/1563 [==============================] - 7s 5ms/step - loss: 0.9834 - accuracy: 0.6489 - val_loss: 1.0197 - val_accuracy: 0.6384\n",
            "Epoch 9/15\n",
            "1563/1563 [==============================] - 8s 5ms/step - loss: 0.9528 - accuracy: 0.6618 - val_loss: 1.0604 - val_accuracy: 0.6299\n",
            "Epoch 10/15\n",
            "1563/1563 [==============================] - 7s 5ms/step - loss: 0.9290 - accuracy: 0.6682 - val_loss: 0.9892 - val_accuracy: 0.6531\n",
            "Epoch 11/15\n",
            "1563/1563 [==============================] - 8s 5ms/step - loss: 0.9027 - accuracy: 0.6787 - val_loss: 0.9708 - val_accuracy: 0.6603\n",
            "Epoch 12/15\n",
            "1563/1563 [==============================] - 8s 5ms/step - loss: 0.8811 - accuracy: 0.6873 - val_loss: 1.0100 - val_accuracy: 0.6463\n",
            "Epoch 13/15\n",
            "1563/1563 [==============================] - 8s 5ms/step - loss: 0.8618 - accuracy: 0.6939 - val_loss: 1.0276 - val_accuracy: 0.6370\n",
            "Epoch 14/15\n",
            "1563/1563 [==============================] - 8s 5ms/step - loss: 0.8490 - accuracy: 0.6990 - val_loss: 0.9583 - val_accuracy: 0.6645\n",
            "Epoch 15/15\n",
            "1563/1563 [==============================] - 7s 5ms/step - loss: 0.8333 - accuracy: 0.7048 - val_loss: 0.9720 - val_accuracy: 0.6594\n"
          ]
        },
        {
          "output_type": "execute_result",
          "data": {
            "text/plain": [
              "<keras.callbacks.History at 0x7f48d47a9e50>"
            ]
          },
          "metadata": {},
          "execution_count": 26
        }
      ]
    },
    {
      "cell_type": "code",
      "source": [
        "model3 = Sequential([\n",
        "    tf.keras.layers.Conv2D(filters=32,kernel_size=(2,2),input_shape=(32, 32, 3), activation='relu',),\n",
        "    tf.keras.layers.Conv2D(filters=32,kernel_size=(2,2),activation='relu',),\n",
        "    tf.keras.layers.MaxPool2D(pool_size=(2,2)),\n",
        "    tf.keras.layers.Conv2D(filters=64,kernel_size=(2,2), activation='relu',),\n",
        "        tf.keras.layers.MaxPool2D(pool_size=(2,2)),\n",
        "        tf.keras.layers.Conv2D(filters=128,kernel_size=(2,2), activation='relu',),\n",
        "            tf.keras.layers.Conv2D(filters=128,kernel_size=(2,2), activation='relu',),\n",
        "        tf.keras.layers.Conv2D(filters=128,kernel_size=(2,2), activation='relu',),\n",
        "        tf.keras.layers.Flatten(),\n",
        "        tf.keras.layers.Dense(150, activation='relu'),\n",
        "        tf.keras.layers.Dropout(0.5),\n",
        "        tf.keras.layers.Dense(10, activation='softmax'),\n",
        "\n",
        "])"
      ],
      "metadata": {
        "id": "DxDCC7sCdMxI"
      },
      "execution_count": null,
      "outputs": []
    },
    {
      "cell_type": "code",
      "source": [
        "model3.compile(loss='categorical_crossentropy',\n",
        "              optimizer='adam',\n",
        "              metrics=['accuracy'])"
      ],
      "metadata": {
        "id": "uE9OqzxNeJ-v"
      },
      "execution_count": null,
      "outputs": []
    },
    {
      "cell_type": "code",
      "source": [
        "model3.fit(X_train,Y_train,epochs=20,validation_data=(X_test,Y_test))"
      ],
      "metadata": {
        "colab": {
          "base_uri": "https://localhost:8080/"
        },
        "id": "XtBOqzDvermI",
        "outputId": "9cbeb5ec-2e94-4402-f6ad-487ce411565f"
      },
      "execution_count": null,
      "outputs": [
        {
          "output_type": "stream",
          "name": "stdout",
          "text": [
            "Epoch 1/20\n",
            "1563/1563 [==============================] - 10s 6ms/step - loss: 1.6993 - accuracy: 0.3662 - val_loss: 1.4307 - val_accuracy: 0.4882\n",
            "Epoch 2/20\n",
            "1563/1563 [==============================] - 9s 5ms/step - loss: 1.3249 - accuracy: 0.5231 - val_loss: 1.1119 - val_accuracy: 0.6024\n",
            "Epoch 3/20\n",
            "1563/1563 [==============================] - 8s 5ms/step - loss: 1.1158 - accuracy: 0.6056 - val_loss: 0.9982 - val_accuracy: 0.6459\n",
            "Epoch 4/20\n",
            "1563/1563 [==============================] - 9s 6ms/step - loss: 0.9842 - accuracy: 0.6564 - val_loss: 0.9072 - val_accuracy: 0.6811\n",
            "Epoch 5/20\n",
            "1563/1563 [==============================] - 8s 5ms/step - loss: 0.8758 - accuracy: 0.6963 - val_loss: 0.8508 - val_accuracy: 0.7038\n",
            "Epoch 6/20\n",
            "1563/1563 [==============================] - 8s 5ms/step - loss: 0.7981 - accuracy: 0.7237 - val_loss: 0.8094 - val_accuracy: 0.7204\n",
            "Epoch 7/20\n",
            "1563/1563 [==============================] - 9s 5ms/step - loss: 0.7358 - accuracy: 0.7467 - val_loss: 0.7739 - val_accuracy: 0.7310\n",
            "Epoch 8/20\n",
            "1563/1563 [==============================] - 9s 6ms/step - loss: 0.6791 - accuracy: 0.7649 - val_loss: 0.7640 - val_accuracy: 0.7481\n",
            "Epoch 9/20\n",
            "1563/1563 [==============================] - 8s 5ms/step - loss: 0.6349 - accuracy: 0.7787 - val_loss: 0.7244 - val_accuracy: 0.7560\n",
            "Epoch 10/20\n",
            "1563/1563 [==============================] - 8s 5ms/step - loss: 0.5882 - accuracy: 0.7947 - val_loss: 0.7709 - val_accuracy: 0.7479\n",
            "Epoch 11/20\n",
            "1563/1563 [==============================] - 8s 5ms/step - loss: 0.5506 - accuracy: 0.8085 - val_loss: 0.7718 - val_accuracy: 0.7463\n",
            "Epoch 12/20\n",
            "1563/1563 [==============================] - 9s 6ms/step - loss: 0.5143 - accuracy: 0.8188 - val_loss: 0.7638 - val_accuracy: 0.7534\n",
            "Epoch 13/20\n",
            "1563/1563 [==============================] - 9s 6ms/step - loss: 0.4894 - accuracy: 0.8289 - val_loss: 0.7674 - val_accuracy: 0.7613\n",
            "Epoch 14/20\n",
            "1563/1563 [==============================] - 8s 5ms/step - loss: 0.4550 - accuracy: 0.8398 - val_loss: 0.7623 - val_accuracy: 0.7572\n",
            "Epoch 15/20\n",
            "1563/1563 [==============================] - 9s 6ms/step - loss: 0.4350 - accuracy: 0.8469 - val_loss: 0.7579 - val_accuracy: 0.7591\n",
            "Epoch 16/20\n",
            "1563/1563 [==============================] - 9s 5ms/step - loss: 0.4100 - accuracy: 0.8545 - val_loss: 0.8348 - val_accuracy: 0.7618\n",
            "Epoch 17/20\n",
            "1563/1563 [==============================] - 8s 5ms/step - loss: 0.3921 - accuracy: 0.8620 - val_loss: 0.8226 - val_accuracy: 0.7654\n",
            "Epoch 18/20\n",
            "1563/1563 [==============================] - 9s 6ms/step - loss: 0.3736 - accuracy: 0.8653 - val_loss: 0.8720 - val_accuracy: 0.7583\n",
            "Epoch 19/20\n",
            "1563/1563 [==============================] - 8s 5ms/step - loss: 0.3582 - accuracy: 0.8735 - val_loss: 0.8837 - val_accuracy: 0.7581\n",
            "Epoch 20/20\n",
            "1563/1563 [==============================] - 8s 5ms/step - loss: 0.3387 - accuracy: 0.8799 - val_loss: 0.9411 - val_accuracy: 0.7527\n"
          ]
        },
        {
          "output_type": "execute_result",
          "data": {
            "text/plain": [
              "<keras.callbacks.History at 0x7f48d4309050>"
            ]
          },
          "metadata": {},
          "execution_count": 35
        }
      ]
    },
    {
      "cell_type": "code",
      "source": [
        "model4 = Sequential([\n",
        "    tf.keras.layers.Conv2D(filters=32,kernel_size=(2,2),input_shape=(32, 32, 3), activation='relu',),\n",
        "    tf.keras.layers.Conv2D(filters=32,kernel_size=(2,2),activation='relu',),\n",
        "    tf.keras.layers.BatchNormalization(),\n",
        "    tf.keras.layers.MaxPool2D(pool_size=(2,2)),\n",
        "    tf.keras.layers.Conv2D(filters=64,kernel_size=(2,2), activation='relu',),\n",
        "            tf.keras.layers.Dropout(0.5),\n",
        "\n",
        "        tf.keras.layers.MaxPool2D(pool_size=(2,2)),\n",
        "        tf.keras.layers.Conv2D(filters=128,kernel_size=(2,2), activation='relu',),\n",
        "            tf.keras.layers.Conv2D(filters=128,kernel_size=(2,2), activation='relu',),\n",
        "            tf.keras.layers.BatchNormalization(),\n",
        "        tf.keras.layers.Conv2D(filters=128,kernel_size=(2,2), activation='relu',),\n",
        "        tf.keras.layers.Flatten(),\n",
        "        tf.keras.layers.Dense(150, activation='relu'),\n",
        "        tf.keras.layers.Dropout(0.5),\n",
        "        tf.keras.layers.Dense(10, activation='softmax'),\n",
        "\n",
        "])"
      ],
      "metadata": {
        "id": "RHALs67mew_x"
      },
      "execution_count": null,
      "outputs": []
    },
    {
      "cell_type": "code",
      "source": [
        "model4.summary()"
      ],
      "metadata": {
        "colab": {
          "base_uri": "https://localhost:8080/"
        },
        "id": "KuJy6PACgw6e",
        "outputId": "9c6dc250-981b-4aeb-9f1d-19f30b2f42cf"
      },
      "execution_count": null,
      "outputs": [
        {
          "output_type": "stream",
          "name": "stdout",
          "text": [
            "Model: \"sequential_8\"\n",
            "_________________________________________________________________\n",
            " Layer (type)                Output Shape              Param #   \n",
            "=================================================================\n",
            " conv2d_42 (Conv2D)          (None, 31, 31, 32)        416       \n",
            "                                                                 \n",
            " conv2d_43 (Conv2D)          (None, 30, 30, 32)        4128      \n",
            "                                                                 \n",
            " batch_normalization_2 (Batc  (None, 30, 30, 32)       128       \n",
            " hNormalization)                                                 \n",
            "                                                                 \n",
            " max_pooling2d_24 (MaxPoolin  (None, 15, 15, 32)       0         \n",
            " g2D)                                                            \n",
            "                                                                 \n",
            " conv2d_44 (Conv2D)          (None, 14, 14, 64)        8256      \n",
            "                                                                 \n",
            " dropout_3 (Dropout)         (None, 14, 14, 64)        0         \n",
            "                                                                 \n",
            " max_pooling2d_25 (MaxPoolin  (None, 7, 7, 64)         0         \n",
            " g2D)                                                            \n",
            "                                                                 \n",
            " conv2d_45 (Conv2D)          (None, 6, 6, 128)         32896     \n",
            "                                                                 \n",
            " conv2d_46 (Conv2D)          (None, 5, 5, 128)         65664     \n",
            "                                                                 \n",
            " batch_normalization_3 (Batc  (None, 5, 5, 128)        512       \n",
            " hNormalization)                                                 \n",
            "                                                                 \n",
            " conv2d_47 (Conv2D)          (None, 4, 4, 128)         65664     \n",
            "                                                                 \n",
            " flatten_8 (Flatten)         (None, 2048)              0         \n",
            "                                                                 \n",
            " dense_18 (Dense)            (None, 150)               307350    \n",
            "                                                                 \n",
            " dropout_4 (Dropout)         (None, 150)               0         \n",
            "                                                                 \n",
            " dense_19 (Dense)            (None, 10)                1510      \n",
            "                                                                 \n",
            "=================================================================\n",
            "Total params: 486,524\n",
            "Trainable params: 486,204\n",
            "Non-trainable params: 320\n",
            "_________________________________________________________________\n"
          ]
        }
      ]
    },
    {
      "cell_type": "code",
      "source": [
        "model4.compile(loss='categorical_crossentropy',\n",
        "              optimizer=tf.keras.optimizers.Adam(),\n",
        "              metrics=['accuracy'])"
      ],
      "metadata": {
        "id": "dTPrDCdagoUG"
      },
      "execution_count": null,
      "outputs": []
    },
    {
      "cell_type": "code",
      "source": [
        "model4.fit(X_train,Y_train,epochs=20,validation_data=(X_test,Y_test))"
      ],
      "metadata": {
        "colab": {
          "base_uri": "https://localhost:8080/"
        },
        "id": "pTUcfR8LgwLL",
        "outputId": "ec30f596-ef03-43aa-ae49-a7702ce8395e"
      },
      "execution_count": null,
      "outputs": [
        {
          "output_type": "stream",
          "name": "stdout",
          "text": [
            "Epoch 1/20\n",
            "1563/1563 [==============================] - 10s 6ms/step - loss: 1.6110 - accuracy: 0.4146 - val_loss: 1.8574 - val_accuracy: 0.3647\n",
            "Epoch 2/20\n",
            "1563/1563 [==============================] - 9s 6ms/step - loss: 1.2070 - accuracy: 0.5776 - val_loss: 1.2745 - val_accuracy: 0.5514\n",
            "Epoch 3/20\n",
            "1563/1563 [==============================] - 9s 6ms/step - loss: 1.0014 - accuracy: 0.6502 - val_loss: 1.1408 - val_accuracy: 0.5979\n",
            "Epoch 4/20\n",
            "1563/1563 [==============================] - 9s 6ms/step - loss: 0.8833 - accuracy: 0.6975 - val_loss: 1.0183 - val_accuracy: 0.6424\n",
            "Epoch 5/20\n",
            "1563/1563 [==============================] - 9s 6ms/step - loss: 0.8108 - accuracy: 0.7200 - val_loss: 1.0122 - val_accuracy: 0.6609\n",
            "Epoch 6/20\n",
            "1563/1563 [==============================] - 9s 6ms/step - loss: 0.7469 - accuracy: 0.7443 - val_loss: 0.9578 - val_accuracy: 0.6646\n",
            "Epoch 7/20\n",
            "1563/1563 [==============================] - 9s 6ms/step - loss: 0.7010 - accuracy: 0.7591 - val_loss: 0.8369 - val_accuracy: 0.7111\n",
            "Epoch 8/20\n",
            "1563/1563 [==============================] - 9s 6ms/step - loss: 0.6556 - accuracy: 0.7748 - val_loss: 1.0378 - val_accuracy: 0.6737\n",
            "Epoch 9/20\n",
            "1563/1563 [==============================] - 9s 6ms/step - loss: 0.6145 - accuracy: 0.7896 - val_loss: 0.9283 - val_accuracy: 0.7024\n",
            "Epoch 10/20\n",
            "1563/1563 [==============================] - 9s 6ms/step - loss: 0.5931 - accuracy: 0.7976 - val_loss: 0.7861 - val_accuracy: 0.7344\n",
            "Epoch 11/20\n",
            "1563/1563 [==============================] - 9s 6ms/step - loss: 0.5559 - accuracy: 0.8076 - val_loss: 0.9104 - val_accuracy: 0.7134\n",
            "Epoch 12/20\n",
            "1563/1563 [==============================] - 9s 6ms/step - loss: 0.5294 - accuracy: 0.8169 - val_loss: 0.7592 - val_accuracy: 0.7500\n",
            "Epoch 13/20\n",
            "1563/1563 [==============================] - 9s 6ms/step - loss: 0.5029 - accuracy: 0.8241 - val_loss: 1.0378 - val_accuracy: 0.6920\n",
            "Epoch 14/20\n",
            "1563/1563 [==============================] - 9s 6ms/step - loss: 0.4829 - accuracy: 0.8324 - val_loss: 0.9779 - val_accuracy: 0.7147\n",
            "Epoch 15/20\n",
            "1563/1563 [==============================] - 9s 6ms/step - loss: 0.4581 - accuracy: 0.8410 - val_loss: 0.9774 - val_accuracy: 0.7084\n",
            "Epoch 16/20\n",
            "1563/1563 [==============================] - 9s 6ms/step - loss: 0.4452 - accuracy: 0.8454 - val_loss: 0.8816 - val_accuracy: 0.7340\n",
            "Epoch 17/20\n",
            "1563/1563 [==============================] - 9s 6ms/step - loss: 0.4279 - accuracy: 0.8508 - val_loss: 0.8469 - val_accuracy: 0.7328\n",
            "Epoch 18/20\n",
            "1563/1563 [==============================] - 10s 6ms/step - loss: 0.4118 - accuracy: 0.8556 - val_loss: 0.8314 - val_accuracy: 0.7418\n",
            "Epoch 19/20\n",
            "1563/1563 [==============================] - 9s 6ms/step - loss: 0.3954 - accuracy: 0.8601 - val_loss: 0.9172 - val_accuracy: 0.7402\n",
            "Epoch 20/20\n",
            "1563/1563 [==============================] - 9s 6ms/step - loss: 0.3819 - accuracy: 0.8661 - val_loss: 0.8023 - val_accuracy: 0.7617\n"
          ]
        },
        {
          "output_type": "execute_result",
          "data": {
            "text/plain": [
              "<keras.callbacks.History at 0x7f48660587d0>"
            ]
          },
          "metadata": {},
          "execution_count": 43
        }
      ]
    },
    {
      "cell_type": "code",
      "source": [
        "from tensorflow.keras.layers import Dense, Conv2D,MaxPooling2D, Flatten, Dropout, BatchNormalization\n",
        "from tensorflow.keras.optimizers import SGD"
      ],
      "metadata": {
        "id": "9UAyDhd5mKFt"
      },
      "execution_count": null,
      "outputs": []
    },
    {
      "cell_type": "code",
      "source": [
        "model5 = Sequential()\n",
        "model5.add(Conv2D(32, (3, 3), activation='relu', kernel_initializer='he_uniform', padding='same', input_shape=(32, 32, 3)))\n",
        "model5.add(BatchNormalization())\n",
        "model5.add(Conv2D(32, (3, 3), activation='relu', kernel_initializer='he_uniform', padding='same'))\n",
        "model5.add(BatchNormalization())\n",
        "model5.add(MaxPooling2D((2, 2)))\n",
        "model5.add(Dropout(0.2))\n",
        "model5.add(Conv2D(64, (3, 3), activation='relu', kernel_initializer='he_uniform', padding='same'))\n",
        "model5.add(BatchNormalization())\n",
        "model5.add(Conv2D(64, (3, 3), activation='relu', kernel_initializer='he_uniform', padding='same'))\n",
        "model5.add(BatchNormalization())\n",
        "model5.add(MaxPooling2D((2, 2)))\n",
        "model5.add(Dropout(0.3))\n",
        "model5.add(Conv2D(128, (3, 3), activation='relu', kernel_initializer='he_uniform', padding='same'))\n",
        "model5.add(BatchNormalization())\n",
        "model5.add(Conv2D(128, (3, 3), activation='relu', kernel_initializer='he_uniform', padding='same'))\n",
        "model5.add(BatchNormalization())\n",
        "model5.add(MaxPooling2D((2, 2)))\n",
        "model5.add(Dropout(0.4))\n",
        "model5.add(Flatten())\n",
        "model5.add(Dense(128, activation='relu', kernel_initializer='he_uniform'))\n",
        "model5.add(BatchNormalization())\n",
        "model5.add(Dropout(0.5))\n",
        "model5.add(Dense(10, activation='softmax'))\n",
        "\n",
        "# compile model\n",
        "opt = SGD(learning_rate=0.001, momentum=0.9)\n",
        "model5.compile(optimizer=opt, loss='categorical_crossentropy', metrics=['accuracy'])\n"
      ],
      "metadata": {
        "id": "KsSg4cPPhQe7"
      },
      "execution_count": null,
      "outputs": []
    },
    {
      "cell_type": "code",
      "source": [
        "model5.fit(X_train,Y_train,epochs=20,validation_data=(X_test,Y_test))"
      ],
      "metadata": {
        "id": "4f6p23lOmHSh"
      },
      "execution_count": null,
      "outputs": []
    },
    {
      "cell_type": "code",
      "source": [],
      "metadata": {
        "id": "YTMrFsBfmlHB"
      },
      "execution_count": null,
      "outputs": []
    }
  ]
}