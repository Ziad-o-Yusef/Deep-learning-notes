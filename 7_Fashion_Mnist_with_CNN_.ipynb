{
  "nbformat": 4,
  "nbformat_minor": 0,
  "metadata": {
    "colab": {
      "provenance": [],
      "authorship_tag": "ABX9TyNyMkIk6Bx/OpYaAWbXgqvv",
      "include_colab_link": true
    },
    "kernelspec": {
      "name": "python3",
      "display_name": "Python 3"
    },
    "language_info": {
      "name": "python"
    }
  },
  "cells": [
    {
      "cell_type": "markdown",
      "metadata": {
        "id": "view-in-github",
        "colab_type": "text"
      },
      "source": [
        "<a href=\"https://colab.research.google.com/github/Ziad-o-Yusef/Deep-learning-notes/blob/main/7_Fashion_Mnist_with_CNN_.ipynb\" target=\"_parent\"><img src=\"https://colab.research.google.com/assets/colab-badge.svg\" alt=\"Open In Colab\"/></a>"
      ]
    },
    {
      "cell_type": "code",
      "execution_count": null,
      "metadata": {
        "id": "Rd5QeeAVD0Bh"
      },
      "outputs": [],
      "source": [
        "import tensorflow as tf \n",
        "import matplotlib.pyplot as plt\n",
        "%matplotlib inline\n",
        "from sklearn.preprocessing import StandardScaler\n",
        "import pandas as pd"
      ]
    },
    {
      "cell_type": "code",
      "source": [
        "(X_train,Y_train),(X_test,Y_test) = tf.keras.datasets.fashion_mnist.load_data()"
      ],
      "metadata": {
        "colab": {
          "base_uri": "https://localhost:8080/"
        },
        "id": "qzTZrOljEPAT",
        "outputId": "35be0436-22b0-41b6-b25d-2be3f49e8528"
      },
      "execution_count": null,
      "outputs": [
        {
          "output_type": "stream",
          "name": "stdout",
          "text": [
            "Downloading data from https://storage.googleapis.com/tensorflow/tf-keras-datasets/train-labels-idx1-ubyte.gz\n",
            "32768/29515 [=================================] - 0s 0us/step\n",
            "40960/29515 [=========================================] - 0s 0us/step\n",
            "Downloading data from https://storage.googleapis.com/tensorflow/tf-keras-datasets/train-images-idx3-ubyte.gz\n",
            "26427392/26421880 [==============================] - 0s 0us/step\n",
            "26435584/26421880 [==============================] - 0s 0us/step\n",
            "Downloading data from https://storage.googleapis.com/tensorflow/tf-keras-datasets/t10k-labels-idx1-ubyte.gz\n",
            "16384/5148 [===============================================================================================] - 0s 0us/step\n",
            "Downloading data from https://storage.googleapis.com/tensorflow/tf-keras-datasets/t10k-images-idx3-ubyte.gz\n",
            "4423680/4422102 [==============================] - 0s 0us/step\n",
            "4431872/4422102 [==============================] - 0s 0us/step\n"
          ]
        }
      ]
    },
    {
      "cell_type": "code",
      "source": [
        "X_train.shape,Y_train.shape"
      ],
      "metadata": {
        "colab": {
          "base_uri": "https://localhost:8080/"
        },
        "id": "ZJyIXda-E01s",
        "outputId": "3044108a-ea01-4fb2-db05-7c999125eb6b"
      },
      "execution_count": null,
      "outputs": [
        {
          "output_type": "execute_result",
          "data": {
            "text/plain": [
              "((60000, 28, 28), (60000,))"
            ]
          },
          "metadata": {},
          "execution_count": 3
        }
      ]
    },
    {
      "cell_type": "code",
      "source": [
        "X_test.shape,Y_test.shape"
      ],
      "metadata": {
        "colab": {
          "base_uri": "https://localhost:8080/"
        },
        "id": "FAafzwoME8Mm",
        "outputId": "2f9d9d9a-483a-4e9f-b325-c199ed325b0c"
      },
      "execution_count": null,
      "outputs": [
        {
          "output_type": "execute_result",
          "data": {
            "text/plain": [
              "((10000, 28, 28), (10000,))"
            ]
          },
          "metadata": {},
          "execution_count": 4
        }
      ]
    },
    {
      "cell_type": "code",
      "source": [
        "plt.imshow(X_test[0])"
      ],
      "metadata": {
        "colab": {
          "base_uri": "https://localhost:8080/",
          "height": 283
        },
        "id": "ethvPuiAFJQo",
        "outputId": "584c2107-8238-4602-f890-a29beaad7ac3"
      },
      "execution_count": null,
      "outputs": [
        {
          "output_type": "execute_result",
          "data": {
            "text/plain": [
              "<matplotlib.image.AxesImage at 0x7f7268ad0b10>"
            ]
          },
          "metadata": {},
          "execution_count": 5
        },
        {
          "output_type": "display_data",
          "data": {
            "text/plain": [
              "<Figure size 432x288 with 1 Axes>"
            ],
            "image/png": "[encoded data removed]"
          },
          "metadata": {
            "needs_background": "light"
          }
        }
      ]
    },
    {
      "cell_type": "code",
      "source": [
        "plt.imshow(X_test[20])"
      ],
      "metadata": {
        "colab": {
          "base_uri": "https://localhost:8080/",
          "height": 283
        },
        "id": "COQ_DJXNFUcM",
        "outputId": "e32e9601-623a-43e5-f434-b25e449faa2e"
      },
      "execution_count": null,
      "outputs": [
        {
          "output_type": "execute_result",
          "data": {
            "text/plain": [
              "<matplotlib.image.AxesImage at 0x7f72685b4cd0>"
            ]
          },
          "metadata": {},
          "execution_count": 6
        },
        {
          "output_type": "display_data",
          "data": {
            "text/plain": [
              "<Figure size 432x288 with 1 Axes>"
            ],
            "image/png": "[encoded data removed]"
          },
          "metadata": {
            "needs_background": "light"
          }
        }
      ]
    },
    {
      "cell_type": "code",
      "source": [
        "plt.imshow(X_train[9085])"
      ],
      "metadata": {
        "colab": {
          "base_uri": "https://localhost:8080/",
          "height": 283
        },
        "id": "mMYGhAfMFXot",
        "outputId": "5c1e5c27-b459-475c-f753-f1e3efb98c4a"
      },
      "execution_count": null,
      "outputs": [
        {
          "output_type": "execute_result",
          "data": {
            "text/plain": [
              "<matplotlib.image.AxesImage at 0x7f7268531a90>"
            ]
          },
          "metadata": {},
          "execution_count": 7
        },
        {
          "output_type": "display_data",
          "data": {
            "text/plain": [
              "<Figure size 432x288 with 1 Axes>"
            ],
            "image/png": "[encoded data removed]"
          },
          "metadata": {
            "needs_background": "light"
          }
        }
      ]
    },
    {
      "cell_type": "code",
      "source": [
        "Y_test = tf.keras.utils.to_categorical(Y_test,10)\n",
        "Y_train = tf.keras.utils.to_categorical(Y_train,10)"
      ],
      "metadata": {
        "id": "SqLX0V5sFaQh"
      },
      "execution_count": null,
      "outputs": []
    },
    {
      "cell_type": "code",
      "source": [
        "Y_test"
      ],
      "metadata": {
        "colab": {
          "base_uri": "https://localhost:8080/"
        },
        "id": "MsBaK8gxF4Y-",
        "outputId": "629b3d8c-fb15-47b6-f792-691f35dc7328"
      },
      "execution_count": null,
      "outputs": [
        {
          "output_type": "execute_result",
          "data": {
            "text/plain": [
              "array([[0., 0., 0., ..., 0., 0., 1.],\n",
              "       [0., 0., 1., ..., 0., 0., 0.],\n",
              "       [0., 1., 0., ..., 0., 0., 0.],\n",
              "       ...,\n",
              "       [0., 0., 0., ..., 0., 1., 0.],\n",
              "       [0., 1., 0., ..., 0., 0., 0.],\n",
              "       [0., 0., 0., ..., 0., 0., 0.]], dtype=float32)"
            ]
          },
          "metadata": {},
          "execution_count": 9
        }
      ]
    },
    {
      "cell_type": "code",
      "source": [
        "  ss = StandardScaler()\n",
        "  X_test = X_test/255\n",
        "  X_train = X_train/255"
      ],
      "metadata": {
        "id": "NsmO-eH9F6CH"
      },
      "execution_count": null,
      "outputs": []
    },
    {
      "cell_type": "code",
      "source": [
        "from tensorflow.keras.models import Sequential\n",
        "model = Sequential(\n",
        "    [\n",
        "        tf.keras.layers.Conv2D(filters=32, kernel_size=(4,4),input_shape=(28, 28, 1), activation='relu',),\n",
        "        tf.keras.layers.MaxPool2D(pool_size=(2,2)),\n",
        "        tf.keras.layers.Conv2D(filters=32, kernel_size=(2,2), activation='relu',),\n",
        "             tf.keras.layers.MaxPool2D(pool_size=(2,2)),\n",
        "\n",
        "        tf.keras.layers.Flatten(),\n",
        "        tf.keras.layers.Dense(100, activation='relu'),\n",
        "        tf.keras.layers.Dense(50, activation='relu'),\n",
        "        tf.keras.layers.Dense(10, activation='softmax'),\n",
        "     \n",
        "    ]\n",
        ")"
      ],
      "metadata": {
        "id": "P2OIQw60Gkgy"
      },
      "execution_count": null,
      "outputs": []
    },
    {
      "cell_type": "code",
      "source": [
        "model.compile(loss='categorical_crossentropy',\n",
        "              optimizer='adam',\n",
        "              metrics=['accuracy'])"
      ],
      "metadata": {
        "id": "IT67CY2CIU1r"
      },
      "execution_count": null,
      "outputs": []
    },
    {
      "cell_type": "code",
      "source": [
        "model.summary()"
      ],
      "metadata": {
        "colab": {
          "base_uri": "https://localhost:8080/"
        },
        "id": "0CedJHjWImF2",
        "outputId": "23fdfd97-5902-43e5-e213-c98c549d4d54"
      },
      "execution_count": null,
      "outputs": [
        {
          "output_type": "stream",
          "name": "stdout",
          "text": [
            "Model: \"sequential_1\"\n",
            "_________________________________________________________________\n",
            " Layer (type)                Output Shape              Param #   \n",
            "=================================================================\n",
            " conv2d_2 (Conv2D)           (None, 25, 25, 32)        544       \n",
            "                                                                 \n",
            " max_pooling2d_1 (MaxPooling  (None, 12, 12, 32)       0         \n",
            " 2D)                                                             \n",
            "                                                                 \n",
            " conv2d_3 (Conv2D)           (None, 11, 11, 32)        4128      \n",
            "                                                                 \n",
            " max_pooling2d_2 (MaxPooling  (None, 5, 5, 32)         0         \n",
            " 2D)                                                             \n",
            "                                                                 \n",
            " flatten_1 (Flatten)         (None, 800)               0         \n",
            "                                                                 \n",
            " dense_3 (Dense)             (None, 100)               80100     \n",
            "                                                                 \n",
            " dense_4 (Dense)             (None, 50)                5050      \n",
            "                                                                 \n",
            " dense_5 (Dense)             (None, 10)                510       \n",
            "                                                                 \n",
            "=================================================================\n",
            "Total params: 90,332\n",
            "Trainable params: 90,332\n",
            "Non-trainable params: 0\n",
            "_________________________________________________________________\n"
          ]
        }
      ]
    },
    {
      "cell_type": "code",
      "source": [
        "model.fit(X_train,Y_train,epochs=20,validation_data=(X_test,Y_test))"
      ],
      "metadata": {
        "colab": {
          "base_uri": "https://localhost:8080/"
        },
        "id": "-z1X52NDIo9T",
        "outputId": "d46b3fb8-ca7f-4fb3-daf4-1d959bb0d915"
      },
      "execution_count": null,
      "outputs": [
        {
          "output_type": "stream",
          "name": "stdout",
          "text": [
            "Epoch 1/20\n",
            "1875/1875 [==============================] - 43s 23ms/step - loss: 0.5127 - accuracy: 0.8128 - val_loss: 0.3997 - val_accuracy: 0.8570\n",
            "Epoch 2/20\n",
            "1875/1875 [==============================] - 41s 22ms/step - loss: 0.3408 - accuracy: 0.8743 - val_loss: 0.3348 - val_accuracy: 0.8797\n",
            "Epoch 3/20\n",
            "1875/1875 [==============================] - 40s 21ms/step - loss: 0.2978 - accuracy: 0.8901 - val_loss: 0.3215 - val_accuracy: 0.8876\n",
            "Epoch 4/20\n",
            "1875/1875 [==============================] - 42s 22ms/step - loss: 0.2681 - accuracy: 0.8992 - val_loss: 0.3049 - val_accuracy: 0.8904\n",
            "Epoch 5/20\n",
            "1875/1875 [==============================] - 41s 22ms/step - loss: 0.2468 - accuracy: 0.9081 - val_loss: 0.3034 - val_accuracy: 0.8861\n",
            "Epoch 6/20\n",
            "1875/1875 [==============================] - 41s 22ms/step - loss: 0.2273 - accuracy: 0.9144 - val_loss: 0.2912 - val_accuracy: 0.8929\n",
            "Epoch 7/20\n",
            "1875/1875 [==============================] - 41s 22ms/step - loss: 0.2098 - accuracy: 0.9209 - val_loss: 0.2807 - val_accuracy: 0.9013\n",
            "Epoch 8/20\n",
            "1875/1875 [==============================] - 41s 22ms/step - loss: 0.1952 - accuracy: 0.9255 - val_loss: 0.2879 - val_accuracy: 0.8926\n",
            "Epoch 9/20\n",
            "1875/1875 [==============================] - 42s 22ms/step - loss: 0.1797 - accuracy: 0.9331 - val_loss: 0.2789 - val_accuracy: 0.9024\n",
            "Epoch 10/20\n",
            "1875/1875 [==============================] - 41s 22ms/step - loss: 0.1683 - accuracy: 0.9361 - val_loss: 0.3142 - val_accuracy: 0.8962\n",
            "Epoch 11/20\n",
            "1875/1875 [==============================] - 42s 22ms/step - loss: 0.1588 - accuracy: 0.9397 - val_loss: 0.3063 - val_accuracy: 0.9006\n",
            "Epoch 12/20\n",
            "1875/1875 [==============================] - 41s 22ms/step - loss: 0.1474 - accuracy: 0.9452 - val_loss: 0.2885 - val_accuracy: 0.9062\n",
            "Epoch 13/20\n",
            "1875/1875 [==============================] - 41s 22ms/step - loss: 0.1357 - accuracy: 0.9478 - val_loss: 0.3012 - val_accuracy: 0.9024\n",
            "Epoch 14/20\n",
            "1875/1875 [==============================] - 42s 22ms/step - loss: 0.1274 - accuracy: 0.9520 - val_loss: 0.3158 - val_accuracy: 0.8999\n",
            "Epoch 15/20\n",
            "1875/1875 [==============================] - 41s 22ms/step - loss: 0.1188 - accuracy: 0.9549 - val_loss: 0.3591 - val_accuracy: 0.8981\n",
            "Epoch 16/20\n",
            "1875/1875 [==============================] - 40s 22ms/step - loss: 0.1117 - accuracy: 0.9567 - val_loss: 0.3551 - val_accuracy: 0.8990\n",
            "Epoch 17/20\n",
            "1875/1875 [==============================] - 40s 21ms/step - loss: 0.1037 - accuracy: 0.9604 - val_loss: 0.3876 - val_accuracy: 0.8992\n",
            "Epoch 18/20\n",
            "1875/1875 [==============================] - 40s 21ms/step - loss: 0.0977 - accuracy: 0.9632 - val_loss: 0.4017 - val_accuracy: 0.8994\n",
            "Epoch 19/20\n",
            "1875/1875 [==============================] - 42s 22ms/step - loss: 0.0928 - accuracy: 0.9640 - val_loss: 0.4143 - val_accuracy: 0.8957\n",
            "Epoch 20/20\n",
            "1875/1875 [==============================] - 42s 22ms/step - loss: 0.0859 - accuracy: 0.9668 - val_loss: 0.3962 - val_accuracy: 0.9026\n"
          ]
        },
        {
          "output_type": "execute_result",
          "data": {
            "text/plain": [
              "<keras.callbacks.History at 0x7f72646c3150>"
            ]
          },
          "metadata": {},
          "execution_count": 17
        }
      ]
    },
    {
      "cell_type": "code",
      "source": [
        "losses = pd.DataFrame(model.history.history)\n",
        "losses[['accuracy','val_accuracy']].plot()"
      ],
      "metadata": {
        "colab": {
          "base_uri": "https://localhost:8080/",
          "height": 283
        },
        "id": "ocbiyQzlI2W-",
        "outputId": "862a793a-7f40-4d01-9c7c-786c7b2a6471"
      },
      "execution_count": null,
      "outputs": [
        {
          "output_type": "execute_result",
          "data": {
            "text/plain": [
              "<matplotlib.axes._subplots.AxesSubplot at 0x7f866b77a690>"
            ]
          },
          "metadata": {},
          "execution_count": 54
        },
        {
          "output_type": "display_data",
          "data": {
            "text/plain": [
              "<Figure size 432x288 with 1 Axes>"
            ],
            "image/png": "[encoded data removed]"
          },
          "metadata": {
            "needs_background": "light"
          }
        }
      ]
    },
    {
      "cell_type": "code",
      "source": [],
      "metadata": {
        "id": "9B90Z37uX3Ct"
      },
      "execution_count": null,
      "outputs": []
    }
  ]
}