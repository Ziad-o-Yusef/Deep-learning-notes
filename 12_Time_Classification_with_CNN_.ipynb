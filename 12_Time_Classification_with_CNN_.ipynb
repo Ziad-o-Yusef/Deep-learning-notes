{
  "nbformat": 4,
  "nbformat_minor": 0,
  "metadata": {
    "colab": {
      "provenance": [],
      "collapsed_sections": [],
      "authorship_tag": "ABX9TyPZTBJHkPOyEFQMSxCfZ1ZJ",
      "include_colab_link": true
    },
    "kernelspec": {
      "name": "python3",
      "display_name": "Python 3"
    },
    "language_info": {
      "name": "python"
    },
    "accelerator": "GPU"
  },
  "cells": [
    {
      "cell_type": "markdown",
      "metadata": {
        "id": "view-in-github",
        "colab_type": "text"
      },
      "source": [
        "<a href=\"https://colab.research.google.com/github/Ziad-o-Yusef/Deep-learning-notes/blob/main/12_Time_Classification_with_CNN_.ipynb\" target=\"_parent\"><img src=\"https://colab.research.google.com/assets/colab-badge.svg\" alt=\"Open In Colab\"/></a>"
      ]
    },
    {
      "cell_type": "code",
      "execution_count": 1,
      "metadata": {
        "colab": {
          "base_uri": "https://localhost:8080/"
        },
        "id": "7o4Ze8FO6rgd",
        "outputId": "6bcb24e4-ad6b-4c40-a30e-592f109f0e44"
      },
      "outputs": [
        {
          "output_type": "stream",
          "name": "stdout",
          "text": [
            "Mounted at /content/drive\n"
          ]
        }
      ],
      "source": [
        "import numpy as np \n",
        "import pandas as pd\n",
        "import matplotlib.pyplot as plt\n",
        "import cv2\n",
        "import tensorflow as tf\n",
        "from google.colab import drive\n",
        "drive.mount('/content/drive')\n",
        "import os"
      ]
    },
    {
      "cell_type": "code",
      "source": [
        "os.environ['KAGGLE_CONFIG_DIR'] = '/content/drive/MyDrive/Kaggle_MyAPI'\n",
        "! kaggle datasets download -d gpiosenka/time-image-datasetclassification"
      ],
      "metadata": {
        "colab": {
          "base_uri": "https://localhost:8080/"
        },
        "id": "BjM0A3z67csT",
        "outputId": "64b43d15-9303-406d-ee5c-29d527107fa9"
      },
      "execution_count": 2,
      "outputs": [
        {
          "output_type": "stream",
          "name": "stdout",
          "text": [
            "Downloading time-image-datasetclassification.zip to /content\n",
            " 99% 381M/383M [00:22<00:00, 13.9MB/s]\n",
            "100% 383M/383M [00:23<00:00, 17.5MB/s]\n"
          ]
        }
      ]
    },
    {
      "cell_type": "code",
      "source": [
        "! unzip /content/time-image-datasetclassification.zip"
      ],
      "metadata": {
        "id": "-Vn1cQfL7x0m"
      },
      "execution_count": null,
      "outputs": []
    },
    {
      "cell_type": "code",
      "source": [
        "df = pd.read_csv('/content/clocks.csv')\n",
        "df.head()"
      ],
      "metadata": {
        "colab": {
          "base_uri": "https://localhost:8080/",
          "height": 206
        },
        "id": "TqgpB_9C7_Vh",
        "outputId": "236b9440-8f0f-4dd0-c938-f52ea9f7a9ac"
      },
      "execution_count": 9,
      "outputs": [
        {
          "output_type": "execute_result",
          "data": {
            "text/plain": [
              "   class index          filepaths labels data set\n",
              "0            0   train/1-00/0.jpg   1_00    train\n",
              "1            0   train/1-00/1.jpg   1_00    train\n",
              "2            0  train/1-00/11.jpg   1_00    train\n",
              "3            0  train/1-00/12.jpg   1_00    train\n",
              "4            0  train/1-00/13.jpg   1_00    train"
            ],
            "text/html": [
              "\n",
              "  <div id=\"df-509b6bea-a6c6-487e-bc12-fcd114f50c49\">\n",
              "    <div class=\"colab-df-container\">\n",
              "      <div>\n",
              "<style scoped>\n",
              "    .dataframe tbody tr th:only-of-type {\n",
              "        vertical-align: middle;\n",
              "    }\n",
              "\n",
              "    .dataframe tbody tr th {\n",
              "        vertical-align: top;\n",
              "    }\n",
              "\n",
              "    .dataframe thead th {\n",
              "        text-align: right;\n",
              "    }\n",
              "</style>\n",
              "<table border=\"1\" class=\"dataframe\">\n",
              "  <thead>\n",
              "    <tr style=\"text-align: right;\">\n",
              "      <th></th>\n",
              "      <th>class index</th>\n",
              "      <th>filepaths</th>\n",
              "      <th>labels</th>\n",
              "      <th>data set</th>\n",
              "    </tr>\n",
              "  </thead>\n",
              "  <tbody>\n",
              "    <tr>\n",
              "      <th>0</th>\n",
              "      <td>0</td>\n",
              "      <td>train/1-00/0.jpg</td>\n",
              "      <td>1_00</td>\n",
              "      <td>train</td>\n",
              "    </tr>\n",
              "    <tr>\n",
              "      <th>1</th>\n",
              "      <td>0</td>\n",
              "      <td>train/1-00/1.jpg</td>\n",
              "      <td>1_00</td>\n",
              "      <td>train</td>\n",
              "    </tr>\n",
              "    <tr>\n",
              "      <th>2</th>\n",
              "      <td>0</td>\n",
              "      <td>train/1-00/11.jpg</td>\n",
              "      <td>1_00</td>\n",
              "      <td>train</td>\n",
              "    </tr>\n",
              "    <tr>\n",
              "      <th>3</th>\n",
              "      <td>0</td>\n",
              "      <td>train/1-00/12.jpg</td>\n",
              "      <td>1_00</td>\n",
              "      <td>train</td>\n",
              "    </tr>\n",
              "    <tr>\n",
              "      <th>4</th>\n",
              "      <td>0</td>\n",
              "      <td>train/1-00/13.jpg</td>\n",
              "      <td>1_00</td>\n",
              "      <td>train</td>\n",
              "    </tr>\n",
              "  </tbody>\n",
              "</table>\n",
              "</div>\n",
              "      <button class=\"colab-df-convert\" onclick=\"convertToInteractive('df-509b6bea-a6c6-487e-bc12-fcd114f50c49')\"\n",
              "              title=\"Convert this dataframe to an interactive table.\"\n",
              "              style=\"display:none;\">\n",
              "        \n",
              "  <svg xmlns=\"http://www.w3.org/2000/svg\" height=\"24px\"viewBox=\"0 0 24 24\"\n",
              "       width=\"24px\">\n",
              "    <path d=\"M0 0h24v24H0V0z\" fill=\"none\"/>\n",
              "    <path d=\"M18.56 5.44l.94 2.06.94-2.06 2.06-.94-2.06-.94-.94-2.06-.94 2.06-2.06.94zm-11 1L8.5 8.5l.94-2.06 2.06-.94-2.06-.94L8.5 2.5l-.94 2.06-2.06.94zm10 10l.94 2.06.94-2.06 2.06-.94-2.06-.94-.94-2.06-.94 2.06-2.06.94z\"/><path d=\"M17.41 7.96l-1.37-1.37c-.4-.4-.92-.59-1.43-.59-.52 0-1.04.2-1.43.59L10.3 9.45l-7.72 7.72c-.78.78-.78 2.05 0 2.83L4 21.41c.39.39.9.59 1.41.59.51 0 1.02-.2 1.41-.59l7.78-7.78 2.81-2.81c.8-.78.8-2.07 0-2.86zM5.41 20L4 18.59l7.72-7.72 1.47 1.35L5.41 20z\"/>\n",
              "  </svg>\n",
              "      </button>\n",
              "      \n",
              "  <style>\n",
              "    .colab-df-container {\n",
              "      display:flex;\n",
              "      flex-wrap:wrap;\n",
              "      gap: 12px;\n",
              "    }\n",
              "\n",
              "    .colab-df-convert {\n",
              "      background-color: #E8F0FE;\n",
              "      border: none;\n",
              "      border-radius: 50%;\n",
              "      cursor: pointer;\n",
              "      display: none;\n",
              "      fill: #1967D2;\n",
              "      height: 32px;\n",
              "      padding: 0 0 0 0;\n",
              "      width: 32px;\n",
              "    }\n",
              "\n",
              "    .colab-df-convert:hover {\n",
              "      background-color: #E2EBFA;\n",
              "      box-shadow: 0px 1px 2px rgba(60, 64, 67, 0.3), 0px 1px 3px 1px rgba(60, 64, 67, 0.15);\n",
              "      fill: #174EA6;\n",
              "    }\n",
              "\n",
              "    [theme=dark] .colab-df-convert {\n",
              "      background-color: #3B4455;\n",
              "      fill: #D2E3FC;\n",
              "    }\n",
              "\n",
              "    [theme=dark] .colab-df-convert:hover {\n",
              "      background-color: #434B5C;\n",
              "      box-shadow: 0px 1px 3px 1px rgba(0, 0, 0, 0.15);\n",
              "      filter: drop-shadow(0px 1px 2px rgba(0, 0, 0, 0.3));\n",
              "      fill: #FFFFFF;\n",
              "    }\n",
              "  </style>\n",
              "\n",
              "      <script>\n",
              "        const buttonEl =\n",
              "          document.querySelector('#df-509b6bea-a6c6-487e-bc12-fcd114f50c49 button.colab-df-convert');\n",
              "        buttonEl.style.display =\n",
              "          google.colab.kernel.accessAllowed ? 'block' : 'none';\n",
              "\n",
              "        async function convertToInteractive(key) {\n",
              "          const element = document.querySelector('#df-509b6bea-a6c6-487e-bc12-fcd114f50c49');\n",
              "          const dataTable =\n",
              "            await google.colab.kernel.invokeFunction('convertToInteractive',\n",
              "                                                     [key], {});\n",
              "          if (!dataTable) return;\n",
              "\n",
              "          const docLinkHtml = 'Like what you see? Visit the ' +\n",
              "            '<a target=\"_blank\" href=https://colab.research.google.com/notebooks/data_table.ipynb>data table notebook</a>'\n",
              "            + ' to learn more about interactive tables.';\n",
              "          element.innerHTML = '';\n",
              "          dataTable['output_type'] = 'display_data';\n",
              "          await google.colab.output.renderOutput(dataTable, element);\n",
              "          const docLink = document.createElement('div');\n",
              "          docLink.innerHTML = docLinkHtml;\n",
              "          element.appendChild(docLink);\n",
              "        }\n",
              "      </script>\n",
              "    </div>\n",
              "  </div>\n",
              "  "
            ]
          },
          "metadata": {},
          "execution_count": 9
        }
      ]
    },
    {
      "cell_type": "code",
      "source": [
        "df.tail()"
      ],
      "metadata": {
        "colab": {
          "base_uri": "https://localhost:8080/",
          "height": 206
        },
        "id": "My35aRd95JLT",
        "outputId": "21d867b4-c97f-4b87-be07-63e29ad85776"
      },
      "execution_count": 10,
      "outputs": [
        {
          "output_type": "execute_result",
          "data": {
            "text/plain": [
              "       class index          filepaths labels data set\n",
              "14395          143  valid/9-55/65.jpg   9_55    valid\n",
              "14396          143  valid/9-55/74.jpg   9_55    valid\n",
              "14397          143  valid/9-55/88.jpg   9_55    valid\n",
              "14398          143  valid/9-55/90.jpg   9_55    valid\n",
              "14399          143  valid/9-55/95.jpg   9_55    valid"
            ],
            "text/html": [
              "\n",
              "  <div id=\"df-05e51c20-b362-45f9-a4a1-5690f1d99e5e\">\n",
              "    <div class=\"colab-df-container\">\n",
              "      <div>\n",
              "<style scoped>\n",
              "    .dataframe tbody tr th:only-of-type {\n",
              "        vertical-align: middle;\n",
              "    }\n",
              "\n",
              "    .dataframe tbody tr th {\n",
              "        vertical-align: top;\n",
              "    }\n",
              "\n",
              "    .dataframe thead th {\n",
              "        text-align: right;\n",
              "    }\n",
              "</style>\n",
              "<table border=\"1\" class=\"dataframe\">\n",
              "  <thead>\n",
              "    <tr style=\"text-align: right;\">\n",
              "      <th></th>\n",
              "      <th>class index</th>\n",
              "      <th>filepaths</th>\n",
              "      <th>labels</th>\n",
              "      <th>data set</th>\n",
              "    </tr>\n",
              "  </thead>\n",
              "  <tbody>\n",
              "    <tr>\n",
              "      <th>14395</th>\n",
              "      <td>143</td>\n",
              "      <td>valid/9-55/65.jpg</td>\n",
              "      <td>9_55</td>\n",
              "      <td>valid</td>\n",
              "    </tr>\n",
              "    <tr>\n",
              "      <th>14396</th>\n",
              "      <td>143</td>\n",
              "      <td>valid/9-55/74.jpg</td>\n",
              "      <td>9_55</td>\n",
              "      <td>valid</td>\n",
              "    </tr>\n",
              "    <tr>\n",
              "      <th>14397</th>\n",
              "      <td>143</td>\n",
              "      <td>valid/9-55/88.jpg</td>\n",
              "      <td>9_55</td>\n",
              "      <td>valid</td>\n",
              "    </tr>\n",
              "    <tr>\n",
              "      <th>14398</th>\n",
              "      <td>143</td>\n",
              "      <td>valid/9-55/90.jpg</td>\n",
              "      <td>9_55</td>\n",
              "      <td>valid</td>\n",
              "    </tr>\n",
              "    <tr>\n",
              "      <th>14399</th>\n",
              "      <td>143</td>\n",
              "      <td>valid/9-55/95.jpg</td>\n",
              "      <td>9_55</td>\n",
              "      <td>valid</td>\n",
              "    </tr>\n",
              "  </tbody>\n",
              "</table>\n",
              "</div>\n",
              "      <button class=\"colab-df-convert\" onclick=\"convertToInteractive('df-05e51c20-b362-45f9-a4a1-5690f1d99e5e')\"\n",
              "              title=\"Convert this dataframe to an interactive table.\"\n",
              "              style=\"display:none;\">\n",
              "        \n",
              "  <svg xmlns=\"http://www.w3.org/2000/svg\" height=\"24px\"viewBox=\"0 0 24 24\"\n",
              "       width=\"24px\">\n",
              "    <path d=\"M0 0h24v24H0V0z\" fill=\"none\"/>\n",
              "    <path d=\"M18.56 5.44l.94 2.06.94-2.06 2.06-.94-2.06-.94-.94-2.06-.94 2.06-2.06.94zm-11 1L8.5 8.5l.94-2.06 2.06-.94-2.06-.94L8.5 2.5l-.94 2.06-2.06.94zm10 10l.94 2.06.94-2.06 2.06-.94-2.06-.94-.94-2.06-.94 2.06-2.06.94z\"/><path d=\"M17.41 7.96l-1.37-1.37c-.4-.4-.92-.59-1.43-.59-.52 0-1.04.2-1.43.59L10.3 9.45l-7.72 7.72c-.78.78-.78 2.05 0 2.83L4 21.41c.39.39.9.59 1.41.59.51 0 1.02-.2 1.41-.59l7.78-7.78 2.81-2.81c.8-.78.8-2.07 0-2.86zM5.41 20L4 18.59l7.72-7.72 1.47 1.35L5.41 20z\"/>\n",
              "  </svg>\n",
              "      </button>\n",
              "      \n",
              "  <style>\n",
              "    .colab-df-container {\n",
              "      display:flex;\n",
              "      flex-wrap:wrap;\n",
              "      gap: 12px;\n",
              "    }\n",
              "\n",
              "    .colab-df-convert {\n",
              "      background-color: #E8F0FE;\n",
              "      border: none;\n",
              "      border-radius: 50%;\n",
              "      cursor: pointer;\n",
              "      display: none;\n",
              "      fill: #1967D2;\n",
              "      height: 32px;\n",
              "      padding: 0 0 0 0;\n",
              "      width: 32px;\n",
              "    }\n",
              "\n",
              "    .colab-df-convert:hover {\n",
              "      background-color: #E2EBFA;\n",
              "      box-shadow: 0px 1px 2px rgba(60, 64, 67, 0.3), 0px 1px 3px 1px rgba(60, 64, 67, 0.15);\n",
              "      fill: #174EA6;\n",
              "    }\n",
              "\n",
              "    [theme=dark] .colab-df-convert {\n",
              "      background-color: #3B4455;\n",
              "      fill: #D2E3FC;\n",
              "    }\n",
              "\n",
              "    [theme=dark] .colab-df-convert:hover {\n",
              "      background-color: #434B5C;\n",
              "      box-shadow: 0px 1px 3px 1px rgba(0, 0, 0, 0.15);\n",
              "      filter: drop-shadow(0px 1px 2px rgba(0, 0, 0, 0.3));\n",
              "      fill: #FFFFFF;\n",
              "    }\n",
              "  </style>\n",
              "\n",
              "      <script>\n",
              "        const buttonEl =\n",
              "          document.querySelector('#df-05e51c20-b362-45f9-a4a1-5690f1d99e5e button.colab-df-convert');\n",
              "        buttonEl.style.display =\n",
              "          google.colab.kernel.accessAllowed ? 'block' : 'none';\n",
              "\n",
              "        async function convertToInteractive(key) {\n",
              "          const element = document.querySelector('#df-05e51c20-b362-45f9-a4a1-5690f1d99e5e');\n",
              "          const dataTable =\n",
              "            await google.colab.kernel.invokeFunction('convertToInteractive',\n",
              "                                                     [key], {});\n",
              "          if (!dataTable) return;\n",
              "\n",
              "          const docLinkHtml = 'Like what you see? Visit the ' +\n",
              "            '<a target=\"_blank\" href=https://colab.research.google.com/notebooks/data_table.ipynb>data table notebook</a>'\n",
              "            + ' to learn more about interactive tables.';\n",
              "          element.innerHTML = '';\n",
              "          dataTable['output_type'] = 'display_data';\n",
              "          await google.colab.output.renderOutput(dataTable, element);\n",
              "          const docLink = document.createElement('div');\n",
              "          docLink.innerHTML = docLinkHtml;\n",
              "          element.appendChild(docLink);\n",
              "        }\n",
              "      </script>\n",
              "    </div>\n",
              "  </div>\n",
              "  "
            ]
          },
          "metadata": {},
          "execution_count": 10
        }
      ]
    },
    {
      "cell_type": "code",
      "source": [
        "train_df = df[df['data set'] == 'train' ]\n",
        "train_df.head()"
      ],
      "metadata": {
        "colab": {
          "base_uri": "https://localhost:8080/",
          "height": 206
        },
        "id": "UCSZNhR85nQU",
        "outputId": "09e431bf-d8cf-4f0e-d3c0-2cd60aa831ec"
      },
      "execution_count": 12,
      "outputs": [
        {
          "output_type": "execute_result",
          "data": {
            "text/plain": [
              "   class index          filepaths labels data set\n",
              "0            0   train/1-00/0.jpg   1_00    train\n",
              "1            0   train/1-00/1.jpg   1_00    train\n",
              "2            0  train/1-00/11.jpg   1_00    train\n",
              "3            0  train/1-00/12.jpg   1_00    train\n",
              "4            0  train/1-00/13.jpg   1_00    train"
            ],
            "text/html": [
              "\n",
              "  <div id=\"df-f6362649-0f13-40d3-86b0-3430df0ed115\">\n",
              "    <div class=\"colab-df-container\">\n",
              "      <div>\n",
              "<style scoped>\n",
              "    .dataframe tbody tr th:only-of-type {\n",
              "        vertical-align: middle;\n",
              "    }\n",
              "\n",
              "    .dataframe tbody tr th {\n",
              "        vertical-align: top;\n",
              "    }\n",
              "\n",
              "    .dataframe thead th {\n",
              "        text-align: right;\n",
              "    }\n",
              "</style>\n",
              "<table border=\"1\" class=\"dataframe\">\n",
              "  <thead>\n",
              "    <tr style=\"text-align: right;\">\n",
              "      <th></th>\n",
              "      <th>class index</th>\n",
              "      <th>filepaths</th>\n",
              "      <th>labels</th>\n",
              "      <th>data set</th>\n",
              "    </tr>\n",
              "  </thead>\n",
              "  <tbody>\n",
              "    <tr>\n",
              "      <th>0</th>\n",
              "      <td>0</td>\n",
              "      <td>train/1-00/0.jpg</td>\n",
              "      <td>1_00</td>\n",
              "      <td>train</td>\n",
              "    </tr>\n",
              "    <tr>\n",
              "      <th>1</th>\n",
              "      <td>0</td>\n",
              "      <td>train/1-00/1.jpg</td>\n",
              "      <td>1_00</td>\n",
              "      <td>train</td>\n",
              "    </tr>\n",
              "    <tr>\n",
              "      <th>2</th>\n",
              "      <td>0</td>\n",
              "      <td>train/1-00/11.jpg</td>\n",
              "      <td>1_00</td>\n",
              "      <td>train</td>\n",
              "    </tr>\n",
              "    <tr>\n",
              "      <th>3</th>\n",
              "      <td>0</td>\n",
              "      <td>train/1-00/12.jpg</td>\n",
              "      <td>1_00</td>\n",
              "      <td>train</td>\n",
              "    </tr>\n",
              "    <tr>\n",
              "      <th>4</th>\n",
              "      <td>0</td>\n",
              "      <td>train/1-00/13.jpg</td>\n",
              "      <td>1_00</td>\n",
              "      <td>train</td>\n",
              "    </tr>\n",
              "  </tbody>\n",
              "</table>\n",
              "</div>\n",
              "      <button class=\"colab-df-convert\" onclick=\"convertToInteractive('df-f6362649-0f13-40d3-86b0-3430df0ed115')\"\n",
              "              title=\"Convert this dataframe to an interactive table.\"\n",
              "              style=\"display:none;\">\n",
              "        \n",
              "  <svg xmlns=\"http://www.w3.org/2000/svg\" height=\"24px\"viewBox=\"0 0 24 24\"\n",
              "       width=\"24px\">\n",
              "    <path d=\"M0 0h24v24H0V0z\" fill=\"none\"/>\n",
              "    <path d=\"M18.56 5.44l.94 2.06.94-2.06 2.06-.94-2.06-.94-.94-2.06-.94 2.06-2.06.94zm-11 1L8.5 8.5l.94-2.06 2.06-.94-2.06-.94L8.5 2.5l-.94 2.06-2.06.94zm10 10l.94 2.06.94-2.06 2.06-.94-2.06-.94-.94-2.06-.94 2.06-2.06.94z\"/><path d=\"M17.41 7.96l-1.37-1.37c-.4-.4-.92-.59-1.43-.59-.52 0-1.04.2-1.43.59L10.3 9.45l-7.72 7.72c-.78.78-.78 2.05 0 2.83L4 21.41c.39.39.9.59 1.41.59.51 0 1.02-.2 1.41-.59l7.78-7.78 2.81-2.81c.8-.78.8-2.07 0-2.86zM5.41 20L4 18.59l7.72-7.72 1.47 1.35L5.41 20z\"/>\n",
              "  </svg>\n",
              "      </button>\n",
              "      \n",
              "  <style>\n",
              "    .colab-df-container {\n",
              "      display:flex;\n",
              "      flex-wrap:wrap;\n",
              "      gap: 12px;\n",
              "    }\n",
              "\n",
              "    .colab-df-convert {\n",
              "      background-color: #E8F0FE;\n",
              "      border: none;\n",
              "      border-radius: 50%;\n",
              "      cursor: pointer;\n",
              "      display: none;\n",
              "      fill: #1967D2;\n",
              "      height: 32px;\n",
              "      padding: 0 0 0 0;\n",
              "      width: 32px;\n",
              "    }\n",
              "\n",
              "    .colab-df-convert:hover {\n",
              "      background-color: #E2EBFA;\n",
              "      box-shadow: 0px 1px 2px rgba(60, 64, 67, 0.3), 0px 1px 3px 1px rgba(60, 64, 67, 0.15);\n",
              "      fill: #174EA6;\n",
              "    }\n",
              "\n",
              "    [theme=dark] .colab-df-convert {\n",
              "      background-color: #3B4455;\n",
              "      fill: #D2E3FC;\n",
              "    }\n",
              "\n",
              "    [theme=dark] .colab-df-convert:hover {\n",
              "      background-color: #434B5C;\n",
              "      box-shadow: 0px 1px 3px 1px rgba(0, 0, 0, 0.15);\n",
              "      filter: drop-shadow(0px 1px 2px rgba(0, 0, 0, 0.3));\n",
              "      fill: #FFFFFF;\n",
              "    }\n",
              "  </style>\n",
              "\n",
              "      <script>\n",
              "        const buttonEl =\n",
              "          document.querySelector('#df-f6362649-0f13-40d3-86b0-3430df0ed115 button.colab-df-convert');\n",
              "        buttonEl.style.display =\n",
              "          google.colab.kernel.accessAllowed ? 'block' : 'none';\n",
              "\n",
              "        async function convertToInteractive(key) {\n",
              "          const element = document.querySelector('#df-f6362649-0f13-40d3-86b0-3430df0ed115');\n",
              "          const dataTable =\n",
              "            await google.colab.kernel.invokeFunction('convertToInteractive',\n",
              "                                                     [key], {});\n",
              "          if (!dataTable) return;\n",
              "\n",
              "          const docLinkHtml = 'Like what you see? Visit the ' +\n",
              "            '<a target=\"_blank\" href=https://colab.research.google.com/notebooks/data_table.ipynb>data table notebook</a>'\n",
              "            + ' to learn more about interactive tables.';\n",
              "          element.innerHTML = '';\n",
              "          dataTable['output_type'] = 'display_data';\n",
              "          await google.colab.output.renderOutput(dataTable, element);\n",
              "          const docLink = document.createElement('div');\n",
              "          docLink.innerHTML = docLinkHtml;\n",
              "          element.appendChild(docLink);\n",
              "        }\n",
              "      </script>\n",
              "    </div>\n",
              "  </div>\n",
              "  "
            ]
          },
          "metadata": {},
          "execution_count": 12
        }
      ]
    },
    {
      "cell_type": "code",
      "source": [
        "test_df = df[df['data set'] != 'train' ]\n",
        "test_df.reset_index(inplace = True)\n",
        "test_df.drop(columns = ['index'],inplace = True)\n",
        "test_df.head()"
      ],
      "metadata": {
        "colab": {
          "base_uri": "https://localhost:8080/",
          "height": 293
        },
        "id": "B28egbi8533I",
        "outputId": "796a8279-b7e6-4d81-8445-f48deca26dd6"
      },
      "execution_count": 29,
      "outputs": [
        {
          "output_type": "stream",
          "name": "stderr",
          "text": [
            "/usr/local/lib/python3.7/dist-packages/pandas/core/frame.py:4913: SettingWithCopyWarning: \n",
            "A value is trying to be set on a copy of a slice from a DataFrame\n",
            "\n",
            "See the caveats in the documentation: https://pandas.pydata.org/pandas-docs/stable/user_guide/indexing.html#returning-a-view-versus-a-copy\n",
            "  errors=errors,\n"
          ]
        },
        {
          "output_type": "execute_result",
          "data": {
            "text/plain": [
              "   class index         filepaths labels data set\n",
              "0            0  test/1-00/10.jpg   1_00     test\n",
              "1            0  test/1-00/31.jpg   1_00     test\n",
              "2            0  test/1-00/38.jpg   1_00     test\n",
              "3            0  test/1-00/50.jpg   1_00     test\n",
              "4            0  test/1-00/53.jpg   1_00     test"
            ],
            "text/html": [
              "\n",
              "  <div id=\"df-13f1d523-c062-4bb0-b0c5-5dc9e9371172\">\n",
              "    <div class=\"colab-df-container\">\n",
              "      <div>\n",
              "<style scoped>\n",
              "    .dataframe tbody tr th:only-of-type {\n",
              "        vertical-align: middle;\n",
              "    }\n",
              "\n",
              "    .dataframe tbody tr th {\n",
              "        vertical-align: top;\n",
              "    }\n",
              "\n",
              "    .dataframe thead th {\n",
              "        text-align: right;\n",
              "    }\n",
              "</style>\n",
              "<table border=\"1\" class=\"dataframe\">\n",
              "  <thead>\n",
              "    <tr style=\"text-align: right;\">\n",
              "      <th></th>\n",
              "      <th>class index</th>\n",
              "      <th>filepaths</th>\n",
              "      <th>labels</th>\n",
              "      <th>data set</th>\n",
              "    </tr>\n",
              "  </thead>\n",
              "  <tbody>\n",
              "    <tr>\n",
              "      <th>0</th>\n",
              "      <td>0</td>\n",
              "      <td>test/1-00/10.jpg</td>\n",
              "      <td>1_00</td>\n",
              "      <td>test</td>\n",
              "    </tr>\n",
              "    <tr>\n",
              "      <th>1</th>\n",
              "      <td>0</td>\n",
              "      <td>test/1-00/31.jpg</td>\n",
              "      <td>1_00</td>\n",
              "      <td>test</td>\n",
              "    </tr>\n",
              "    <tr>\n",
              "      <th>2</th>\n",
              "      <td>0</td>\n",
              "      <td>test/1-00/38.jpg</td>\n",
              "      <td>1_00</td>\n",
              "      <td>test</td>\n",
              "    </tr>\n",
              "    <tr>\n",
              "      <th>3</th>\n",
              "      <td>0</td>\n",
              "      <td>test/1-00/50.jpg</td>\n",
              "      <td>1_00</td>\n",
              "      <td>test</td>\n",
              "    </tr>\n",
              "    <tr>\n",
              "      <th>4</th>\n",
              "      <td>0</td>\n",
              "      <td>test/1-00/53.jpg</td>\n",
              "      <td>1_00</td>\n",
              "      <td>test</td>\n",
              "    </tr>\n",
              "  </tbody>\n",
              "</table>\n",
              "</div>\n",
              "      <button class=\"colab-df-convert\" onclick=\"convertToInteractive('df-13f1d523-c062-4bb0-b0c5-5dc9e9371172')\"\n",
              "              title=\"Convert this dataframe to an interactive table.\"\n",
              "              style=\"display:none;\">\n",
              "        \n",
              "  <svg xmlns=\"http://www.w3.org/2000/svg\" height=\"24px\"viewBox=\"0 0 24 24\"\n",
              "       width=\"24px\">\n",
              "    <path d=\"M0 0h24v24H0V0z\" fill=\"none\"/>\n",
              "    <path d=\"M18.56 5.44l.94 2.06.94-2.06 2.06-.94-2.06-.94-.94-2.06-.94 2.06-2.06.94zm-11 1L8.5 8.5l.94-2.06 2.06-.94-2.06-.94L8.5 2.5l-.94 2.06-2.06.94zm10 10l.94 2.06.94-2.06 2.06-.94-2.06-.94-.94-2.06-.94 2.06-2.06.94z\"/><path d=\"M17.41 7.96l-1.37-1.37c-.4-.4-.92-.59-1.43-.59-.52 0-1.04.2-1.43.59L10.3 9.45l-7.72 7.72c-.78.78-.78 2.05 0 2.83L4 21.41c.39.39.9.59 1.41.59.51 0 1.02-.2 1.41-.59l7.78-7.78 2.81-2.81c.8-.78.8-2.07 0-2.86zM5.41 20L4 18.59l7.72-7.72 1.47 1.35L5.41 20z\"/>\n",
              "  </svg>\n",
              "      </button>\n",
              "      \n",
              "  <style>\n",
              "    .colab-df-container {\n",
              "      display:flex;\n",
              "      flex-wrap:wrap;\n",
              "      gap: 12px;\n",
              "    }\n",
              "\n",
              "    .colab-df-convert {\n",
              "      background-color: #E8F0FE;\n",
              "      border: none;\n",
              "      border-radius: 50%;\n",
              "      cursor: pointer;\n",
              "      display: none;\n",
              "      fill: #1967D2;\n",
              "      height: 32px;\n",
              "      padding: 0 0 0 0;\n",
              "      width: 32px;\n",
              "    }\n",
              "\n",
              "    .colab-df-convert:hover {\n",
              "      background-color: #E2EBFA;\n",
              "      box-shadow: 0px 1px 2px rgba(60, 64, 67, 0.3), 0px 1px 3px 1px rgba(60, 64, 67, 0.15);\n",
              "      fill: #174EA6;\n",
              "    }\n",
              "\n",
              "    [theme=dark] .colab-df-convert {\n",
              "      background-color: #3B4455;\n",
              "      fill: #D2E3FC;\n",
              "    }\n",
              "\n",
              "    [theme=dark] .colab-df-convert:hover {\n",
              "      background-color: #434B5C;\n",
              "      box-shadow: 0px 1px 3px 1px rgba(0, 0, 0, 0.15);\n",
              "      filter: drop-shadow(0px 1px 2px rgba(0, 0, 0, 0.3));\n",
              "      fill: #FFFFFF;\n",
              "    }\n",
              "  </style>\n",
              "\n",
              "      <script>\n",
              "        const buttonEl =\n",
              "          document.querySelector('#df-13f1d523-c062-4bb0-b0c5-5dc9e9371172 button.colab-df-convert');\n",
              "        buttonEl.style.display =\n",
              "          google.colab.kernel.accessAllowed ? 'block' : 'none';\n",
              "\n",
              "        async function convertToInteractive(key) {\n",
              "          const element = document.querySelector('#df-13f1d523-c062-4bb0-b0c5-5dc9e9371172');\n",
              "          const dataTable =\n",
              "            await google.colab.kernel.invokeFunction('convertToInteractive',\n",
              "                                                     [key], {});\n",
              "          if (!dataTable) return;\n",
              "\n",
              "          const docLinkHtml = 'Like what you see? Visit the ' +\n",
              "            '<a target=\"_blank\" href=https://colab.research.google.com/notebooks/data_table.ipynb>data table notebook</a>'\n",
              "            + ' to learn more about interactive tables.';\n",
              "          element.innerHTML = '';\n",
              "          dataTable['output_type'] = 'display_data';\n",
              "          await google.colab.output.renderOutput(dataTable, element);\n",
              "          const docLink = document.createElement('div');\n",
              "          docLink.innerHTML = docLinkHtml;\n",
              "          element.appendChild(docLink);\n",
              "        }\n",
              "      </script>\n",
              "    </div>\n",
              "  </div>\n",
              "  "
            ]
          },
          "metadata": {},
          "execution_count": 29
        }
      ]
    },
    {
      "cell_type": "code",
      "source": [
        "len(train_df['labels'].unique())"
      ],
      "metadata": {
        "colab": {
          "base_uri": "https://localhost:8080/"
        },
        "id": "4bQaokzF6PNt",
        "outputId": "55abb85e-57ad-49cf-c5ba-78e15463ea2e"
      },
      "execution_count": 26,
      "outputs": [
        {
          "output_type": "execute_result",
          "data": {
            "text/plain": [
              "144"
            ]
          },
          "metadata": {},
          "execution_count": 26
        }
      ]
    },
    {
      "cell_type": "code",
      "source": [
        "print(train_df.shape)\n",
        "print(test_df.shape)"
      ],
      "metadata": {
        "colab": {
          "base_uri": "https://localhost:8080/"
        },
        "id": "l3nxSUG29_55",
        "outputId": "649b6d3c-e6c8-4991-e4c9-c6f5fd404d88"
      },
      "execution_count": 34,
      "outputs": [
        {
          "output_type": "stream",
          "name": "stdout",
          "text": [
            "(11520, 4)\n",
            "(2880, 4)\n"
          ]
        }
      ]
    },
    {
      "cell_type": "code",
      "source": [
        "img = cv2.imread('/content/train/1-55/1.jpg')\n",
        "img.shape"
      ],
      "metadata": {
        "colab": {
          "base_uri": "https://localhost:8080/"
        },
        "id": "GRnt3cmE9RdE",
        "outputId": "e9a099bf-19eb-4ac8-c53c-97e59ed3851f"
      },
      "execution_count": 32,
      "outputs": [
        {
          "output_type": "execute_result",
          "data": {
            "text/plain": [
              "(224, 224, 3)"
            ]
          },
          "metadata": {},
          "execution_count": 32
        }
      ]
    },
    {
      "cell_type": "code",
      "source": [
        "len(train_df['labels'].unique())"
      ],
      "metadata": {
        "colab": {
          "base_uri": "https://localhost:8080/"
        },
        "id": "MC9lc7xX7-Zu",
        "outputId": "f6e60894-c913-4456-e90b-811e19a43e89"
      },
      "execution_count": 28,
      "outputs": [
        {
          "output_type": "execute_result",
          "data": {
            "text/plain": [
              "144"
            ]
          },
          "metadata": {},
          "execution_count": 28
        }
      ]
    },
    {
      "cell_type": "code",
      "source": [
        "from tensorflow.keras.preprocessing.image import ImageDataGenerator\n",
        "data_generation = ImageDataGenerator(rescale=1.0/255)"
      ],
      "metadata": {
        "id": "c7-cf5I58Cs_"
      },
      "execution_count": 30,
      "outputs": []
    },
    {
      "cell_type": "code",
      "source": [
        "train_generation = data_generation.flow_from_directory(\n",
        "                                        \"/content/train\",\n",
        "                                        target_size=(38,38),\n",
        "                                        batch_size=10,\n",
        "                                        class_mode='categorical',\n",
        "                                       color_mode = 'grayscale' )\n",
        "test_generation = data_generation.flow_from_directory(\n",
        "                                        \"/content/test\",\n",
        "                                        target_size=(38,38),\n",
        "                                        batch_size=10,\n",
        "                                        class_mode='categorical',\n",
        "                                        color_mode = 'grayscale')\n",
        "val_generation = data_generation.flow_from_directory(\n",
        "                                        \"/content/valid\",\n",
        "                                        target_size=(38,38),\n",
        "                                        batch_size=10,\n",
        "                                        class_mode='categorical',\n",
        "                                        color_mode = 'grayscale')"
      ],
      "metadata": {
        "colab": {
          "base_uri": "https://localhost:8080/"
        },
        "id": "qmKcDMBm8_pk",
        "outputId": "a18644f9-9922-40bf-aa44-53096e450bdd"
      },
      "execution_count": 36,
      "outputs": [
        {
          "output_type": "stream",
          "name": "stdout",
          "text": [
            "Found 11520 images belonging to 144 classes.\n",
            "Found 1440 images belonging to 144 classes.\n",
            "Found 1440 images belonging to 144 classes.\n"
          ]
        }
      ]
    },
    {
      "cell_type": "code",
      "source": [
        "Model_1  = tf.keras.models.Sequential()\n",
        "Model_1.add(tf.keras.layers.Conv2D(filters=32,kernel_size=(3,3),input_shape=(38,38,1),activation='relu',kernel_initializer='he_uniform',))\n",
        "Model_1.add(tf.keras.layers.Conv2D(filters=32,kernel_size=(2,2),activation='relu',kernel_initializer='he_uniform',))\n",
        "Model_1.add(tf.keras.layers.MaxPool2D(pool_size=(2,2)))\n",
        "Model_1.add(tf.keras.layers.BatchNormalization())\n",
        "Model_1.add(tf.keras.layers.Conv2D(filters=64,kernel_size=(2,2),activation='relu',kernel_initializer='he_uniform',))\n",
        "Model_1.add(tf.keras.layers.Conv2D(filters=128,kernel_size=(2,2),activation='relu',kernel_initializer='he_uniform',))\n",
        "Model_1.add(tf.keras.layers.Flatten())\n",
        "Model_1.add(tf.keras.layers.Dense(1024,activation='relu'))\n",
        "Model_1.add(tf.keras.layers.Dropout((0.5)))\n",
        "Model_1.add(tf.keras.layers.Dense(144,activation='softmax'))"
      ],
      "metadata": {
        "id": "jMD7aTYZ9yqJ"
      },
      "execution_count": 41,
      "outputs": []
    },
    {
      "cell_type": "code",
      "source": [
        "Model_1.summary()"
      ],
      "metadata": {
        "colab": {
          "base_uri": "https://localhost:8080/"
        },
        "id": "7Vpz0uGsAtEX",
        "outputId": "7ee9bace-7f11-42cb-ce14-480c3428ce4e"
      },
      "execution_count": 42,
      "outputs": [
        {
          "output_type": "stream",
          "name": "stdout",
          "text": [
            "Model: \"sequential_2\"\n",
            "_________________________________________________________________\n",
            " Layer (type)                Output Shape              Param #   \n",
            "=================================================================\n",
            " conv2d_8 (Conv2D)           (None, 36, 36, 32)        320       \n",
            "                                                                 \n",
            " conv2d_9 (Conv2D)           (None, 35, 35, 32)        4128      \n",
            "                                                                 \n",
            " max_pooling2d_2 (MaxPooling  (None, 17, 17, 32)       0         \n",
            " 2D)                                                             \n",
            "                                                                 \n",
            " batch_normalization_2 (Batc  (None, 17, 17, 32)       128       \n",
            " hNormalization)                                                 \n",
            "                                                                 \n",
            " conv2d_10 (Conv2D)          (None, 16, 16, 64)        8256      \n",
            "                                                                 \n",
            " conv2d_11 (Conv2D)          (None, 15, 15, 128)       32896     \n",
            "                                                                 \n",
            " flatten_2 (Flatten)         (None, 28800)             0         \n",
            "                                                                 \n",
            " dense_4 (Dense)             (None, 1024)              29492224  \n",
            "                                                                 \n",
            " dropout_2 (Dropout)         (None, 1024)              0         \n",
            "                                                                 \n",
            " dense_5 (Dense)             (None, 144)               147600    \n",
            "                                                                 \n",
            "=================================================================\n",
            "Total params: 29,685,552\n",
            "Trainable params: 29,685,488\n",
            "Non-trainable params: 64\n",
            "_________________________________________________________________\n"
          ]
        }
      ]
    },
    {
      "cell_type": "code",
      "source": [
        "Model_1.compile(loss='categorical_crossentropy',optimizer='Adam',metrics=['accuracy'])"
      ],
      "metadata": {
        "id": "gQoKk2NhAn2Q"
      },
      "execution_count": 43,
      "outputs": []
    },
    {
      "cell_type": "code",
      "source": [
        "Model_1.fit_generator(train_generation,validation_data=test_generation,epochs=15)"
      ],
      "metadata": {
        "colab": {
          "base_uri": "https://localhost:8080/"
        },
        "id": "kxVf-LbgAr86",
        "outputId": "c718f615-d365-4d72-fd89-e220bc797cd2"
      },
      "execution_count": 44,
      "outputs": [
        {
          "output_type": "stream",
          "name": "stdout",
          "text": [
            "Epoch 1/15\n"
          ]
        },
        {
          "output_type": "stream",
          "name": "stderr",
          "text": [
            "/usr/local/lib/python3.7/dist-packages/ipykernel_launcher.py:1: UserWarning: `Model.fit_generator` is deprecated and will be removed in a future version. Please use `Model.fit`, which supports generators.\n",
            "  \"\"\"Entry point for launching an IPython kernel.\n"
          ]
        },
        {
          "output_type": "stream",
          "name": "stdout",
          "text": [
            "1152/1152 [==============================] - 33s 18ms/step - loss: 2.2953 - accuracy: 0.5747 - val_loss: 0.8381 - val_accuracy: 0.8174\n",
            "Epoch 2/15\n",
            "1152/1152 [==============================] - 22s 19ms/step - loss: 0.9137 - accuracy: 0.8075 - val_loss: 0.7455 - val_accuracy: 0.8479\n",
            "Epoch 3/15\n",
            "1152/1152 [==============================] - 21s 18ms/step - loss: 0.7886 - accuracy: 0.8307 - val_loss: 0.7111 - val_accuracy: 0.8542\n",
            "Epoch 4/15\n",
            "1152/1152 [==============================] - 21s 18ms/step - loss: 0.6393 - accuracy: 0.8560 - val_loss: 0.6997 - val_accuracy: 0.8583\n",
            "Epoch 5/15\n",
            "1152/1152 [==============================] - 21s 18ms/step - loss: 0.5001 - accuracy: 0.8857 - val_loss: 0.6584 - val_accuracy: 0.8674\n",
            "Epoch 6/15\n",
            "1152/1152 [==============================] - 21s 18ms/step - loss: 0.4396 - accuracy: 0.8977 - val_loss: 0.6582 - val_accuracy: 0.8757\n",
            "Epoch 7/15\n",
            "1152/1152 [==============================] - 21s 18ms/step - loss: 0.3616 - accuracy: 0.9151 - val_loss: 0.6644 - val_accuracy: 0.8785\n",
            "Epoch 8/15\n",
            "1152/1152 [==============================] - 21s 18ms/step - loss: 0.3040 - accuracy: 0.9280 - val_loss: 0.6940 - val_accuracy: 0.8799\n",
            "Epoch 9/15\n",
            "1152/1152 [==============================] - 21s 18ms/step - loss: 0.2652 - accuracy: 0.9357 - val_loss: 0.5962 - val_accuracy: 0.8951\n",
            "Epoch 10/15\n",
            "1152/1152 [==============================] - 21s 18ms/step - loss: 0.2302 - accuracy: 0.9460 - val_loss: 0.6279 - val_accuracy: 0.8826\n",
            "Epoch 11/15\n",
            "1152/1152 [==============================] - 21s 18ms/step - loss: 0.1903 - accuracy: 0.9536 - val_loss: 0.6989 - val_accuracy: 0.8861\n",
            "Epoch 12/15\n",
            "1152/1152 [==============================] - 21s 18ms/step - loss: 0.1937 - accuracy: 0.9560 - val_loss: 0.7879 - val_accuracy: 0.8931\n",
            "Epoch 13/15\n",
            "1152/1152 [==============================] - 21s 18ms/step - loss: 0.1581 - accuracy: 0.9631 - val_loss: 0.6660 - val_accuracy: 0.8868\n",
            "Epoch 14/15\n",
            "1152/1152 [==============================] - 21s 18ms/step - loss: 0.1507 - accuracy: 0.9636 - val_loss: 0.7731 - val_accuracy: 0.8875\n",
            "Epoch 15/15\n",
            "1152/1152 [==============================] - 21s 19ms/step - loss: 0.1358 - accuracy: 0.9687 - val_loss: 0.7596 - val_accuracy: 0.8924\n"
          ]
        },
        {
          "output_type": "execute_result",
          "data": {
            "text/plain": [
              "<keras.callbacks.History at 0x7f722f4847d0>"
            ]
          },
          "metadata": {},
          "execution_count": 44
        }
      ]
    },
    {
      "cell_type": "code",
      "source": [
        "Model_2  = tf.keras.models.Sequential()\n",
        "Model_2.add(tf.keras.layers.Conv2D(filters=32,kernel_size=(3,3),input_shape=(38,38,1),activation='relu',kernel_initializer='he_uniform',))\n",
        "Model_2.add(tf.keras.layers.Conv2D(filters=32,kernel_size=(3,3),activation='relu',kernel_initializer='he_uniform',))\n",
        "Model_2.add(tf.keras.layers.MaxPool2D(pool_size=(2,2)))\n",
        "Model_2.add(tf.keras.layers.BatchNormalization())\n",
        "Model_2.add(tf.keras.layers.Conv2D(filters=64,kernel_size=(2,2),activation='relu',kernel_initializer='he_uniform',))\n",
        "Model_2.add(tf.keras.layers.Conv2D(filters=64,kernel_size=(2,2),activation='relu',kernel_initializer='he_uniform',))\n",
        "Model_2.add(tf.keras.layers.BatchNormalization())\n",
        "Model_2.add(tf.keras.layers.MaxPool2D(pool_size=(2,2)))\n",
        "Model_2.add(tf.keras.layers.Conv2D(filters=128,kernel_size=(2,2),activation='relu',kernel_initializer='he_uniform',))\n",
        "Model_2.add(tf.keras.layers.Conv2D(filters=128,kernel_size=(2,2),activation='relu',kernel_initializer='he_uniform',))\n",
        "Model_2.add(tf.keras.layers.BatchNormalization())\n",
        "Model_2.add(tf.keras.layers.Dropout((0.3)))\n",
        "Model_2.add(tf.keras.layers.Flatten())\n",
        "Model_2.add(tf.keras.layers.Dense(1024,activation='relu'))\n",
        "Model_2.add(tf.keras.layers.Dropout((0.5)))\n",
        "Model_2.add(tf.keras.layers.Dense(144,activation='softmax'))"
      ],
      "metadata": {
        "id": "gcD6fQFPBI1O"
      },
      "execution_count": 45,
      "outputs": []
    },
    {
      "cell_type": "code",
      "source": [
        "Model_2.compile(loss='categorical_crossentropy',optimizer='Adam',metrics=['accuracy'])"
      ],
      "metadata": {
        "id": "QF5CU7TEFcgU"
      },
      "execution_count": 46,
      "outputs": []
    },
    {
      "cell_type": "code",
      "source": [
        "Model_2.fit_generator(train_generation,validation_data=test_generation,epochs=15)"
      ],
      "metadata": {
        "colab": {
          "base_uri": "https://localhost:8080/"
        },
        "id": "cNWSC-SnFfJk",
        "outputId": "7ff9225b-3702-4053-d97e-6ee45bdc06ef"
      },
      "execution_count": 47,
      "outputs": [
        {
          "output_type": "stream",
          "name": "stdout",
          "text": [
            "Epoch 1/15\n"
          ]
        },
        {
          "output_type": "stream",
          "name": "stderr",
          "text": [
            "/usr/local/lib/python3.7/dist-packages/ipykernel_launcher.py:1: UserWarning: `Model.fit_generator` is deprecated and will be removed in a future version. Please use `Model.fit`, which supports generators.\n",
            "  \"\"\"Entry point for launching an IPython kernel.\n"
          ]
        },
        {
          "output_type": "stream",
          "name": "stdout",
          "text": [
            "1152/1152 [==============================] - 21s 17ms/step - loss: 3.2707 - accuracy: 0.3480 - val_loss: 1.4822 - val_accuracy: 0.6715\n",
            "Epoch 2/15\n",
            "1152/1152 [==============================] - 20s 17ms/step - loss: 1.4774 - accuracy: 0.6538 - val_loss: 0.8325 - val_accuracy: 0.8132\n",
            "Epoch 3/15\n",
            "1152/1152 [==============================] - 20s 18ms/step - loss: 1.0705 - accuracy: 0.7545 - val_loss: 0.7288 - val_accuracy: 0.8375\n",
            "Epoch 4/15\n",
            "1152/1152 [==============================] - 20s 17ms/step - loss: 0.9118 - accuracy: 0.7930 - val_loss: 0.6525 - val_accuracy: 0.8542\n",
            "Epoch 5/15\n",
            "1152/1152 [==============================] - 20s 17ms/step - loss: 0.7848 - accuracy: 0.8167 - val_loss: 0.5270 - val_accuracy: 0.8750\n",
            "Epoch 6/15\n",
            "1152/1152 [==============================] - 20s 17ms/step - loss: 0.7206 - accuracy: 0.8357 - val_loss: 0.4145 - val_accuracy: 0.8993\n",
            "Epoch 7/15\n",
            "1152/1152 [==============================] - 20s 18ms/step - loss: 0.6125 - accuracy: 0.8572 - val_loss: 0.4173 - val_accuracy: 0.9042\n",
            "Epoch 8/15\n",
            "1152/1152 [==============================] - 20s 18ms/step - loss: 0.5278 - accuracy: 0.8757 - val_loss: 0.3577 - val_accuracy: 0.9146\n",
            "Epoch 9/15\n",
            "1152/1152 [==============================] - 20s 17ms/step - loss: 0.4640 - accuracy: 0.8882 - val_loss: 0.3463 - val_accuracy: 0.9160\n",
            "Epoch 10/15\n",
            "1152/1152 [==============================] - 20s 17ms/step - loss: 0.4187 - accuracy: 0.9026 - val_loss: 0.3288 - val_accuracy: 0.9187\n",
            "Epoch 11/15\n",
            "1152/1152 [==============================] - 19s 17ms/step - loss: 0.3805 - accuracy: 0.9071 - val_loss: 0.2945 - val_accuracy: 0.9285\n",
            "Epoch 12/15\n",
            "1152/1152 [==============================] - 19s 17ms/step - loss: 0.3342 - accuracy: 0.9202 - val_loss: 0.2708 - val_accuracy: 0.9333\n",
            "Epoch 13/15\n",
            "1152/1152 [==============================] - 20s 17ms/step - loss: 0.3118 - accuracy: 0.9199 - val_loss: 0.2883 - val_accuracy: 0.9312\n",
            "Epoch 14/15\n",
            "1152/1152 [==============================] - 19s 17ms/step - loss: 0.2602 - accuracy: 0.9356 - val_loss: 0.3015 - val_accuracy: 0.9292\n",
            "Epoch 15/15\n",
            "1152/1152 [==============================] - 20s 17ms/step - loss: 0.2336 - accuracy: 0.9384 - val_loss: 0.2741 - val_accuracy: 0.9389\n"
          ]
        },
        {
          "output_type": "execute_result",
          "data": {
            "text/plain": [
              "<keras.callbacks.History at 0x7f7231dda950>"
            ]
          },
          "metadata": {},
          "execution_count": 47
        }
      ]
    },
    {
      "cell_type": "code",
      "source": [
        "losse = pd.DataFrame(Model_2.history.history)\n",
        "losse[['accuracy','val_accuracy']].plot()"
      ],
      "metadata": {
        "colab": {
          "base_uri": "https://localhost:8080/",
          "height": 282
        },
        "id": "BIFLuk_5FkQP",
        "outputId": "20b12009-ed64-4efc-d8df-e3f6681ce3e2"
      },
      "execution_count": 49,
      "outputs": [
        {
          "output_type": "execute_result",
          "data": {
            "text/plain": [
              "<matplotlib.axes._subplots.AxesSubplot at 0x7f722f12c2d0>"
            ]
          },
          "metadata": {},
          "execution_count": 49
        },
        {
          "output_type": "display_data",
          "data": {
            "text/plain": [
              "<Figure size 432x288 with 1 Axes>"
            ],
            "image/png": "[encoded data removed]"
          },
          "metadata": {
            "needs_background": "light"
          }
        }
      ]
    },
    {
      "cell_type": "code",
      "source": [
        "Model_2  = tf.keras.models.Sequential()\n",
        "Model_2.add(tf.keras.layers.Conv2D(filters=32,kernel_size=(3,3),input_shape=(38,38,1),activation='relu',kernel_initializer='he_uniform',))\n",
        "Model_2.add(tf.keras.layers.Conv2D(filters=32,kernel_size=(3,3),activation='relu',kernel_initializer='he_uniform',))\n",
        "Model_2.add(tf.keras.layers.MaxPool2D(pool_size=(2,2)))\n",
        "Model_2.add(tf.keras.layers.BatchNormalization())\n",
        "Model_2.add(tf.keras.layers.Conv2D(filters=64,kernel_size=(2,2),activation='relu',kernel_initializer='he_uniform',))\n",
        "Model_2.add(tf.keras.layers.Conv2D(filters=64,kernel_size=(2,2),activation='relu',kernel_initializer='he_uniform',))\n",
        "Model_2.add(tf.keras.layers.BatchNormalization())\n",
        "Model_2.add(tf.keras.layers.MaxPool2D(pool_size=(2,2)))\n",
        "Model_2.add(tf.keras.layers.Conv2D(filters=128,kernel_size=(2,2),activation='relu',kernel_initializer='he_uniform',))\n",
        "Model_2.add(tf.keras.layers.Conv2D(filters=128,kernel_size=(2,2),activation='relu',kernel_initializer='he_uniform',))\n",
        "Model_2.add(tf.keras.layers.BatchNormalization())\n",
        "Model_2.add(tf.keras.layers.Dropout((0.3)))\n",
        "Model_2.add(tf.keras.layers.Flatten())\n",
        "Model_2.add(tf.keras.layers.Dense(1024,activation='relu'))\n",
        "Model_2.add(tf.keras.layers.Dropout((0.5)))\n",
        "Model_2.add(tf.keras.layers.Dense(144,activation='softmax'))"
      ],
      "metadata": {
        "id": "2CnX3PzSGydu"
      },
      "execution_count": 53,
      "outputs": []
    },
    {
      "cell_type": "code",
      "source": [
        "Model_2.compile(loss='categorical_crossentropy',optimizer='Adam',metrics=['accuracy'])"
      ],
      "metadata": {
        "id": "04RipM0RG6AY"
      },
      "execution_count": 54,
      "outputs": []
    },
    {
      "cell_type": "code",
      "source": [
        "Model_2.fit_generator(train_generation,validation_data=test_generation,epochs=100)"
      ],
      "metadata": {
        "id": "tu4rKd71G6Y7"
      },
      "execution_count": null,
      "outputs": []
    },
    {
      "cell_type": "code",
      "source": [
        "losse = pd.DataFrame(Model_2.history.history)\n",
        "losse[['accuracy','val_accuracy']].plot()"
      ],
      "metadata": {
        "colab": {
          "base_uri": "https://localhost:8080/",
          "height": 282
        },
        "id": "pfvDmYQxG-GU",
        "outputId": "20688308-1bce-49f3-f1ee-78e1796c819d"
      },
      "execution_count": 56,
      "outputs": [
        {
          "output_type": "execute_result",
          "data": {
            "text/plain": [
              "<matplotlib.axes._subplots.AxesSubplot at 0x7f71b20bba10>"
            ]
          },
          "metadata": {},
          "execution_count": 56
        },
        {
          "output_type": "display_data",
          "data": {
            "text/plain": [
              "<Figure size 432x288 with 1 Axes>"
            ],
            "image/png": "[encoded data removed]"
          },
          "metadata": {
            "needs_background": "light"
          }
        }
      ]
    },
    {
      "cell_type": "code",
      "source": [
        "Model_2.evaluate_generator(val_generation)"
      ],
      "metadata": {
        "colab": {
          "base_uri": "https://localhost:8080/"
        },
        "id": "IcBOw8jdVwwY",
        "outputId": "e90c89ba-6fd2-48fd-bfc9-2627ce81901e"
      },
      "execution_count": 61,
      "outputs": [
        {
          "output_type": "stream",
          "name": "stderr",
          "text": [
            "/usr/local/lib/python3.7/dist-packages/ipykernel_launcher.py:1: UserWarning: `Model.evaluate_generator` is deprecated and will be removed in a future version. Please use `Model.evaluate`, which supports generators.\n",
            "  \"\"\"Entry point for launching an IPython kernel.\n"
          ]
        },
        {
          "output_type": "execute_result",
          "data": {
            "text/plain": [
              "[0.6758617758750916, 0.9402777552604675]"
            ]
          },
          "metadata": {},
          "execution_count": 61
        }
      ]
    },
    {
      "cell_type": "code",
      "source": [
        "train_generation = data_generation.flow_from_directory(\n",
        "                                        \"/content/train\",\n",
        "                                        target_size=(64,64),\n",
        "                                        batch_size=10,\n",
        "                                        class_mode='categorical',\n",
        "                                       color_mode = 'grayscale' )\n",
        "test_generation = data_generation.flow_from_directory(\n",
        "                                        \"/content/test\",\n",
        "                                        target_size=(64,64),\n",
        "                                        batch_size=10,\n",
        "                                        class_mode='categorical',\n",
        "                                        color_mode = 'grayscale')\n",
        "val_generation = data_generation.flow_from_directory(\n",
        "                                        \"/content/valid\",\n",
        "                                        target_size=(64,64),\n",
        "                                        batch_size=10,\n",
        "                                        class_mode='categorical',\n",
        "                                        color_mode = 'grayscale')"
      ],
      "metadata": {
        "colab": {
          "base_uri": "https://localhost:8080/"
        },
        "id": "pEn_rMvdWnNG",
        "outputId": "4004b472-7387-4502-9ec7-d3d1a0e8f264"
      },
      "execution_count": 62,
      "outputs": [
        {
          "output_type": "stream",
          "name": "stdout",
          "text": [
            "Found 11520 images belonging to 144 classes.\n",
            "Found 1440 images belonging to 144 classes.\n",
            "Found 1440 images belonging to 144 classes.\n"
          ]
        }
      ]
    },
    {
      "cell_type": "code",
      "source": [
        "Model_3  = tf.keras.models.Sequential()\n",
        "Model_3.add(tf.keras.layers.Conv2D(filters=32,kernel_size=(3,3),input_shape=(64,64,1),activation='relu',kernel_initializer='he_uniform',))\n",
        "Model_3.add(tf.keras.layers.Conv2D(filters=32,kernel_size=(3,3),activation='relu',kernel_initializer='he_uniform',))\n",
        "Model_3.add(tf.keras.layers.MaxPool2D(pool_size=(2,2)))\n",
        "Model_3.add(tf.keras.layers.BatchNormalization())\n",
        "Model_3.add(tf.keras.layers.Conv2D(filters=64,kernel_size=(2,2),activation='relu',kernel_initializer='he_uniform',))\n",
        "Model_3.add(tf.keras.layers.Conv2D(filters=64,kernel_size=(2,2),activation='relu',kernel_initializer='he_uniform',))\n",
        "Model_3.add(tf.keras.layers.BatchNormalization())\n",
        "Model_3.add(tf.keras.layers.MaxPool2D(pool_size=(2,2)))\n",
        "Model_3.add(tf.keras.layers.Conv2D(filters=128,kernel_size=(2,2),activation='relu',kernel_initializer='he_uniform',))\n",
        "Model_3.add(tf.keras.layers.Conv2D(filters=128,kernel_size=(2,2),activation='relu',kernel_initializer='he_uniform',))\n",
        "Model_3.add(tf.keras.layers.BatchNormalization())\n",
        "Model_3.add(tf.keras.layers.Dropout((0.3)))\n",
        "Model_3.add(tf.keras.layers.Flatten())\n",
        "Model_3.add(tf.keras.layers.Dense(1024,activation='relu'))\n",
        "Model_3.add(tf.keras.layers.Dropout((0.5)))\n",
        "Model_3.add(tf.keras.layers.Dense(144,activation='softmax'))"
      ],
      "metadata": {
        "id": "lQMfeCKpWCi2"
      },
      "execution_count": 69,
      "outputs": []
    },
    {
      "cell_type": "code",
      "source": [
        "Model_3.compile(loss='categorical_crossentropy',optimizer='Adam',metrics=['accuracy'])"
      ],
      "metadata": {
        "id": "Iti0azzLWzbf"
      },
      "execution_count": 70,
      "outputs": []
    },
    {
      "cell_type": "code",
      "source": [
        "Model_3.fit_generator(train_generation,validation_data=test_generation,epochs=50)"
      ],
      "metadata": {
        "id": "Y74hEcheW0y9"
      },
      "execution_count": null,
      "outputs": []
    },
    {
      "cell_type": "code",
      "source": [
        "losse = pd.DataFrame(Model_3.history.history)\n",
        "losse[['accuracy','val_accuracy']].plot()"
      ],
      "metadata": {
        "colab": {
          "base_uri": "https://localhost:8080/",
          "height": 285
        },
        "id": "ue2FQqC3W-Jv",
        "outputId": "ea2b0d52-c25e-4989-9455-e030cfdf3e99"
      },
      "execution_count": 72,
      "outputs": [
        {
          "output_type": "execute_result",
          "data": {
            "text/plain": [
              "<matplotlib.axes._subplots.AxesSubplot at 0x7f6e5407b550>"
            ]
          },
          "metadata": {},
          "execution_count": 72
        },
        {
          "output_type": "display_data",
          "data": {
            "text/plain": [
              "<Figure size 432x288 with 1 Axes>"
            ],
            "image/png": "[encoded data removed]"
          },
          "metadata": {
            "needs_background": "light"
          }
        }
      ]
    },
    {
      "cell_type": "code",
      "source": [
        "Model_3.evaluate_generator(val_generation)"
      ],
      "metadata": {
        "colab": {
          "base_uri": "https://localhost:8080/"
        },
        "id": "rAw9lUx6dwBT",
        "outputId": "f1d111e5-8231-4214-ae48-5a6a9a85cd65"
      },
      "execution_count": 73,
      "outputs": [
        {
          "output_type": "stream",
          "name": "stderr",
          "text": [
            "/usr/local/lib/python3.7/dist-packages/ipykernel_launcher.py:1: UserWarning: `Model.evaluate_generator` is deprecated and will be removed in a future version. Please use `Model.evaluate`, which supports generators.\n",
            "  \"\"\"Entry point for launching an IPython kernel.\n"
          ]
        },
        {
          "output_type": "execute_result",
          "data": {
            "text/plain": [
              "[0.3150036334991455, 0.9430555701255798]"
            ]
          },
          "metadata": {},
          "execution_count": 73
        }
      ]
    },
    {
      "cell_type": "code",
      "source": [],
      "metadata": {
        "id": "Zsj-qfFtd25c"
      },
      "execution_count": null,
      "outputs": []
    }
  ]
}