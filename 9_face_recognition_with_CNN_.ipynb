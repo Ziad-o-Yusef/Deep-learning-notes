{
  "nbformat": 4,
  "nbformat_minor": 0,
  "metadata": {
    "colab": {
      "provenance": [],
      "collapsed_sections": [],
      "authorship_tag": "ABX9TyMcgLfx5YyYC/nmuoMbHzht",
      "include_colab_link": true
    },
    "kernelspec": {
      "name": "python3",
      "display_name": "Python 3"
    },
    "language_info": {
      "name": "python"
    },
    "accelerator": "GPU"
  },
  "cells": [
    {
      "cell_type": "markdown",
      "metadata": {
        "id": "view-in-github",
        "colab_type": "text"
      },
      "source": [
        "<a href=\"https://colab.research.google.com/github/Ziad-o-Yusef/Deep-learning-notes/blob/main/9_face_recognition_with_CNN_.ipynb\" target=\"_parent\"><img src=\"https://colab.research.google.com/assets/colab-badge.svg\" alt=\"Open In Colab\"/></a>"
      ]
    },
    {
      "cell_type": "code",
      "execution_count": 1,
      "metadata": {
        "id": "3lI6ZhiguNvD"
      },
      "outputs": [],
      "source": [
        "import numpy as np\n",
        "import pandas as pd\n"
      ]
    },
    {
      "cell_type": "code",
      "source": [
        "import matplotlib.pyplot as plt\n",
        "from sklearn.datasets import fetch_olivetti_faces"
      ],
      "metadata": {
        "id": "H9Ffe89kulIU"
      },
      "execution_count": 2,
      "outputs": []
    },
    {
      "cell_type": "code",
      "source": [
        "faces = fetch_olivetti_faces()"
      ],
      "metadata": {
        "id": "g0d4nad3unrH"
      },
      "execution_count": 3,
      "outputs": []
    },
    {
      "cell_type": "code",
      "source": [
        "faces.keys()"
      ],
      "metadata": {
        "colab": {
          "base_uri": "https://localhost:8080/"
        },
        "id": "c5R2GjO2uqen",
        "outputId": "75422bec-ddf3-4ecb-ce74-e226bed698be"
      },
      "execution_count": 4,
      "outputs": [
        {
          "output_type": "execute_result",
          "data": {
            "text/plain": [
              "dict_keys(['data', 'images', 'target', 'DESCR'])"
            ]
          },
          "metadata": {},
          "execution_count": 4
        }
      ]
    },
    {
      "cell_type": "code",
      "source": [
        "target = faces['target']\n",
        "target.shape"
      ],
      "metadata": {
        "colab": {
          "base_uri": "https://localhost:8080/"
        },
        "id": "xnlQJIk1xlr8",
        "outputId": "7e51088e-1836-43ea-cb0b-315477b913f4"
      },
      "execution_count": 5,
      "outputs": [
        {
          "output_type": "execute_result",
          "data": {
            "text/plain": [
              "(400,)"
            ]
          },
          "metadata": {},
          "execution_count": 5
        }
      ]
    },
    {
      "cell_type": "code",
      "source": [
        "images = faces['images']"
      ],
      "metadata": {
        "id": "V0SfJfAhuswI"
      },
      "execution_count": 6,
      "outputs": []
    },
    {
      "cell_type": "code",
      "source": [
        "images.shape"
      ],
      "metadata": {
        "colab": {
          "base_uri": "https://localhost:8080/"
        },
        "id": "SN2T24uzuyM5",
        "outputId": "b4e1407f-e01c-4b14-dbba-6b9638e689c7"
      },
      "execution_count": 7,
      "outputs": [
        {
          "output_type": "execute_result",
          "data": {
            "text/plain": [
              "(400, 64, 64)"
            ]
          },
          "metadata": {},
          "execution_count": 7
        }
      ]
    },
    {
      "cell_type": "code",
      "source": [
        "plt.imshow(images[46])"
      ],
      "metadata": {
        "colab": {
          "base_uri": "https://localhost:8080/",
          "height": 286
        },
        "id": "U96zZsv_u4HL",
        "outputId": "035cac3a-d3e1-4744-e83e-14ed6c0c2378"
      },
      "execution_count": 8,
      "outputs": [
        {
          "output_type": "execute_result",
          "data": {
            "text/plain": [
              "<matplotlib.image.AxesImage at 0x7f3bfec996d0>"
            ]
          },
          "metadata": {},
          "execution_count": 8
        },
        {
          "output_type": "display_data",
          "data": {
            "text/plain": [
              "<Figure size 432x288 with 1 Axes>"
            ],
            "image/png": "[encoded data removed]"
          },
          "metadata": {
            "needs_background": "light"
          }
        }
      ]
    },
    {
      "cell_type": "code",
      "source": [
        "plt.imshow(images[100])"
      ],
      "metadata": {
        "colab": {
          "base_uri": "https://localhost:8080/",
          "height": 286
        },
        "id": "ZRGYHi6vvObb",
        "outputId": "71a8f6df-b0ad-42bf-aea9-ad8aa91c275f"
      },
      "execution_count": 9,
      "outputs": [
        {
          "output_type": "execute_result",
          "data": {
            "text/plain": [
              "<matplotlib.image.AxesImage at 0x7f3be8226310>"
            ]
          },
          "metadata": {},
          "execution_count": 9
        },
        {
          "output_type": "display_data",
          "data": {
            "text/plain": [
              "<Figure size 432x288 with 1 Axes>"
            ],
            "image/png": "[encoded data removed]"
          },
          "metadata": {
            "needs_background": "light"
          }
        }
      ]
    },
    {
      "cell_type": "code",
      "source": [
        "from sklearn.model_selection import train_test_split\n",
        "x_train,x_test,y_train,y_test = train_test_split(images,target,test_size=0.2)"
      ],
      "metadata": {
        "id": "VLBGfn3nw4FC"
      },
      "execution_count": 10,
      "outputs": []
    },
    {
      "cell_type": "code",
      "source": [
        "from tensorflow.keras.utils import to_categorical"
      ],
      "metadata": {
        "id": "SmmLENv3zvbq"
      },
      "execution_count": 11,
      "outputs": []
    },
    {
      "cell_type": "code",
      "source": [
        "x_train.shape,x_test.shape"
      ],
      "metadata": {
        "colab": {
          "base_uri": "https://localhost:8080/"
        },
        "id": "xLNEdItb0AQQ",
        "outputId": "2012f193-2db4-416a-d0cf-1125038d0e3a"
      },
      "execution_count": 12,
      "outputs": [
        {
          "output_type": "execute_result",
          "data": {
            "text/plain": [
              "((320, 64, 64), (80, 64, 64))"
            ]
          },
          "metadata": {},
          "execution_count": 12
        }
      ]
    },
    {
      "cell_type": "code",
      "source": [
        "x_train = x_train.reshape(320, 64, 64, 1)\n",
        "y_train = to_categorical(y_train,40)\n",
        "x_test= x_test.reshape(80, 64, 64, 1)\n",
        "y_test =to_categorical(y_test,40)"
      ],
      "metadata": {
        "id": "ADhQ8HaRyQ0h"
      },
      "execution_count": 13,
      "outputs": []
    },
    {
      "cell_type": "code",
      "source": [
        "x_test.shape"
      ],
      "metadata": {
        "colab": {
          "base_uri": "https://localhost:8080/"
        },
        "id": "8shjFqbt0aUN",
        "outputId": "6853fbd3-13c6-4dad-e095-50965b3d8033"
      },
      "execution_count": 14,
      "outputs": [
        {
          "output_type": "execute_result",
          "data": {
            "text/plain": [
              "(80, 64, 64, 1)"
            ]
          },
          "metadata": {},
          "execution_count": 14
        }
      ]
    },
    {
      "cell_type": "code",
      "source": [
        "import tensorflow as tf\n"
      ],
      "metadata": {
        "id": "ZRumZpYL052-"
      },
      "execution_count": 15,
      "outputs": []
    },
    {
      "cell_type": "code",
      "source": [
        "model = tf.keras.models.Sequential([\n",
        "    tf.keras.layers.Conv2D(filters=32,kernel_size=(2,2),input_shape=(64, 64, 1), activation='relu',),\n",
        "    tf.keras.layers.MaxPool2D(pool_size=(2,2)),\n",
        "    tf.keras.layers.Conv2D(filters=32,kernel_size=(2,2), activation='relu',),\n",
        "        tf.keras.layers.MaxPool2D(pool_size=(2,2)),\n",
        "        tf.keras.layers.Flatten(),\n",
        "        tf.keras.layers.Dense(200, activation='relu'),\n",
        "        tf.keras.layers.Dense(100, activation='relu'),\n",
        "        tf.keras.layers.Dense(40, activation='softmax'),\n",
        "])"
      ],
      "metadata": {
        "id": "R6CjIaJe0sCQ"
      },
      "execution_count": 19,
      "outputs": []
    },
    {
      "cell_type": "code",
      "source": [
        "model.compile(loss='categorical_crossentropy',\n",
        "              optimizer='adam',\n",
        "              metrics=['accuracy'])"
      ],
      "metadata": {
        "id": "L_M8GZDF1DLP"
      },
      "execution_count": 20,
      "outputs": []
    },
    {
      "cell_type": "code",
      "source": [
        "model.fit(x_train,y_train,epochs=100,validation_data=(x_test,y_test))"
      ],
      "metadata": {
        "colab": {
          "base_uri": "https://localhost:8080/"
        },
        "id": "OpoifEJs1KsR",
        "outputId": "fc9aa6f6-a407-4725-df11-5fdc975deade"
      },
      "execution_count": 21,
      "outputs": [
        {
          "output_type": "stream",
          "name": "stdout",
          "text": [
            "Epoch 1/100\n",
            "10/10 [==============================] - 1s 26ms/step - loss: 3.7133 - accuracy: 0.0094 - val_loss: 3.6984 - val_accuracy: 0.0125\n",
            "Epoch 2/100\n",
            "10/10 [==============================] - 0s 10ms/step - loss: 3.6784 - accuracy: 0.0500 - val_loss: 3.6812 - val_accuracy: 0.0375\n",
            "Epoch 3/100\n",
            "10/10 [==============================] - 0s 9ms/step - loss: 3.6446 - accuracy: 0.0469 - val_loss: 3.6656 - val_accuracy: 0.0250\n",
            "Epoch 4/100\n",
            "10/10 [==============================] - 0s 9ms/step - loss: 3.5578 - accuracy: 0.0969 - val_loss: 3.6193 - val_accuracy: 0.0375\n",
            "Epoch 5/100\n",
            "10/10 [==============================] - 0s 11ms/step - loss: 3.3720 - accuracy: 0.1875 - val_loss: 3.3962 - val_accuracy: 0.1375\n",
            "Epoch 6/100\n",
            "10/10 [==============================] - 0s 9ms/step - loss: 3.0148 - accuracy: 0.3281 - val_loss: 3.0416 - val_accuracy: 0.3000\n",
            "Epoch 7/100\n",
            "10/10 [==============================] - 0s 10ms/step - loss: 2.4768 - accuracy: 0.4344 - val_loss: 2.5629 - val_accuracy: 0.4000\n",
            "Epoch 8/100\n",
            "10/10 [==============================] - 0s 10ms/step - loss: 1.9345 - accuracy: 0.5531 - val_loss: 1.9798 - val_accuracy: 0.5250\n",
            "Epoch 9/100\n",
            "10/10 [==============================] - 0s 11ms/step - loss: 1.3535 - accuracy: 0.7125 - val_loss: 1.3932 - val_accuracy: 0.6375\n",
            "Epoch 10/100\n",
            "10/10 [==============================] - 0s 9ms/step - loss: 0.9566 - accuracy: 0.8000 - val_loss: 1.2072 - val_accuracy: 0.6625\n",
            "Epoch 11/100\n",
            "10/10 [==============================] - 0s 9ms/step - loss: 0.6433 - accuracy: 0.8656 - val_loss: 0.9950 - val_accuracy: 0.7125\n",
            "Epoch 12/100\n",
            "10/10 [==============================] - 0s 11ms/step - loss: 0.5029 - accuracy: 0.8594 - val_loss: 0.7433 - val_accuracy: 0.8125\n",
            "Epoch 13/100\n",
            "10/10 [==============================] - 0s 9ms/step - loss: 0.3458 - accuracy: 0.9281 - val_loss: 0.5345 - val_accuracy: 0.8500\n",
            "Epoch 14/100\n",
            "10/10 [==============================] - 0s 10ms/step - loss: 0.2240 - accuracy: 0.9688 - val_loss: 0.5505 - val_accuracy: 0.8500\n",
            "Epoch 15/100\n",
            "10/10 [==============================] - 0s 10ms/step - loss: 0.1604 - accuracy: 0.9719 - val_loss: 0.3477 - val_accuracy: 0.9250\n",
            "Epoch 16/100\n",
            "10/10 [==============================] - 0s 9ms/step - loss: 0.0965 - accuracy: 0.9906 - val_loss: 0.3251 - val_accuracy: 0.9125\n",
            "Epoch 17/100\n",
            "10/10 [==============================] - 0s 10ms/step - loss: 0.0631 - accuracy: 1.0000 - val_loss: 0.3194 - val_accuracy: 0.9250\n",
            "Epoch 18/100\n",
            "10/10 [==============================] - 0s 11ms/step - loss: 0.0464 - accuracy: 0.9969 - val_loss: 0.3343 - val_accuracy: 0.9125\n",
            "Epoch 19/100\n",
            "10/10 [==============================] - 0s 9ms/step - loss: 0.0355 - accuracy: 1.0000 - val_loss: 0.2538 - val_accuracy: 0.9250\n",
            "Epoch 20/100\n",
            "10/10 [==============================] - 0s 9ms/step - loss: 0.0256 - accuracy: 1.0000 - val_loss: 0.2550 - val_accuracy: 0.9500\n",
            "Epoch 21/100\n",
            "10/10 [==============================] - 0s 11ms/step - loss: 0.0201 - accuracy: 1.0000 - val_loss: 0.2396 - val_accuracy: 0.9500\n",
            "Epoch 22/100\n",
            "10/10 [==============================] - 0s 10ms/step - loss: 0.0154 - accuracy: 1.0000 - val_loss: 0.2423 - val_accuracy: 0.9375\n",
            "Epoch 23/100\n",
            "10/10 [==============================] - 0s 10ms/step - loss: 0.0123 - accuracy: 1.0000 - val_loss: 0.2562 - val_accuracy: 0.9500\n",
            "Epoch 24/100\n",
            "10/10 [==============================] - 0s 10ms/step - loss: 0.0112 - accuracy: 1.0000 - val_loss: 0.2353 - val_accuracy: 0.9375\n",
            "Epoch 25/100\n",
            "10/10 [==============================] - 0s 9ms/step - loss: 0.0095 - accuracy: 1.0000 - val_loss: 0.2323 - val_accuracy: 0.9500\n",
            "Epoch 26/100\n",
            "10/10 [==============================] - 0s 11ms/step - loss: 0.0082 - accuracy: 1.0000 - val_loss: 0.2290 - val_accuracy: 0.9375\n",
            "Epoch 27/100\n",
            "10/10 [==============================] - 0s 11ms/step - loss: 0.0074 - accuracy: 1.0000 - val_loss: 0.2315 - val_accuracy: 0.9500\n",
            "Epoch 28/100\n",
            "10/10 [==============================] - 0s 9ms/step - loss: 0.0065 - accuracy: 1.0000 - val_loss: 0.2216 - val_accuracy: 0.9500\n",
            "Epoch 29/100\n",
            "10/10 [==============================] - 0s 10ms/step - loss: 0.0061 - accuracy: 1.0000 - val_loss: 0.2227 - val_accuracy: 0.9375\n",
            "Epoch 30/100\n",
            "10/10 [==============================] - 0s 10ms/step - loss: 0.0054 - accuracy: 1.0000 - val_loss: 0.2281 - val_accuracy: 0.9500\n",
            "Epoch 31/100\n",
            "10/10 [==============================] - 0s 10ms/step - loss: 0.0051 - accuracy: 1.0000 - val_loss: 0.2297 - val_accuracy: 0.9375\n",
            "Epoch 32/100\n",
            "10/10 [==============================] - 0s 9ms/step - loss: 0.0048 - accuracy: 1.0000 - val_loss: 0.2321 - val_accuracy: 0.9375\n",
            "Epoch 33/100\n",
            "10/10 [==============================] - 0s 10ms/step - loss: 0.0043 - accuracy: 1.0000 - val_loss: 0.2295 - val_accuracy: 0.9375\n",
            "Epoch 34/100\n",
            "10/10 [==============================] - 0s 10ms/step - loss: 0.0042 - accuracy: 1.0000 - val_loss: 0.2232 - val_accuracy: 0.9500\n",
            "Epoch 35/100\n",
            "10/10 [==============================] - 0s 9ms/step - loss: 0.0038 - accuracy: 1.0000 - val_loss: 0.2329 - val_accuracy: 0.9375\n",
            "Epoch 36/100\n",
            "10/10 [==============================] - 0s 9ms/step - loss: 0.0036 - accuracy: 1.0000 - val_loss: 0.2268 - val_accuracy: 0.9500\n",
            "Epoch 37/100\n",
            "10/10 [==============================] - 0s 9ms/step - loss: 0.0034 - accuracy: 1.0000 - val_loss: 0.2291 - val_accuracy: 0.9500\n",
            "Epoch 38/100\n",
            "10/10 [==============================] - 0s 10ms/step - loss: 0.0031 - accuracy: 1.0000 - val_loss: 0.2294 - val_accuracy: 0.9375\n",
            "Epoch 39/100\n",
            "10/10 [==============================] - 0s 9ms/step - loss: 0.0029 - accuracy: 1.0000 - val_loss: 0.2191 - val_accuracy: 0.9500\n",
            "Epoch 40/100\n",
            "10/10 [==============================] - 0s 9ms/step - loss: 0.0028 - accuracy: 1.0000 - val_loss: 0.2308 - val_accuracy: 0.9375\n",
            "Epoch 41/100\n",
            "10/10 [==============================] - 0s 10ms/step - loss: 0.0026 - accuracy: 1.0000 - val_loss: 0.2303 - val_accuracy: 0.9500\n",
            "Epoch 42/100\n",
            "10/10 [==============================] - 0s 9ms/step - loss: 0.0025 - accuracy: 1.0000 - val_loss: 0.2241 - val_accuracy: 0.9500\n",
            "Epoch 43/100\n",
            "10/10 [==============================] - 0s 9ms/step - loss: 0.0023 - accuracy: 1.0000 - val_loss: 0.2248 - val_accuracy: 0.9375\n",
            "Epoch 44/100\n",
            "10/10 [==============================] - 0s 9ms/step - loss: 0.0022 - accuracy: 1.0000 - val_loss: 0.2263 - val_accuracy: 0.9375\n",
            "Epoch 45/100\n",
            "10/10 [==============================] - 0s 9ms/step - loss: 0.0021 - accuracy: 1.0000 - val_loss: 0.2285 - val_accuracy: 0.9500\n",
            "Epoch 46/100\n",
            "10/10 [==============================] - 0s 9ms/step - loss: 0.0020 - accuracy: 1.0000 - val_loss: 0.2282 - val_accuracy: 0.9375\n",
            "Epoch 47/100\n",
            "10/10 [==============================] - 0s 9ms/step - loss: 0.0019 - accuracy: 1.0000 - val_loss: 0.2252 - val_accuracy: 0.9375\n",
            "Epoch 48/100\n",
            "10/10 [==============================] - 0s 9ms/step - loss: 0.0018 - accuracy: 1.0000 - val_loss: 0.2273 - val_accuracy: 0.9500\n",
            "Epoch 49/100\n",
            "10/10 [==============================] - 0s 9ms/step - loss: 0.0017 - accuracy: 1.0000 - val_loss: 0.2227 - val_accuracy: 0.9500\n",
            "Epoch 50/100\n",
            "10/10 [==============================] - 0s 10ms/step - loss: 0.0017 - accuracy: 1.0000 - val_loss: 0.2236 - val_accuracy: 0.9500\n",
            "Epoch 51/100\n",
            "10/10 [==============================] - 0s 11ms/step - loss: 0.0016 - accuracy: 1.0000 - val_loss: 0.2256 - val_accuracy: 0.9375\n",
            "Epoch 52/100\n",
            "10/10 [==============================] - 0s 10ms/step - loss: 0.0015 - accuracy: 1.0000 - val_loss: 0.2234 - val_accuracy: 0.9500\n",
            "Epoch 53/100\n",
            "10/10 [==============================] - 0s 10ms/step - loss: 0.0015 - accuracy: 1.0000 - val_loss: 0.2260 - val_accuracy: 0.9500\n",
            "Epoch 54/100\n",
            "10/10 [==============================] - 0s 10ms/step - loss: 0.0014 - accuracy: 1.0000 - val_loss: 0.2275 - val_accuracy: 0.9375\n",
            "Epoch 55/100\n",
            "10/10 [==============================] - 0s 9ms/step - loss: 0.0014 - accuracy: 1.0000 - val_loss: 0.2255 - val_accuracy: 0.9375\n",
            "Epoch 56/100\n",
            "10/10 [==============================] - 0s 10ms/step - loss: 0.0013 - accuracy: 1.0000 - val_loss: 0.2244 - val_accuracy: 0.9500\n",
            "Epoch 57/100\n",
            "10/10 [==============================] - 0s 10ms/step - loss: 0.0012 - accuracy: 1.0000 - val_loss: 0.2244 - val_accuracy: 0.9500\n",
            "Epoch 58/100\n",
            "10/10 [==============================] - 0s 9ms/step - loss: 0.0012 - accuracy: 1.0000 - val_loss: 0.2232 - val_accuracy: 0.9500\n",
            "Epoch 59/100\n",
            "10/10 [==============================] - 0s 10ms/step - loss: 0.0012 - accuracy: 1.0000 - val_loss: 0.2241 - val_accuracy: 0.9500\n",
            "Epoch 60/100\n",
            "10/10 [==============================] - 0s 11ms/step - loss: 0.0011 - accuracy: 1.0000 - val_loss: 0.2243 - val_accuracy: 0.9500\n",
            "Epoch 61/100\n",
            "10/10 [==============================] - 0s 9ms/step - loss: 0.0011 - accuracy: 1.0000 - val_loss: 0.2252 - val_accuracy: 0.9500\n",
            "Epoch 62/100\n",
            "10/10 [==============================] - 0s 10ms/step - loss: 0.0011 - accuracy: 1.0000 - val_loss: 0.2250 - val_accuracy: 0.9500\n",
            "Epoch 63/100\n",
            "10/10 [==============================] - 0s 10ms/step - loss: 0.0010 - accuracy: 1.0000 - val_loss: 0.2252 - val_accuracy: 0.9500\n",
            "Epoch 64/100\n",
            "10/10 [==============================] - 0s 11ms/step - loss: 9.8264e-04 - accuracy: 1.0000 - val_loss: 0.2205 - val_accuracy: 0.9500\n",
            "Epoch 65/100\n",
            "10/10 [==============================] - 0s 9ms/step - loss: 9.4253e-04 - accuracy: 1.0000 - val_loss: 0.2240 - val_accuracy: 0.9500\n",
            "Epoch 66/100\n",
            "10/10 [==============================] - 0s 9ms/step - loss: 9.1117e-04 - accuracy: 1.0000 - val_loss: 0.2253 - val_accuracy: 0.9500\n",
            "Epoch 67/100\n",
            "10/10 [==============================] - 0s 9ms/step - loss: 8.8532e-04 - accuracy: 1.0000 - val_loss: 0.2276 - val_accuracy: 0.9500\n",
            "Epoch 68/100\n",
            "10/10 [==============================] - 0s 9ms/step - loss: 8.5577e-04 - accuracy: 1.0000 - val_loss: 0.2257 - val_accuracy: 0.9625\n",
            "Epoch 69/100\n",
            "10/10 [==============================] - 0s 9ms/step - loss: 8.2520e-04 - accuracy: 1.0000 - val_loss: 0.2221 - val_accuracy: 0.9625\n",
            "Epoch 70/100\n",
            "10/10 [==============================] - 0s 10ms/step - loss: 8.0181e-04 - accuracy: 1.0000 - val_loss: 0.2256 - val_accuracy: 0.9500\n",
            "Epoch 71/100\n",
            "10/10 [==============================] - 0s 10ms/step - loss: 7.8074e-04 - accuracy: 1.0000 - val_loss: 0.2277 - val_accuracy: 0.9500\n",
            "Epoch 72/100\n",
            "10/10 [==============================] - 0s 10ms/step - loss: 7.5239e-04 - accuracy: 1.0000 - val_loss: 0.2232 - val_accuracy: 0.9500\n",
            "Epoch 73/100\n",
            "10/10 [==============================] - 0s 10ms/step - loss: 7.3695e-04 - accuracy: 1.0000 - val_loss: 0.2255 - val_accuracy: 0.9625\n",
            "Epoch 74/100\n",
            "10/10 [==============================] - 0s 9ms/step - loss: 7.1727e-04 - accuracy: 1.0000 - val_loss: 0.2239 - val_accuracy: 0.9625\n",
            "Epoch 75/100\n",
            "10/10 [==============================] - 0s 9ms/step - loss: 6.8903e-04 - accuracy: 1.0000 - val_loss: 0.2253 - val_accuracy: 0.9625\n",
            "Epoch 76/100\n",
            "10/10 [==============================] - 0s 9ms/step - loss: 6.7180e-04 - accuracy: 1.0000 - val_loss: 0.2248 - val_accuracy: 0.9625\n",
            "Epoch 77/100\n",
            "10/10 [==============================] - 0s 10ms/step - loss: 6.5878e-04 - accuracy: 1.0000 - val_loss: 0.2273 - val_accuracy: 0.9625\n",
            "Epoch 78/100\n",
            "10/10 [==============================] - 0s 9ms/step - loss: 6.3491e-04 - accuracy: 1.0000 - val_loss: 0.2268 - val_accuracy: 0.9625\n",
            "Epoch 79/100\n",
            "10/10 [==============================] - 0s 11ms/step - loss: 6.1758e-04 - accuracy: 1.0000 - val_loss: 0.2252 - val_accuracy: 0.9625\n",
            "Epoch 80/100\n",
            "10/10 [==============================] - 0s 11ms/step - loss: 6.0250e-04 - accuracy: 1.0000 - val_loss: 0.2233 - val_accuracy: 0.9625\n",
            "Epoch 81/100\n",
            "10/10 [==============================] - 0s 9ms/step - loss: 5.8706e-04 - accuracy: 1.0000 - val_loss: 0.2260 - val_accuracy: 0.9625\n",
            "Epoch 82/100\n",
            "10/10 [==============================] - 0s 9ms/step - loss: 5.7353e-04 - accuracy: 1.0000 - val_loss: 0.2268 - val_accuracy: 0.9625\n",
            "Epoch 83/100\n",
            "10/10 [==============================] - 0s 10ms/step - loss: 5.5734e-04 - accuracy: 1.0000 - val_loss: 0.2268 - val_accuracy: 0.9500\n",
            "Epoch 84/100\n",
            "10/10 [==============================] - 0s 9ms/step - loss: 5.4418e-04 - accuracy: 1.0000 - val_loss: 0.2261 - val_accuracy: 0.9625\n",
            "Epoch 85/100\n",
            "10/10 [==============================] - 0s 11ms/step - loss: 5.2907e-04 - accuracy: 1.0000 - val_loss: 0.2285 - val_accuracy: 0.9625\n",
            "Epoch 86/100\n",
            "10/10 [==============================] - 0s 9ms/step - loss: 5.1760e-04 - accuracy: 1.0000 - val_loss: 0.2273 - val_accuracy: 0.9625\n",
            "Epoch 87/100\n",
            "10/10 [==============================] - 0s 9ms/step - loss: 5.0485e-04 - accuracy: 1.0000 - val_loss: 0.2285 - val_accuracy: 0.9625\n",
            "Epoch 88/100\n",
            "10/10 [==============================] - 0s 11ms/step - loss: 4.9335e-04 - accuracy: 1.0000 - val_loss: 0.2268 - val_accuracy: 0.9625\n",
            "Epoch 89/100\n",
            "10/10 [==============================] - 0s 10ms/step - loss: 4.7957e-04 - accuracy: 1.0000 - val_loss: 0.2270 - val_accuracy: 0.9625\n",
            "Epoch 90/100\n",
            "10/10 [==============================] - 0s 9ms/step - loss: 4.6956e-04 - accuracy: 1.0000 - val_loss: 0.2272 - val_accuracy: 0.9625\n",
            "Epoch 91/100\n",
            "10/10 [==============================] - 0s 10ms/step - loss: 4.5900e-04 - accuracy: 1.0000 - val_loss: 0.2277 - val_accuracy: 0.9625\n",
            "Epoch 92/100\n",
            "10/10 [==============================] - 0s 10ms/step - loss: 4.4591e-04 - accuracy: 1.0000 - val_loss: 0.2267 - val_accuracy: 0.9625\n",
            "Epoch 93/100\n",
            "10/10 [==============================] - 0s 9ms/step - loss: 4.3738e-04 - accuracy: 1.0000 - val_loss: 0.2272 - val_accuracy: 0.9625\n",
            "Epoch 94/100\n",
            "10/10 [==============================] - 0s 10ms/step - loss: 4.2703e-04 - accuracy: 1.0000 - val_loss: 0.2297 - val_accuracy: 0.9625\n",
            "Epoch 95/100\n",
            "10/10 [==============================] - 0s 11ms/step - loss: 4.1837e-04 - accuracy: 1.0000 - val_loss: 0.2279 - val_accuracy: 0.9625\n",
            "Epoch 96/100\n",
            "10/10 [==============================] - 0s 9ms/step - loss: 4.0832e-04 - accuracy: 1.0000 - val_loss: 0.2272 - val_accuracy: 0.9625\n",
            "Epoch 97/100\n",
            "10/10 [==============================] - 0s 9ms/step - loss: 3.9889e-04 - accuracy: 1.0000 - val_loss: 0.2293 - val_accuracy: 0.9625\n",
            "Epoch 98/100\n",
            "10/10 [==============================] - 0s 10ms/step - loss: 3.9340e-04 - accuracy: 1.0000 - val_loss: 0.2299 - val_accuracy: 0.9625\n",
            "Epoch 99/100\n",
            "10/10 [==============================] - 0s 9ms/step - loss: 3.8187e-04 - accuracy: 1.0000 - val_loss: 0.2291 - val_accuracy: 0.9625\n",
            "Epoch 100/100\n",
            "10/10 [==============================] - 0s 10ms/step - loss: 3.7476e-04 - accuracy: 1.0000 - val_loss: 0.2279 - val_accuracy: 0.9625\n"
          ]
        },
        {
          "output_type": "execute_result",
          "data": {
            "text/plain": [
              "<keras.callbacks.History at 0x7f3b0a393650>"
            ]
          },
          "metadata": {},
          "execution_count": 21
        }
      ]
    },
    {
      "cell_type": "code",
      "source": [
        "model2 =tf.keras.models.Sequential([\n",
        "    tf.keras.layers.Conv2D(filters=32,kernel_size=(2,2),input_shape=(64, 64, 1), activation='relu',),\n",
        "    tf.keras.layers.MaxPool2D(pool_size=(2,2)),\n",
        "    tf.keras.layers.Conv2D(filters=32,kernel_size=(2,2), activation='relu',),\n",
        "        tf.keras.layers.Flatten(),\n",
        "        tf.keras.layers.Dense(200, activation='relu'),\n",
        "        tf.keras.layers.Dense(100, activation='relu'),\n",
        "        tf.keras.layers.Dense(40, activation='softmax'),\n",
        "\n",
        "])"
      ],
      "metadata": {
        "id": "2BLTA0Pe1R9V"
      },
      "execution_count": 39,
      "outputs": []
    },
    {
      "cell_type": "code",
      "source": [
        "model2.compile(loss='categorical_crossentropy',\n",
        "              optimizer='adam',\n",
        "              metrics=['accuracy'])"
      ],
      "metadata": {
        "id": "gB4J9e6j4SHI"
      },
      "execution_count": 40,
      "outputs": []
    },
    {
      "cell_type": "code",
      "source": [
        "model2.fit(x_train,y_train,epochs=100,validation_data=(x_test,y_test))"
      ],
      "metadata": {
        "colab": {
          "base_uri": "https://localhost:8080/"
        },
        "id": "YGqk57Ci4dqf",
        "outputId": "5f26f705-e168-48eb-c029-e74bb51ad731"
      },
      "execution_count": 41,
      "outputs": [
        {
          "output_type": "stream",
          "name": "stdout",
          "text": [
            "Epoch 1/100\n",
            "10/10 [==============================] - 1s 28ms/step - loss: 3.7775 - accuracy: 0.0281 - val_loss: 3.7058 - val_accuracy: 0.0125\n",
            "Epoch 2/100\n",
            "10/10 [==============================] - 0s 11ms/step - loss: 3.6630 - accuracy: 0.0531 - val_loss: 3.6830 - val_accuracy: 0.0375\n",
            "Epoch 3/100\n",
            "10/10 [==============================] - 0s 10ms/step - loss: 3.6042 - accuracy: 0.1219 - val_loss: 3.6658 - val_accuracy: 0.0250\n",
            "Epoch 4/100\n",
            "10/10 [==============================] - 0s 10ms/step - loss: 3.5134 - accuracy: 0.1000 - val_loss: 3.5959 - val_accuracy: 0.0750\n",
            "Epoch 5/100\n",
            "10/10 [==============================] - 0s 9ms/step - loss: 3.2560 - accuracy: 0.2406 - val_loss: 3.3825 - val_accuracy: 0.0625\n",
            "Epoch 6/100\n",
            "10/10 [==============================] - 0s 10ms/step - loss: 2.7935 - accuracy: 0.3500 - val_loss: 2.8460 - val_accuracy: 0.3250\n",
            "Epoch 7/100\n",
            "10/10 [==============================] - 0s 10ms/step - loss: 2.1393 - accuracy: 0.5156 - val_loss: 2.3284 - val_accuracy: 0.4125\n",
            "Epoch 8/100\n",
            "10/10 [==============================] - 0s 11ms/step - loss: 1.4625 - accuracy: 0.6469 - val_loss: 1.6391 - val_accuracy: 0.5750\n",
            "Epoch 9/100\n",
            "10/10 [==============================] - 0s 9ms/step - loss: 0.9345 - accuracy: 0.7437 - val_loss: 1.2749 - val_accuracy: 0.5875\n",
            "Epoch 10/100\n",
            "10/10 [==============================] - 0s 11ms/step - loss: 0.6527 - accuracy: 0.8094 - val_loss: 0.9913 - val_accuracy: 0.7625\n",
            "Epoch 11/100\n",
            "10/10 [==============================] - 0s 11ms/step - loss: 0.3935 - accuracy: 0.9187 - val_loss: 0.7662 - val_accuracy: 0.8125\n",
            "Epoch 12/100\n",
            "10/10 [==============================] - 0s 10ms/step - loss: 0.2278 - accuracy: 0.9750 - val_loss: 0.6487 - val_accuracy: 0.8500\n",
            "Epoch 13/100\n",
            "10/10 [==============================] - 0s 9ms/step - loss: 0.1407 - accuracy: 0.9781 - val_loss: 0.4301 - val_accuracy: 0.9000\n",
            "Epoch 14/100\n",
            "10/10 [==============================] - 0s 9ms/step - loss: 0.1006 - accuracy: 0.9875 - val_loss: 0.4998 - val_accuracy: 0.8750\n",
            "Epoch 15/100\n",
            "10/10 [==============================] - 0s 10ms/step - loss: 0.0507 - accuracy: 1.0000 - val_loss: 0.4597 - val_accuracy: 0.8625\n",
            "Epoch 16/100\n",
            "10/10 [==============================] - 0s 10ms/step - loss: 0.0336 - accuracy: 1.0000 - val_loss: 0.3545 - val_accuracy: 0.9250\n",
            "Epoch 17/100\n",
            "10/10 [==============================] - 0s 9ms/step - loss: 0.0220 - accuracy: 1.0000 - val_loss: 0.3790 - val_accuracy: 0.9125\n",
            "Epoch 18/100\n",
            "10/10 [==============================] - 0s 10ms/step - loss: 0.0140 - accuracy: 1.0000 - val_loss: 0.3773 - val_accuracy: 0.9250\n",
            "Epoch 19/100\n",
            "10/10 [==============================] - 0s 9ms/step - loss: 0.0096 - accuracy: 1.0000 - val_loss: 0.3562 - val_accuracy: 0.9125\n",
            "Epoch 20/100\n",
            "10/10 [==============================] - 0s 9ms/step - loss: 0.0076 - accuracy: 1.0000 - val_loss: 0.3445 - val_accuracy: 0.9250\n",
            "Epoch 21/100\n",
            "10/10 [==============================] - 0s 10ms/step - loss: 0.0065 - accuracy: 1.0000 - val_loss: 0.3457 - val_accuracy: 0.9375\n",
            "Epoch 22/100\n",
            "10/10 [==============================] - 0s 9ms/step - loss: 0.0057 - accuracy: 1.0000 - val_loss: 0.3449 - val_accuracy: 0.9375\n",
            "Epoch 23/100\n",
            "10/10 [==============================] - 0s 9ms/step - loss: 0.0051 - accuracy: 1.0000 - val_loss: 0.3480 - val_accuracy: 0.9250\n",
            "Epoch 24/100\n",
            "10/10 [==============================] - 0s 9ms/step - loss: 0.0045 - accuracy: 1.0000 - val_loss: 0.3418 - val_accuracy: 0.9375\n",
            "Epoch 25/100\n",
            "10/10 [==============================] - 0s 10ms/step - loss: 0.0040 - accuracy: 1.0000 - val_loss: 0.3309 - val_accuracy: 0.9375\n",
            "Epoch 26/100\n",
            "10/10 [==============================] - 0s 9ms/step - loss: 0.0036 - accuracy: 1.0000 - val_loss: 0.3403 - val_accuracy: 0.9375\n",
            "Epoch 27/100\n",
            "10/10 [==============================] - 0s 10ms/step - loss: 0.0032 - accuracy: 1.0000 - val_loss: 0.3401 - val_accuracy: 0.9375\n",
            "Epoch 28/100\n",
            "10/10 [==============================] - 0s 10ms/step - loss: 0.0029 - accuracy: 1.0000 - val_loss: 0.3456 - val_accuracy: 0.9375\n",
            "Epoch 29/100\n",
            "10/10 [==============================] - 0s 9ms/step - loss: 0.0026 - accuracy: 1.0000 - val_loss: 0.3454 - val_accuracy: 0.9375\n",
            "Epoch 30/100\n",
            "10/10 [==============================] - 0s 9ms/step - loss: 0.0023 - accuracy: 1.0000 - val_loss: 0.3417 - val_accuracy: 0.9375\n",
            "Epoch 31/100\n",
            "10/10 [==============================] - 0s 9ms/step - loss: 0.0022 - accuracy: 1.0000 - val_loss: 0.3410 - val_accuracy: 0.9125\n",
            "Epoch 32/100\n",
            "10/10 [==============================] - 0s 11ms/step - loss: 0.0019 - accuracy: 1.0000 - val_loss: 0.3435 - val_accuracy: 0.9375\n",
            "Epoch 33/100\n",
            "10/10 [==============================] - 0s 9ms/step - loss: 0.0017 - accuracy: 1.0000 - val_loss: 0.3376 - val_accuracy: 0.9375\n",
            "Epoch 34/100\n",
            "10/10 [==============================] - 0s 8ms/step - loss: 0.0015 - accuracy: 1.0000 - val_loss: 0.3386 - val_accuracy: 0.9250\n",
            "Epoch 35/100\n",
            "10/10 [==============================] - 0s 9ms/step - loss: 0.0014 - accuracy: 1.0000 - val_loss: 0.3407 - val_accuracy: 0.9250\n",
            "Epoch 36/100\n",
            "10/10 [==============================] - 0s 9ms/step - loss: 0.0012 - accuracy: 1.0000 - val_loss: 0.3345 - val_accuracy: 0.9375\n",
            "Epoch 37/100\n",
            "10/10 [==============================] - 0s 11ms/step - loss: 0.0011 - accuracy: 1.0000 - val_loss: 0.3414 - val_accuracy: 0.9375\n",
            "Epoch 38/100\n",
            "10/10 [==============================] - 0s 11ms/step - loss: 0.0010 - accuracy: 1.0000 - val_loss: 0.3413 - val_accuracy: 0.9250\n",
            "Epoch 39/100\n",
            "10/10 [==============================] - 0s 9ms/step - loss: 9.3268e-04 - accuracy: 1.0000 - val_loss: 0.3399 - val_accuracy: 0.9375\n",
            "Epoch 40/100\n",
            "10/10 [==============================] - 0s 11ms/step - loss: 8.4483e-04 - accuracy: 1.0000 - val_loss: 0.3427 - val_accuracy: 0.9375\n",
            "Epoch 41/100\n",
            "10/10 [==============================] - 0s 9ms/step - loss: 7.6782e-04 - accuracy: 1.0000 - val_loss: 0.3401 - val_accuracy: 0.9250\n",
            "Epoch 42/100\n",
            "10/10 [==============================] - 0s 10ms/step - loss: 7.0435e-04 - accuracy: 1.0000 - val_loss: 0.3385 - val_accuracy: 0.9250\n",
            "Epoch 43/100\n",
            "10/10 [==============================] - 0s 9ms/step - loss: 6.4456e-04 - accuracy: 1.0000 - val_loss: 0.3397 - val_accuracy: 0.9375\n",
            "Epoch 44/100\n",
            "10/10 [==============================] - 0s 10ms/step - loss: 5.9407e-04 - accuracy: 1.0000 - val_loss: 0.3327 - val_accuracy: 0.9375\n",
            "Epoch 45/100\n",
            "10/10 [==============================] - 0s 9ms/step - loss: 5.4311e-04 - accuracy: 1.0000 - val_loss: 0.3376 - val_accuracy: 0.9250\n",
            "Epoch 46/100\n",
            "10/10 [==============================] - 0s 10ms/step - loss: 5.0540e-04 - accuracy: 1.0000 - val_loss: 0.3472 - val_accuracy: 0.9375\n",
            "Epoch 47/100\n",
            "10/10 [==============================] - 0s 10ms/step - loss: 4.6413e-04 - accuracy: 1.0000 - val_loss: 0.3398 - val_accuracy: 0.9250\n",
            "Epoch 48/100\n",
            "10/10 [==============================] - 0s 10ms/step - loss: 4.3290e-04 - accuracy: 1.0000 - val_loss: 0.3410 - val_accuracy: 0.9375\n",
            "Epoch 49/100\n",
            "10/10 [==============================] - 0s 9ms/step - loss: 4.0045e-04 - accuracy: 1.0000 - val_loss: 0.3416 - val_accuracy: 0.9375\n",
            "Epoch 50/100\n",
            "10/10 [==============================] - 0s 9ms/step - loss: 3.7524e-04 - accuracy: 1.0000 - val_loss: 0.3436 - val_accuracy: 0.9375\n",
            "Epoch 51/100\n",
            "10/10 [==============================] - 0s 10ms/step - loss: 3.4945e-04 - accuracy: 1.0000 - val_loss: 0.3403 - val_accuracy: 0.9375\n",
            "Epoch 52/100\n",
            "10/10 [==============================] - 0s 10ms/step - loss: 3.2500e-04 - accuracy: 1.0000 - val_loss: 0.3435 - val_accuracy: 0.9375\n",
            "Epoch 53/100\n",
            "10/10 [==============================] - 0s 10ms/step - loss: 3.0531e-04 - accuracy: 1.0000 - val_loss: 0.3431 - val_accuracy: 0.9375\n",
            "Epoch 54/100\n",
            "10/10 [==============================] - 0s 9ms/step - loss: 2.8636e-04 - accuracy: 1.0000 - val_loss: 0.3404 - val_accuracy: 0.9375\n",
            "Epoch 55/100\n",
            "10/10 [==============================] - 0s 9ms/step - loss: 2.6852e-04 - accuracy: 1.0000 - val_loss: 0.3473 - val_accuracy: 0.9375\n",
            "Epoch 56/100\n",
            "10/10 [==============================] - 0s 9ms/step - loss: 2.5209e-04 - accuracy: 1.0000 - val_loss: 0.3506 - val_accuracy: 0.9375\n",
            "Epoch 57/100\n",
            "10/10 [==============================] - 0s 9ms/step - loss: 2.3723e-04 - accuracy: 1.0000 - val_loss: 0.3422 - val_accuracy: 0.9375\n",
            "Epoch 58/100\n",
            "10/10 [==============================] - 0s 10ms/step - loss: 2.2421e-04 - accuracy: 1.0000 - val_loss: 0.3443 - val_accuracy: 0.9375\n",
            "Epoch 59/100\n",
            "10/10 [==============================] - 0s 10ms/step - loss: 2.1175e-04 - accuracy: 1.0000 - val_loss: 0.3461 - val_accuracy: 0.9375\n",
            "Epoch 60/100\n",
            "10/10 [==============================] - 0s 10ms/step - loss: 2.0033e-04 - accuracy: 1.0000 - val_loss: 0.3442 - val_accuracy: 0.9375\n",
            "Epoch 61/100\n",
            "10/10 [==============================] - 0s 9ms/step - loss: 1.9130e-04 - accuracy: 1.0000 - val_loss: 0.3479 - val_accuracy: 0.9375\n",
            "Epoch 62/100\n",
            "10/10 [==============================] - 0s 10ms/step - loss: 1.8120e-04 - accuracy: 1.0000 - val_loss: 0.3498 - val_accuracy: 0.9375\n",
            "Epoch 63/100\n",
            "10/10 [==============================] - 0s 9ms/step - loss: 1.7182e-04 - accuracy: 1.0000 - val_loss: 0.3462 - val_accuracy: 0.9375\n",
            "Epoch 64/100\n",
            "10/10 [==============================] - 0s 9ms/step - loss: 1.6339e-04 - accuracy: 1.0000 - val_loss: 0.3426 - val_accuracy: 0.9375\n",
            "Epoch 65/100\n",
            "10/10 [==============================] - 0s 9ms/step - loss: 1.5497e-04 - accuracy: 1.0000 - val_loss: 0.3493 - val_accuracy: 0.9375\n",
            "Epoch 66/100\n",
            "10/10 [==============================] - 0s 9ms/step - loss: 1.4840e-04 - accuracy: 1.0000 - val_loss: 0.3527 - val_accuracy: 0.9375\n",
            "Epoch 67/100\n",
            "10/10 [==============================] - 0s 9ms/step - loss: 1.4100e-04 - accuracy: 1.0000 - val_loss: 0.3545 - val_accuracy: 0.9375\n",
            "Epoch 68/100\n",
            "10/10 [==============================] - 0s 10ms/step - loss: 1.3465e-04 - accuracy: 1.0000 - val_loss: 0.3473 - val_accuracy: 0.9375\n",
            "Epoch 69/100\n",
            "10/10 [==============================] - 0s 9ms/step - loss: 1.2890e-04 - accuracy: 1.0000 - val_loss: 0.3493 - val_accuracy: 0.9375\n",
            "Epoch 70/100\n",
            "10/10 [==============================] - 0s 10ms/step - loss: 1.2363e-04 - accuracy: 1.0000 - val_loss: 0.3532 - val_accuracy: 0.9375\n",
            "Epoch 71/100\n",
            "10/10 [==============================] - 0s 9ms/step - loss: 1.1789e-04 - accuracy: 1.0000 - val_loss: 0.3538 - val_accuracy: 0.9375\n",
            "Epoch 72/100\n",
            "10/10 [==============================] - 0s 10ms/step - loss: 1.1377e-04 - accuracy: 1.0000 - val_loss: 0.3534 - val_accuracy: 0.9375\n",
            "Epoch 73/100\n",
            "10/10 [==============================] - 0s 9ms/step - loss: 1.0821e-04 - accuracy: 1.0000 - val_loss: 0.3573 - val_accuracy: 0.9375\n",
            "Epoch 74/100\n",
            "10/10 [==============================] - 0s 9ms/step - loss: 1.0410e-04 - accuracy: 1.0000 - val_loss: 0.3527 - val_accuracy: 0.9375\n",
            "Epoch 75/100\n",
            "10/10 [==============================] - 0s 10ms/step - loss: 9.9872e-05 - accuracy: 1.0000 - val_loss: 0.3522 - val_accuracy: 0.9375\n",
            "Epoch 76/100\n",
            "10/10 [==============================] - 0s 10ms/step - loss: 9.6036e-05 - accuracy: 1.0000 - val_loss: 0.3532 - val_accuracy: 0.9375\n",
            "Epoch 77/100\n",
            "10/10 [==============================] - 0s 11ms/step - loss: 9.2251e-05 - accuracy: 1.0000 - val_loss: 0.3543 - val_accuracy: 0.9375\n",
            "Epoch 78/100\n",
            "10/10 [==============================] - 0s 9ms/step - loss: 8.9316e-05 - accuracy: 1.0000 - val_loss: 0.3537 - val_accuracy: 0.9375\n",
            "Epoch 79/100\n",
            "10/10 [==============================] - 0s 9ms/step - loss: 8.5798e-05 - accuracy: 1.0000 - val_loss: 0.3518 - val_accuracy: 0.9375\n",
            "Epoch 80/100\n",
            "10/10 [==============================] - 0s 9ms/step - loss: 8.2299e-05 - accuracy: 1.0000 - val_loss: 0.3566 - val_accuracy: 0.9375\n",
            "Epoch 81/100\n",
            "10/10 [==============================] - 0s 9ms/step - loss: 7.9802e-05 - accuracy: 1.0000 - val_loss: 0.3616 - val_accuracy: 0.9375\n",
            "Epoch 82/100\n",
            "10/10 [==============================] - 0s 10ms/step - loss: 7.7260e-05 - accuracy: 1.0000 - val_loss: 0.3581 - val_accuracy: 0.9375\n",
            "Epoch 83/100\n",
            "10/10 [==============================] - 0s 9ms/step - loss: 7.4113e-05 - accuracy: 1.0000 - val_loss: 0.3552 - val_accuracy: 0.9375\n",
            "Epoch 84/100\n",
            "10/10 [==============================] - 0s 10ms/step - loss: 7.1976e-05 - accuracy: 1.0000 - val_loss: 0.3534 - val_accuracy: 0.9375\n",
            "Epoch 85/100\n",
            "10/10 [==============================] - 0s 9ms/step - loss: 6.9234e-05 - accuracy: 1.0000 - val_loss: 0.3560 - val_accuracy: 0.9375\n",
            "Epoch 86/100\n",
            "10/10 [==============================] - 0s 9ms/step - loss: 6.7258e-05 - accuracy: 1.0000 - val_loss: 0.3598 - val_accuracy: 0.9375\n",
            "Epoch 87/100\n",
            "10/10 [==============================] - 0s 9ms/step - loss: 6.5285e-05 - accuracy: 1.0000 - val_loss: 0.3605 - val_accuracy: 0.9375\n",
            "Epoch 88/100\n",
            "10/10 [==============================] - 0s 9ms/step - loss: 6.3002e-05 - accuracy: 1.0000 - val_loss: 0.3593 - val_accuracy: 0.9375\n",
            "Epoch 89/100\n",
            "10/10 [==============================] - 0s 9ms/step - loss: 6.1111e-05 - accuracy: 1.0000 - val_loss: 0.3610 - val_accuracy: 0.9375\n",
            "Epoch 90/100\n",
            "10/10 [==============================] - 0s 9ms/step - loss: 5.9120e-05 - accuracy: 1.0000 - val_loss: 0.3616 - val_accuracy: 0.9375\n",
            "Epoch 91/100\n",
            "10/10 [==============================] - 0s 9ms/step - loss: 5.7265e-05 - accuracy: 1.0000 - val_loss: 0.3596 - val_accuracy: 0.9375\n",
            "Epoch 92/100\n",
            "10/10 [==============================] - 0s 10ms/step - loss: 5.5844e-05 - accuracy: 1.0000 - val_loss: 0.3600 - val_accuracy: 0.9375\n",
            "Epoch 93/100\n",
            "10/10 [==============================] - 0s 11ms/step - loss: 5.4084e-05 - accuracy: 1.0000 - val_loss: 0.3604 - val_accuracy: 0.9375\n",
            "Epoch 94/100\n",
            "10/10 [==============================] - 0s 10ms/step - loss: 5.2585e-05 - accuracy: 1.0000 - val_loss: 0.3630 - val_accuracy: 0.9375\n",
            "Epoch 95/100\n",
            "10/10 [==============================] - 0s 9ms/step - loss: 5.1057e-05 - accuracy: 1.0000 - val_loss: 0.3620 - val_accuracy: 0.9375\n",
            "Epoch 96/100\n",
            "10/10 [==============================] - 0s 10ms/step - loss: 4.9824e-05 - accuracy: 1.0000 - val_loss: 0.3618 - val_accuracy: 0.9375\n",
            "Epoch 97/100\n",
            "10/10 [==============================] - 0s 10ms/step - loss: 4.8163e-05 - accuracy: 1.0000 - val_loss: 0.3633 - val_accuracy: 0.9375\n",
            "Epoch 98/100\n",
            "10/10 [==============================] - 0s 9ms/step - loss: 4.7033e-05 - accuracy: 1.0000 - val_loss: 0.3632 - val_accuracy: 0.9375\n",
            "Epoch 99/100\n",
            "10/10 [==============================] - 0s 10ms/step - loss: 4.5607e-05 - accuracy: 1.0000 - val_loss: 0.3636 - val_accuracy: 0.9375\n",
            "Epoch 100/100\n",
            "10/10 [==============================] - 0s 10ms/step - loss: 4.4528e-05 - accuracy: 1.0000 - val_loss: 0.3661 - val_accuracy: 0.9375\n"
          ]
        },
        {
          "output_type": "execute_result",
          "data": {
            "text/plain": [
              "<keras.callbacks.History at 0x7f3af01efb50>"
            ]
          },
          "metadata": {},
          "execution_count": 41
        }
      ]
    },
    {
      "cell_type": "code",
      "source": [],
      "metadata": {
        "id": "pesrWz5M4j_U"
      },
      "execution_count": null,
      "outputs": []
    }
  ]
}